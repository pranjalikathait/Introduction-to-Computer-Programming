{
  "nbformat": 4,
  "nbformat_minor": 0,
  "metadata": {
    "colab": {
      "provenance": [],
      "authorship_tag": "ABX9TyPD/Kfqb/KL7Knt9ZZFTzOM",
      "include_colab_link": true
    },
    "kernelspec": {
      "name": "python3",
      "display_name": "Python 3"
    },
    "language_info": {
      "name": "python"
    }
  },
  "cells": [
    {
      "cell_type": "markdown",
      "metadata": {
        "id": "view-in-github",
        "colab_type": "text"
      },
      "source": [
        "<a href=\"https://colab.research.google.com/github/pranjalikathait/Introduction-to-Computer-Programming/blob/main/introduction_to_python_programming.ipynb\" target=\"_parent\"><img src=\"https://colab.research.google.com/assets/colab-badge.svg\" alt=\"Open In Colab\"/></a>"
      ]
    },
    {
      "cell_type": "markdown",
      "source": [
        "**1. About the Project:**\n",
        "\n",
        "The Introduction to Computer Programming project is designed to evaluate your understanding and practical application of fundamental programming concepts using Python. This assessment encompasses various topics, including data types, indexing, slicing, operators, in-built functions, statements, conditionals, loops, object-oriented programming, and exception handling. In addition, you will showcase your ability to create custom functions and tackle advanced looping concepts.\n",
        "\n",
        "**2. Skills Required:**\n",
        "\n",
        "  To successfully complete this project assessment, you should possess the following skills and knowledge:\n",
        "- Proficiency in Python programming language\n",
        "- Understanding of data types, indexing, and slicing in Python\n",
        "- Familiarity with operators, in-built functions, and methods\n",
        "- Ability to work with statements, indentation, and conditionals\n",
        "- Competence in implementing loops and iterations, including conditional and infinite looping\n",
        "- Mastery of creating and utilizing custom functions in Python\n",
        "- Knowledge of advanced looping concepts\n",
        "- Understanding of object-oriented programming (OOPs) principles in Python\n",
        "- Ability to handle exceptions in your code\n"
      ],
      "metadata": {
        "id": "YdIuFUKMdbuH"
      }
    },
    {
      "cell_type": "markdown",
      "source": [
        "# **CodeStorm Challenge: Solving and Explaining Complex Coding Problems**"
      ],
      "metadata": {
        "id": "zshdKA7OduQY"
      }
    },
    {
      "cell_type": "markdown",
      "source": [
        "**Problem Statement:**\n",
        "\n",
        "The CodeStorm Challenge is an intense coding competition designed to test participants' programming skills, problem-solving abilities, and communication prowess. In this challenge, participants will be required to solve a total of 30 intricate coding questions that cover a wide range of algorithms, data structures, and programming paradigms. Additionally, participants are tasked with creating an explanatory video that delves into the solutions of any five chosen questions.\n",
        "\n",
        "The challenge aims to evaluate participants on their coding efficiency, algorithmic thinking, and presentation skills."
      ],
      "metadata": {
        "id": "D2n14P-ueBGy"
      }
    },
    {
      "cell_type": "markdown",
      "source": [
        "# **Introduction to Python Programming**"
      ],
      "metadata": {
        "id": "QY0psSgkfTDr"
      }
    },
    {
      "cell_type": "markdown",
      "source": [
        "## Score Board Operator\n",
        "An operator working behind the scoreboard of a inter cohort AlmaBetter cricket tournament, is responsible for updating the scores and points of each team. However, the operator is currently facing a challenge. He has been tasked with updating the total number of points gained by Team London, but he does not possess the necessary programming skills to complete this task.\n",
        "According to the tournament's rules, teams are awarded the following points based on the outcome of a match:\n",
        "\n",
        "* wins: 3 points\n",
        "* draws: 1 point\n",
        "* losses: 0 points\n",
        "\n",
        "\n",
        "\n",
        "\n",
        "Team London has played **8 matches** in this tournament. They won **4 matches**, lost **3 matches** and **drew 1**.\n",
        "The operator is in need of assistance to calculate the total number of points earned by Team London. As a python expert adept with knowledge of integer, floats and boolean, you can help the operator by writing a solution for the following problem.\n",
        "\n",
        "What would your approach be?"
      ],
      "metadata": {
        "id": "8MUgfkASfXII"
      }
    },
    {
      "cell_type": "code",
      "source": [
        "#1. Define your fixed values:\n",
        "wins=3\n",
        "draws=1\n",
        "losses=0"
      ],
      "metadata": {
        "id": "9u8CqXiqfhza"
      },
      "execution_count": 1,
      "outputs": []
    },
    {
      "cell_type": "code",
      "source": [
        "#2. Calculate the total points gained by Team London\n",
        "london_points=4*wins+1*draws+3*losses"
      ],
      "metadata": {
        "id": "EOBcFV2hfnzl"
      },
      "execution_count": 2,
      "outputs": []
    },
    {
      "cell_type": "code",
      "source": [
        "# 3. Print the variable london_points\n",
        "print(london_points)"
      ],
      "metadata": {
        "colab": {
          "base_uri": "https://localhost:8080/"
        },
        "id": "Mjd1kGBQfqY7",
        "outputId": "fc52f748-e47d-4177-eb7c-fd4e30a12c72"
      },
      "execution_count": 3,
      "outputs": [
        {
          "output_type": "stream",
          "name": "stdout",
          "text": [
            "13\n"
          ]
        }
      ]
    },
    {
      "cell_type": "markdown",
      "source": [
        "## Nutrition bar ingredient chart\n",
        "\n",
        "Imagine you are a data analyst at a nutrition bar manufacturing company. Your department head approaches you with a question. The company produces a nutrition bar that contains **45g of raisins, 65g of almonds, and 30g of apricots**. The head of the manufacturing department wants you to create an ingredient percentage list for the nutrition bar using python.\n",
        "\n",
        "Equipped with the knowledge of int, float and booleans in python, how would you approach this situation?"
      ],
      "metadata": {
        "id": "opVdyMlhfvWa"
      }
    },
    {
      "cell_type": "code",
      "source": [
        "# Calculate the percentage of raisins and print the variable\n",
        "raisins= 45\n",
        "almonds= 65\n",
        "apricots=30"
      ],
      "metadata": {
        "id": "lWwwLuYJfyeE"
      },
      "execution_count": 4,
      "outputs": []
    },
    {
      "cell_type": "code",
      "source": [
        "# Calculate the percentage of almonds and print the variable\n",
        "almonds_percentage=almonds*100/(raisins+almonds+apricots)\n",
        "print(almonds_percentage)"
      ],
      "metadata": {
        "colab": {
          "base_uri": "https://localhost:8080/"
        },
        "id": "RtD4E7aGf1Li",
        "outputId": "6dc5dd2e-7dfa-461a-e0c1-b5eba0101df2"
      },
      "execution_count": 5,
      "outputs": [
        {
          "output_type": "stream",
          "name": "stdout",
          "text": [
            "46.42857142857143\n"
          ]
        }
      ]
    },
    {
      "cell_type": "code",
      "source": [
        "# Calculate the percentage of apricots and print the variable\n",
        "apricots_percentage=apricots*100/(raisins+almonds+apricots)\n",
        "print(apricots_percentage)\n"
      ],
      "metadata": {
        "colab": {
          "base_uri": "https://localhost:8080/"
        },
        "id": "EwxPObO5f3Uz",
        "outputId": "d66d24bc-6348-4a9b-c500-3158e7094919"
      },
      "execution_count": 6,
      "outputs": [
        {
          "output_type": "stream",
          "name": "stdout",
          "text": [
            "21.428571428571427\n"
          ]
        }
      ]
    },
    {
      "cell_type": "markdown",
      "source": [
        "## Measuring the Accuracy of a Disease Detection Model- Optional\n",
        "\n",
        "If you're not impressed with these usecases yet, understand that you're just getting started with python. Going forward as a data scientist, you'll be using what you've learned to design machine learning models that just might even save lives!!\n",
        "\n",
        "Let's say you have created a machine learning model to detect diseases in patients based on their symptoms and medical history. The model has been tested on a dataset of **100 patients**, including **30 with diabetes**, **45 with heart disease**, and **25 with cancer**.\n",
        "The model's performance was evaluated in three rounds.\n",
        "In the first round, the model correctly **detected diabetes in 25 out of the 30 patients** with the disease.\n",
        "In the second round, the model correctly detected **heart disease in 35 out of the 45 patients** with the disease.\n",
        "In the final round, the model correctly **detected cancer in 20 out of the 25 patients** with the disease.\n",
        "\n",
        "The model's accuracy is defined as the percentage of correctly detected cases out of the total number of patient\n",
        "\n",
        "Assess how accurate your model is across these 3 diseases."
      ],
      "metadata": {
        "id": "amQJu9ksf66b"
      }
    },
    {
      "cell_type": "code",
      "source": [
        "# Store the number of heart disease patients\n",
        "heartdisease_patients=45\n",
        "\n",
        "# Store the number of diabetes patients\n",
        "diabetes_patients=30\n",
        "\n",
        "# Store the number of cancer patients\n",
        "cancer_patients=25\n",
        "\n",
        "# Store the number of your correct guesses of heart disease patients\n",
        "correct_heartdisease_patients=35\n",
        "\n",
        "# Store the number of your correct guesses of diabetes patients\n",
        "correct_diabetes_patients=25\n",
        "\n",
        "# Store the number of your correct guesses of cancer patients\n",
        "correct_cancer_patients=20"
      ],
      "metadata": {
        "id": "VtdjxSAfgBSJ"
      },
      "execution_count": 7,
      "outputs": []
    },
    {
      "cell_type": "markdown",
      "source": [
        "#### Calculate your accuracy in each of the three cases"
      ],
      "metadata": {
        "id": "oIhUGJBigHZs"
      }
    },
    {
      "cell_type": "code",
      "source": [
        "# Print the heart disease detection accuracy\n",
        "heartdisease_accuracy=correct_heartdisease_patients*100/heartdisease_patients\n",
        "print(heartdisease_accuracy)"
      ],
      "metadata": {
        "colab": {
          "base_uri": "https://localhost:8080/"
        },
        "id": "IY5uu9ecgJ-T",
        "outputId": "8cb61d49-ab15-4a7b-cd2e-aeaed293c629"
      },
      "execution_count": 8,
      "outputs": [
        {
          "output_type": "stream",
          "name": "stdout",
          "text": [
            "77.77777777777777\n"
          ]
        }
      ]
    },
    {
      "cell_type": "code",
      "source": [
        "# Print the diabetes detection accuracy\n",
        "diabetes_accuracy=correct_diabetes_patients*100/diabetes_patients\n",
        "print(diabetes_accuracy)"
      ],
      "metadata": {
        "colab": {
          "base_uri": "https://localhost:8080/"
        },
        "id": "_UbYUiTfgM_c",
        "outputId": "0c0e2828-d9bb-41fa-a3e4-c06e59a91500"
      },
      "execution_count": 9,
      "outputs": [
        {
          "output_type": "stream",
          "name": "stdout",
          "text": [
            "83.33333333333333\n"
          ]
        }
      ]
    },
    {
      "cell_type": "code",
      "source": [
        "# Print the cancer detection accuracy\n",
        "cancer_accuracy=correct_cancer_patients*100/cancer_patients\n",
        "print(cancer_accuracy)\n"
      ],
      "metadata": {
        "colab": {
          "base_uri": "https://localhost:8080/"
        },
        "id": "idyCVWG-gPT1",
        "outputId": "1217aec0-1b2d-442b-b713-0215cf992f39"
      },
      "execution_count": 10,
      "outputs": [
        {
          "output_type": "stream",
          "name": "stdout",
          "text": [
            "80.0\n"
          ]
        }
      ]
    },
    {
      "cell_type": "code",
      "source": [
        "# Print the overall accuracy of your model\n",
        "overall_accuracy=(heartdisease_accuracy+diabetes_accuracy+cancer_accuracy)/3\n",
        "print(overall_accuracy)\n",
        "#OR\n",
        "overallaccuracy=(correct_heartdisease_patients+correct_diabetes_patients+correct_cancer_patients)*100/(heartdisease_patients+diabetes_patients+cancer_patients)\n",
        "print(overallaccuracy)"
      ],
      "metadata": {
        "colab": {
          "base_uri": "https://localhost:8080/"
        },
        "id": "1yE5raUHgT_u",
        "outputId": "8bf54ee4-e01f-43ab-8dec-1f4a51e659e6"
      },
      "execution_count": 11,
      "outputs": [
        {
          "output_type": "stream",
          "name": "stdout",
          "text": [
            "80.37037037037037\n",
            "80.0\n"
          ]
        }
      ]
    },
    {
      "cell_type": "markdown",
      "source": [
        "# **Data Types in Python**"
      ],
      "metadata": {
        "id": "BLr5tHcMgalq"
      }
    },
    {
      "cell_type": "markdown",
      "source": [
        "## Solving Algebra the Cool Way 😎"
      ],
      "metadata": {
        "id": "jNzumdSvgewg"
      }
    },
    {
      "cell_type": "markdown",
      "source": [
        "You must remember the algebraic equations and functions you came across during your school days. If you do, you also must remember how tedious it was to do solve them manually. 😫\n",
        "Consider a quadratic function:\n",
        "\n",
        "***f(x)=x^2+3x-4***\n",
        "\n",
        "Find the value of f(x) at x =3 , x=-2, and x=4\n",
        "\n",
        "Doing this manually like the old days would be a tedious job 😞. But now you have python at your disposal 🙂 !\n",
        "How would you approach this problem using what you have learned?\n"
      ],
      "metadata": {
        "id": "qU9Ea9KYgi7v"
      }
    },
    {
      "cell_type": "code",
      "source": [
        "# Calculate the value of the function f(x) at x = 3\n",
        "x=3\n",
        "func_evaluated_at_3 =x**2+3*x-4\n",
        "print(func_evaluated_at_3)"
      ],
      "metadata": {
        "colab": {
          "base_uri": "https://localhost:8080/"
        },
        "id": "Efi2uq6XgnaW",
        "outputId": "c8d790e5-0ce1-467f-993a-ffccd13fe961"
      },
      "execution_count": 12,
      "outputs": [
        {
          "output_type": "stream",
          "name": "stdout",
          "text": [
            "14\n"
          ]
        }
      ]
    },
    {
      "cell_type": "code",
      "source": [
        "# Calculate the value of the function f(x) at x = -2\n",
        "x=-2\n",
        "func_evaluated_at_minus2 =x**2+3*x-4\n",
        "print(func_evaluated_at_minus2)"
      ],
      "metadata": {
        "colab": {
          "base_uri": "https://localhost:8080/"
        },
        "id": "0QqvVZI8grsW",
        "outputId": "eec707a4-290e-44ce-fc0c-5aa1409eb56f"
      },
      "execution_count": 13,
      "outputs": [
        {
          "output_type": "stream",
          "name": "stdout",
          "text": [
            "-6\n"
          ]
        }
      ]
    },
    {
      "cell_type": "code",
      "source": [
        "# Calculate the value of the function f(x) at x = 4\n",
        "x=4\n",
        "func_evaluated_at_4 =x**2+3*x-4\n",
        "print(func_evaluated_at_4)"
      ],
      "metadata": {
        "colab": {
          "base_uri": "https://localhost:8080/"
        },
        "id": "O1ADTeCRgx1m",
        "outputId": "d89803c1-1c8c-40c5-b8d9-f819b1938789"
      },
      "execution_count": 14,
      "outputs": [
        {
          "output_type": "stream",
          "name": "stdout",
          "text": [
            "24\n"
          ]
        }
      ]
    },
    {
      "cell_type": "code",
      "source": [
        "#Check if func_evaluated_at_3 >= func_evaluated_at_minus2\n",
        "if func_evaluated_at_3 >= func_evaluated_at_minus2:\n",
        "  print(\"Function value at x=3 and x=-2 is not equal\")\n",
        "else:\n",
        "  print(\"Function value at x=3 and x=-2 is not equal\")"
      ],
      "metadata": {
        "colab": {
          "base_uri": "https://localhost:8080/"
        },
        "id": "H4E-Hxnig2Jv",
        "outputId": "cc2db76e-d787-450e-a8ef-3015bd7d8ec8"
      },
      "execution_count": 15,
      "outputs": [
        {
          "output_type": "stream",
          "name": "stdout",
          "text": [
            "Function value at x=3 and x=-2 is not equal\n"
          ]
        }
      ]
    },
    {
      "cell_type": "code",
      "source": [
        "#Check if value of f(x) at 3,-2 or 4 is equal to 0 or not\n",
        "if func_evaluated_at_3==func_evaluated_at_minus2==func_evaluated_at_4==0:\n",
        "  print(\"value of f(x) at 3,-2 or 4 is equal to 0\")\n",
        "else:\n",
        "  print(\"value of f(x) at 3,-2 or 4 is not equal to 0\")"
      ],
      "metadata": {
        "colab": {
          "base_uri": "https://localhost:8080/"
        },
        "id": "8oBSacA_g6yY",
        "outputId": "5eaf4a3d-472d-4fbc-c72c-3d64f09112fc"
      },
      "execution_count": 16,
      "outputs": [
        {
          "output_type": "stream",
          "name": "stdout",
          "text": [
            "value of f(x) at 3,-2 or 4 is not equal to 0\n"
          ]
        }
      ]
    },
    {
      "cell_type": "markdown",
      "source": [
        "## Finding total E's in the Bookshelves\n",
        "\n",
        "In your pursuit of expanding your knowledge of Python, you come across a bookstore in search of books on the subject.\n",
        "\n",
        "There, you meet a salesperson who is also a Python enthusiast!!\n",
        "\n",
        "The salesperson presents you with a challenge - they have a list of five books related to Python and if you can write a program that finds the count of letter 'e', the store will give you a free book of your choice. 😀\n",
        "\n",
        "Are you ready to accept the challenge? 💪"
      ],
      "metadata": {
        "id": "ylaHSdr1g-pw"
      }
    },
    {
      "cell_type": "code",
      "source": [
        "# Here's the list of books\n",
        "books = \"Python for Everyone, Learn Python the Hard Way, Python Crash Course , Starting Out with Python, Automate the Boring Stuff with Python\""
      ],
      "metadata": {
        "id": "1ZxmL1H5hESG"
      },
      "execution_count": 17,
      "outputs": []
    },
    {
      "cell_type": "code",
      "source": [
        "# Store the count of books containing E/e in the title. Note this will be a case insensitive search\n",
        "e_counts =books.count('e')\n",
        "print(\"Count of books containing e in the title:\" ,e_counts)\n",
        "\n",
        "E_counts =books.count('E')\n",
        "print(\"Count of books containing E in the title:\" ,E_counts)\n",
        "total_e_counts =e_counts+E_counts\n",
        "print(\"Count of books containing E/e in the title:\" ,total_e_counts)"
      ],
      "metadata": {
        "colab": {
          "base_uri": "https://localhost:8080/"
        },
        "id": "Jv-qNkbWhItX",
        "outputId": "ec81df64-7b66-46ee-b098-6817a06eb303"
      },
      "execution_count": 18,
      "outputs": [
        {
          "output_type": "stream",
          "name": "stdout",
          "text": [
            "Count of books containing e in the title: 7\n",
            "Count of books containing E in the title: 1\n",
            "Count of books containing E/e in the title: 8\n"
          ]
        }
      ]
    },
    {
      "cell_type": "code",
      "source": [
        "# Print the value\n",
        "print(f\"The total number of 'e's in the list of books is {total_e_counts}\")"
      ],
      "metadata": {
        "colab": {
          "base_uri": "https://localhost:8080/"
        },
        "id": "TO3WYRNQhL2F",
        "outputId": "d4731f99-54ec-40cb-d9d5-9aab35065ce5"
      },
      "execution_count": 19,
      "outputs": [
        {
          "output_type": "stream",
          "name": "stdout",
          "text": [
            "The total number of 'e's in the list of books is 8\n"
          ]
        }
      ]
    },
    {
      "cell_type": "markdown",
      "source": [
        "# **Unleashing the Power of Mean in Exam Analysis**"
      ],
      "metadata": {
        "id": "iMOUYjOihQcU"
      }
    },
    {
      "cell_type": "markdown",
      "source": [
        "When analyzing exam scores, teachers have the power to unlock valuable insights into their students' performance. By using the mean and median, they can get a clear picture of how the class is doing as a whole and identify areas where improvement is needed.\n",
        "\n",
        "The mean score is like a report card for the entire class, showing the average of all exam scores. It gives a good general idea of how the class is doing but can be influenced by a few students with extremely high or low scores.\n",
        "\n",
        "By analysing the mean, teachers can get a complete picture of the class performance and make informed decisions to improve the learning experience for their students. So go ahead and use these powerful tools to take your students' exam scores to the next level! 💪"
      ],
      "metadata": {
        "id": "NOAAt15thWfj"
      }
    },
    {
      "cell_type": "code",
      "source": [
        "# List of student marks\n",
        "\n",
        "marks = [67,87,75,46,89,97,68,98,87,88]"
      ],
      "metadata": {
        "id": "t6Dd-TlwhZ_V"
      },
      "execution_count": 20,
      "outputs": []
    },
    {
      "cell_type": "code",
      "source": [
        "# Calculate the mean of the marks. Use sum() and len() functions\n",
        "mean_marks =sum(marks)/len(marks)"
      ],
      "metadata": {
        "id": "UlFtGFOdhd2z"
      },
      "execution_count": 21,
      "outputs": []
    },
    {
      "cell_type": "code",
      "source": [
        "print(mean_marks)"
      ],
      "metadata": {
        "colab": {
          "base_uri": "https://localhost:8080/"
        },
        "id": "_HzpS29ahiL2",
        "outputId": "802720da-ac5e-427c-dece-55067c7ed9d9"
      },
      "execution_count": 22,
      "outputs": [
        {
          "output_type": "stream",
          "name": "stdout",
          "text": [
            "80.2\n"
          ]
        }
      ]
    },
    {
      "cell_type": "markdown",
      "source": [
        "## John's Fruit Stand Sales Mix-up\n",
        "\n",
        "You must remember from the previous lessons that dictionaries can be used to store values corresponding to a particular key. But how is this helpful to us?\n",
        "\n",
        "Let's look at this scenario:\n",
        "\n",
        "Jim owns a quaint little fruit stand that sells mangoes, bananas, apples, and pineapples. One day, with Jim being tied up, he tasked his son John to manage the shop for a day. Being new to the game, John recorded the sales data in an unconventional way. He wrote down the name of each fruit as many times as it was sold, creating a list like this:\n",
        "\n",
        "**['Mango','Mango','Mango','Pineapple','Pineapple','Pineapple','Apple','Mango','Banana','Apple','Banana','Apple','Pineapple','Apple','Apple','Pineapple','Pineapple']**\n",
        "🤦\n",
        "\n",
        "But, this method is not very efficient or easy to read.\n",
        "\n",
        "Forunately you were there at the shop to grab some apples yourselves, and you saw what John was doing.\n",
        "\n",
        "You can help him out to structure the data by using dictionaries. How?"
      ],
      "metadata": {
        "id": "ZiOhF-mzhrxp"
      }
    },
    {
      "cell_type": "code",
      "source": [
        "#Here's John's list:\n",
        "fruit_list=['Mango','Mango','Mango','Pineapple','Pineapple','Pineapple','Apple','Mango','Banana','Apple','Banana','Apple','Pineapple','Apple','Apple','Pineapple','Pineapple']"
      ],
      "metadata": {
        "id": "1gEriLvOhwNd"
      },
      "execution_count": 23,
      "outputs": []
    },
    {
      "cell_type": "code",
      "source": [
        "# Step 2: Create an empty dictionary which will contain the unique fruit names\n",
        "fruit_dict={}\n",
        "\n",
        "# Set the values for each key separately\n",
        "\n",
        "# First Key\n",
        "fruit_dict['Mango']=fruit_list.count(\"Mango\")\n",
        "\n",
        "# Second Key\n",
        "fruit_dict['Pineapple']=fruit_list.count(\"Pineapple\")\n",
        "\n",
        "# Third Key\n",
        "fruit_dict['Apple']=fruit_list.count(\"Apple\")\n",
        "\n",
        "# Fourth Key\n",
        "fruit_dict['Banana']=fruit_list.count(\"Banana\")"
      ],
      "metadata": {
        "id": "m_j7dFVbh0bU"
      },
      "execution_count": 24,
      "outputs": []
    },
    {
      "cell_type": "code",
      "source": [
        "print(fruit_dict)"
      ],
      "metadata": {
        "colab": {
          "base_uri": "https://localhost:8080/"
        },
        "id": "krCh8Zoqh4Jh",
        "outputId": "7060b266-50a3-44c3-be7c-cfc25a36e856"
      },
      "execution_count": 25,
      "outputs": [
        {
          "output_type": "stream",
          "name": "stdout",
          "text": [
            "{'Mango': 4, 'Pineapple': 6, 'Apple': 5, 'Banana': 2}\n"
          ]
        }
      ]
    },
    {
      "cell_type": "markdown",
      "source": [
        "# **Indexing & Slicing**"
      ],
      "metadata": {
        "id": "u4lpXwkfh8ZC"
      }
    },
    {
      "cell_type": "markdown",
      "source": [
        "## Imagine that you are a superhero movie buff and you're trying to create a list of the most iconic Marvel characters. You have compiled a list of some of the most popular characters, but you want to narrow it down to the top 6.\n",
        "\n",
        "Here's your list of characters:\n",
        "\n",
        "marvel_words = ['Avengers', 'X-Men', 'Spider-Man', 'Iron Man', 'Hulk', 'Thor', 'Black Widow', 'Captain America', 'Wolverine', 'Doctor Strange', 'Namor']"
      ],
      "metadata": {
        "id": "IAe5HRpfh_0l"
      }
    },
    {
      "cell_type": "code",
      "source": [
        "# Here's your list of characters:\n",
        "\n",
        "marvel_words = ['Avengers', 'X-Men', 'Spider-Man', 'Iron Man', 'Hulk', 'Thor', 'Black Widow', 'Captain America', 'Wolverine', 'Doctor Strange', 'Namor']"
      ],
      "metadata": {
        "id": "YLYJACdeiDzY"
      },
      "execution_count": 26,
      "outputs": []
    },
    {
      "cell_type": "markdown",
      "source": [
        "You want to narrow down the list to the last 6 characters in the list. These characters are:\n",
        "\n",
        "* Namor\n",
        "* Doctor Strange\n",
        "* Wolverine\n",
        "* Captain America\n",
        "* Black Widow\n",
        "* Thor"
      ],
      "metadata": {
        "id": "Nh2SrbF_iIEs"
      }
    },
    {
      "cell_type": "markdown",
      "source": [
        "Write a code to slice these characters from the list"
      ],
      "metadata": {
        "id": "A35ZfvPNiLn-"
      }
    },
    {
      "cell_type": "code",
      "source": [
        "l=len(marvel_words)\n",
        "# Replace x with appropriate values\n",
        "new_marvel=marvel_words[l-6:]\n",
        "print(new_marvel)\n",
        "\n",
        "#OR\n",
        "# Replace x with appropriate values\n",
        "new_marvels=marvel_words[5:]\n",
        "print(new_marvels)"
      ],
      "metadata": {
        "colab": {
          "base_uri": "https://localhost:8080/"
        },
        "id": "w2ZHINRtiO6G",
        "outputId": "56e8423b-0ab3-4eeb-cd3e-ceb88fce2830"
      },
      "execution_count": 27,
      "outputs": [
        {
          "output_type": "stream",
          "name": "stdout",
          "text": [
            "['Thor', 'Black Widow', 'Captain America', 'Wolverine', 'Doctor Strange', 'Namor']\n",
            "['Thor', 'Black Widow', 'Captain America', 'Wolverine', 'Doctor Strange', 'Namor']\n"
          ]
        }
      ]
    },
    {
      "cell_type": "markdown",
      "source": [
        "## Create two teams of superheroes based on their index position: one team should consist of all the characters located at even index positions, while the other team should consist of all the characters located at odd index positions."
      ],
      "metadata": {
        "id": "x0XZcGwqiTU8"
      }
    },
    {
      "cell_type": "code",
      "source": [
        "team1=marvel_words[::2]    #characters located at even index positions\n",
        "print(\"Team1 :\",team1)\n",
        "team2=marvel_words[1::2]    #characters located at odd index positions\n",
        "print(\"Team2 :\",team2)"
      ],
      "metadata": {
        "colab": {
          "base_uri": "https://localhost:8080/"
        },
        "id": "Qj-2PGyqiWT-",
        "outputId": "8920b394-c7d3-4fc4-c891-084e7fbfb0b0"
      },
      "execution_count": 28,
      "outputs": [
        {
          "output_type": "stream",
          "name": "stdout",
          "text": [
            "Team1 : ['Avengers', 'Spider-Man', 'Hulk', 'Black Widow', 'Wolverine', 'Namor']\n",
            "Team2 : ['X-Men', 'Iron Man', 'Thor', 'Captain America', 'Doctor Strange']\n"
          ]
        }
      ]
    },
    {
      "cell_type": "markdown",
      "source": [
        "###3. Store the word 'Spider-Man' in a new variable, and slice the word 'Spider' from it."
      ],
      "metadata": {
        "id": "O47FFhHDibHL"
      }
    },
    {
      "cell_type": "code",
      "source": [
        "spider_man=marvel_words[2] # Add appropriate index number\n",
        "spidey_sliced=spider_man[0:6] # Add appropriate index number\n",
        "print(spidey_sliced)"
      ],
      "metadata": {
        "colab": {
          "base_uri": "https://localhost:8080/"
        },
        "id": "x242X4VWid8t",
        "outputId": "a3df8e28-159b-4900-8083-6ce197aca815"
      },
      "execution_count": 29,
      "outputs": [
        {
          "output_type": "stream",
          "name": "stdout",
          "text": [
            "Spider\n"
          ]
        }
      ]
    },
    {
      "cell_type": "markdown",
      "source": [
        "###4. Store the word 'Iron-Man' in a variable and use reverse indexing to reverse it."
      ],
      "metadata": {
        "id": "XWmvreDXiiRb"
      }
    },
    {
      "cell_type": "code",
      "source": [
        "iron_man=marvel_words[3]\n",
        "reversed_man=iron_man[::-1]\n",
        "print(reversed_man)"
      ],
      "metadata": {
        "colab": {
          "base_uri": "https://localhost:8080/"
        },
        "id": "zqIykKDyilCn",
        "outputId": "ea7deb2f-882b-413b-f0cd-34ab39360a62"
      },
      "execution_count": 30,
      "outputs": [
        {
          "output_type": "stream",
          "name": "stdout",
          "text": [
            "naM norI\n"
          ]
        }
      ]
    },
    {
      "cell_type": "markdown",
      "source": [
        "# **Operators in Data Types**"
      ],
      "metadata": {
        "id": "0b1LfRO5ip1W"
      }
    },
    {
      "cell_type": "markdown",
      "source": [
        "## 🎉 Let's do some math!\n",
        "\n",
        "* 📐 First up, let's calculate the area of a square with sides that measure 5 cm. 🤔 How much space does this shape occupy?\n",
        "\n",
        "* 🔍 Next, let's find the volume of a cube with sides that measure 12 cm. 📏 How much room does this shape take up?\n",
        "\n",
        "* 🔢 Lastly, we'll find the quotient and remainder when we divide 10 by 4. 🧐 How many times does 4 fit into 10? What's left over?"
      ],
      "metadata": {
        "id": "7C9g8oNvi3av"
      }
    }
  ]
}