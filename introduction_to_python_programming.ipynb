{
  "nbformat": 4,
  "nbformat_minor": 0,
  "metadata": {
    "colab": {
      "provenance": [],
      "authorship_tag": "ABX9TyNaVswC2I3+zxrMOevo71WZ",
      "include_colab_link": true
    },
    "kernelspec": {
      "name": "python3",
      "display_name": "Python 3"
    },
    "language_info": {
      "name": "python"
    }
  },
  "cells": [
    {
      "cell_type": "markdown",
      "metadata": {
        "id": "view-in-github",
        "colab_type": "text"
      },
      "source": [
        "<a href=\"https://colab.research.google.com/github/pranjalikathait/Introduction-to-Computer-Programming/blob/main/introduction_to_python_programming.ipynb\" target=\"_parent\"><img src=\"https://colab.research.google.com/assets/colab-badge.svg\" alt=\"Open In Colab\"/></a>"
      ]
    },
    {
      "cell_type": "markdown",
      "source": [
        "**1. About the Project:**\n",
        "\n",
        "The Introduction to Computer Programming project is designed to evaluate your understanding and practical application of fundamental programming concepts using Python. This assessment encompasses various topics, including data types, indexing, slicing, operators, in-built functions, statements, conditionals, loops, object-oriented programming, and exception handling. In addition, you will showcase your ability to create custom functions and tackle advanced looping concepts.\n",
        "\n",
        "**2. Skills Required:**\n",
        "\n",
        "  To successfully complete this project assessment, you should possess the following skills and knowledge:\n",
        "- Proficiency in Python programming language\n",
        "- Understanding of data types, indexing, and slicing in Python\n",
        "- Familiarity with operators, in-built functions, and methods\n",
        "- Ability to work with statements, indentation, and conditionals\n",
        "- Competence in implementing loops and iterations, including conditional and infinite looping\n",
        "- Mastery of creating and utilizing custom functions in Python\n",
        "- Knowledge of advanced looping concepts\n",
        "- Understanding of object-oriented programming (OOPs) principles in Python\n",
        "- Ability to handle exceptions in your code\n"
      ],
      "metadata": {
        "id": "YdIuFUKMdbuH"
      }
    },
    {
      "cell_type": "markdown",
      "source": [
        "# **CodeStorm Challenge: Solving and Explaining Complex Coding Problems**"
      ],
      "metadata": {
        "id": "zshdKA7OduQY"
      }
    },
    {
      "cell_type": "markdown",
      "source": [
        "**Problem Statement:**\n",
        "\n",
        "The CodeStorm Challenge is an intense coding competition designed to test participants' programming skills, problem-solving abilities, and communication prowess. In this challenge, participants will be required to solve a total of 30 intricate coding questions that cover a wide range of algorithms, data structures, and programming paradigms. Additionally, participants are tasked with creating an explanatory video that delves into the solutions of any five chosen questions.\n",
        "\n",
        "The challenge aims to evaluate participants on their coding efficiency, algorithmic thinking, and presentation skills."
      ],
      "metadata": {
        "id": "D2n14P-ueBGy"
      }
    },
    {
      "cell_type": "markdown",
      "source": [
        "# **Introduction to Python Programming**"
      ],
      "metadata": {
        "id": "QY0psSgkfTDr"
      }
    },
    {
      "cell_type": "markdown",
      "source": [
        "## Score Board Operator\n",
        "An operator working behind the scoreboard of a inter cohort AlmaBetter cricket tournament, is responsible for updating the scores and points of each team. However, the operator is currently facing a challenge. He has been tasked with updating the total number of points gained by Team London, but he does not possess the necessary programming skills to complete this task.\n",
        "According to the tournament's rules, teams are awarded the following points based on the outcome of a match:\n",
        "\n",
        "* wins: 3 points\n",
        "* draws: 1 point\n",
        "* losses: 0 points\n",
        "\n",
        "\n",
        "\n",
        "\n",
        "Team London has played **8 matches** in this tournament. They won **4 matches**, lost **3 matches** and **drew 1**.\n",
        "The operator is in need of assistance to calculate the total number of points earned by Team London. As a python expert adept with knowledge of integer, floats and boolean, you can help the operator by writing a solution for the following problem.\n",
        "\n",
        "What would your approach be?"
      ],
      "metadata": {
        "id": "8MUgfkASfXII"
      }
    },
    {
      "cell_type": "code",
      "source": [
        "#1. Define your fixed values:\n",
        "wins=3\n",
        "draws=1\n",
        "losses=0"
      ],
      "metadata": {
        "id": "9u8CqXiqfhza"
      },
      "execution_count": 1,
      "outputs": []
    },
    {
      "cell_type": "code",
      "source": [
        "#2. Calculate the total points gained by Team London\n",
        "london_points=4*wins+1*draws+3*losses"
      ],
      "metadata": {
        "id": "EOBcFV2hfnzl"
      },
      "execution_count": 2,
      "outputs": []
    },
    {
      "cell_type": "code",
      "source": [
        "# 3. Print the variable london_points\n",
        "print(london_points)"
      ],
      "metadata": {
        "colab": {
          "base_uri": "https://localhost:8080/"
        },
        "id": "Mjd1kGBQfqY7",
        "outputId": "fc52f748-e47d-4177-eb7c-fd4e30a12c72"
      },
      "execution_count": 3,
      "outputs": [
        {
          "output_type": "stream",
          "name": "stdout",
          "text": [
            "13\n"
          ]
        }
      ]
    },
    {
      "cell_type": "markdown",
      "source": [
        "## Nutrition bar ingredient chart\n",
        "\n",
        "Imagine you are a data analyst at a nutrition bar manufacturing company. Your department head approaches you with a question. The company produces a nutrition bar that contains **45g of raisins, 65g of almonds, and 30g of apricots**. The head of the manufacturing department wants you to create an ingredient percentage list for the nutrition bar using python.\n",
        "\n",
        "Equipped with the knowledge of int, float and booleans in python, how would you approach this situation?"
      ],
      "metadata": {
        "id": "opVdyMlhfvWa"
      }
    },
    {
      "cell_type": "code",
      "source": [
        "# Calculate the percentage of raisins and print the variable\n",
        "raisins= 45\n",
        "almonds= 65\n",
        "apricots=30"
      ],
      "metadata": {
        "id": "lWwwLuYJfyeE"
      },
      "execution_count": 4,
      "outputs": []
    },
    {
      "cell_type": "code",
      "source": [
        "# Calculate the percentage of almonds and print the variable\n",
        "almonds_percentage=almonds*100/(raisins+almonds+apricots)\n",
        "print(almonds_percentage)"
      ],
      "metadata": {
        "colab": {
          "base_uri": "https://localhost:8080/"
        },
        "id": "RtD4E7aGf1Li",
        "outputId": "6dc5dd2e-7dfa-461a-e0c1-b5eba0101df2"
      },
      "execution_count": 5,
      "outputs": [
        {
          "output_type": "stream",
          "name": "stdout",
          "text": [
            "46.42857142857143\n"
          ]
        }
      ]
    },
    {
      "cell_type": "code",
      "source": [
        "# Calculate the percentage of apricots and print the variable\n",
        "apricots_percentage=apricots*100/(raisins+almonds+apricots)\n",
        "print(apricots_percentage)\n"
      ],
      "metadata": {
        "colab": {
          "base_uri": "https://localhost:8080/"
        },
        "id": "EwxPObO5f3Uz",
        "outputId": "d66d24bc-6348-4a9b-c500-3158e7094919"
      },
      "execution_count": 6,
      "outputs": [
        {
          "output_type": "stream",
          "name": "stdout",
          "text": [
            "21.428571428571427\n"
          ]
        }
      ]
    },
    {
      "cell_type": "markdown",
      "source": [
        "## Measuring the Accuracy of a Disease Detection Model- Optional\n",
        "\n",
        "If you're not impressed with these usecases yet, understand that you're just getting started with python. Going forward as a data scientist, you'll be using what you've learned to design machine learning models that just might even save lives!!\n",
        "\n",
        "Let's say you have created a machine learning model to detect diseases in patients based on their symptoms and medical history. The model has been tested on a dataset of **100 patients**, including **30 with diabetes**, **45 with heart disease**, and **25 with cancer**.\n",
        "The model's performance was evaluated in three rounds.\n",
        "In the first round, the model correctly **detected diabetes in 25 out of the 30 patients** with the disease.\n",
        "In the second round, the model correctly detected **heart disease in 35 out of the 45 patients** with the disease.\n",
        "In the final round, the model correctly **detected cancer in 20 out of the 25 patients** with the disease.\n",
        "\n",
        "The model's accuracy is defined as the percentage of correctly detected cases out of the total number of patient\n",
        "\n",
        "Assess how accurate your model is across these 3 diseases."
      ],
      "metadata": {
        "id": "amQJu9ksf66b"
      }
    },
    {
      "cell_type": "code",
      "source": [
        "# Store the number of heart disease patients\n",
        "heartdisease_patients=45\n",
        "\n",
        "# Store the number of diabetes patients\n",
        "diabetes_patients=30\n",
        "\n",
        "# Store the number of cancer patients\n",
        "cancer_patients=25\n",
        "\n",
        "# Store the number of your correct guesses of heart disease patients\n",
        "correct_heartdisease_patients=35\n",
        "\n",
        "# Store the number of your correct guesses of diabetes patients\n",
        "correct_diabetes_patients=25\n",
        "\n",
        "# Store the number of your correct guesses of cancer patients\n",
        "correct_cancer_patients=20"
      ],
      "metadata": {
        "id": "VtdjxSAfgBSJ"
      },
      "execution_count": 7,
      "outputs": []
    },
    {
      "cell_type": "markdown",
      "source": [
        "#### Calculate your accuracy in each of the three cases"
      ],
      "metadata": {
        "id": "oIhUGJBigHZs"
      }
    },
    {
      "cell_type": "code",
      "source": [
        "# Print the heart disease detection accuracy\n",
        "heartdisease_accuracy=correct_heartdisease_patients*100/heartdisease_patients\n",
        "print(heartdisease_accuracy)"
      ],
      "metadata": {
        "colab": {
          "base_uri": "https://localhost:8080/"
        },
        "id": "IY5uu9ecgJ-T",
        "outputId": "8cb61d49-ab15-4a7b-cd2e-aeaed293c629"
      },
      "execution_count": 8,
      "outputs": [
        {
          "output_type": "stream",
          "name": "stdout",
          "text": [
            "77.77777777777777\n"
          ]
        }
      ]
    },
    {
      "cell_type": "code",
      "source": [
        "# Print the diabetes detection accuracy\n",
        "diabetes_accuracy=correct_diabetes_patients*100/diabetes_patients\n",
        "print(diabetes_accuracy)"
      ],
      "metadata": {
        "colab": {
          "base_uri": "https://localhost:8080/"
        },
        "id": "_UbYUiTfgM_c",
        "outputId": "0c0e2828-d9bb-41fa-a3e4-c06e59a91500"
      },
      "execution_count": 9,
      "outputs": [
        {
          "output_type": "stream",
          "name": "stdout",
          "text": [
            "83.33333333333333\n"
          ]
        }
      ]
    },
    {
      "cell_type": "code",
      "source": [
        "# Print the cancer detection accuracy\n",
        "cancer_accuracy=correct_cancer_patients*100/cancer_patients\n",
        "print(cancer_accuracy)\n"
      ],
      "metadata": {
        "colab": {
          "base_uri": "https://localhost:8080/"
        },
        "id": "idyCVWG-gPT1",
        "outputId": "1217aec0-1b2d-442b-b713-0215cf992f39"
      },
      "execution_count": 10,
      "outputs": [
        {
          "output_type": "stream",
          "name": "stdout",
          "text": [
            "80.0\n"
          ]
        }
      ]
    },
    {
      "cell_type": "code",
      "source": [
        "# Print the overall accuracy of your model\n",
        "overall_accuracy=(heartdisease_accuracy+diabetes_accuracy+cancer_accuracy)/3\n",
        "print(overall_accuracy)\n",
        "#OR\n",
        "overallaccuracy=(correct_heartdisease_patients+correct_diabetes_patients+correct_cancer_patients)*100/(heartdisease_patients+diabetes_patients+cancer_patients)\n",
        "print(overallaccuracy)"
      ],
      "metadata": {
        "colab": {
          "base_uri": "https://localhost:8080/"
        },
        "id": "1yE5raUHgT_u",
        "outputId": "8bf54ee4-e01f-43ab-8dec-1f4a51e659e6"
      },
      "execution_count": 11,
      "outputs": [
        {
          "output_type": "stream",
          "name": "stdout",
          "text": [
            "80.37037037037037\n",
            "80.0\n"
          ]
        }
      ]
    },
    {
      "cell_type": "markdown",
      "source": [
        "# **Data Types in Python**"
      ],
      "metadata": {
        "id": "BLr5tHcMgalq"
      }
    },
    {
      "cell_type": "markdown",
      "source": [
        "## Solving Algebra the Cool Way 😎"
      ],
      "metadata": {
        "id": "jNzumdSvgewg"
      }
    },
    {
      "cell_type": "markdown",
      "source": [
        "You must remember the algebraic equations and functions you came across during your school days. If you do, you also must remember how tedious it was to do solve them manually. 😫\n",
        "Consider a quadratic function:\n",
        "\n",
        "***f(x)=x^2+3x-4***\n",
        "\n",
        "Find the value of f(x) at x =3 , x=-2, and x=4\n",
        "\n",
        "Doing this manually like the old days would be a tedious job 😞. But now you have python at your disposal 🙂 !\n",
        "How would you approach this problem using what you have learned?\n"
      ],
      "metadata": {
        "id": "qU9Ea9KYgi7v"
      }
    },
    {
      "cell_type": "code",
      "source": [
        "# Calculate the value of the function f(x) at x = 3\n",
        "x=3\n",
        "func_evaluated_at_3 =x**2+3*x-4\n",
        "print(func_evaluated_at_3)"
      ],
      "metadata": {
        "colab": {
          "base_uri": "https://localhost:8080/"
        },
        "id": "Efi2uq6XgnaW",
        "outputId": "c8d790e5-0ce1-467f-993a-ffccd13fe961"
      },
      "execution_count": 12,
      "outputs": [
        {
          "output_type": "stream",
          "name": "stdout",
          "text": [
            "14\n"
          ]
        }
      ]
    },
    {
      "cell_type": "code",
      "source": [
        "# Calculate the value of the function f(x) at x = -2\n",
        "x=-2\n",
        "func_evaluated_at_minus2 =x**2+3*x-4\n",
        "print(func_evaluated_at_minus2)"
      ],
      "metadata": {
        "colab": {
          "base_uri": "https://localhost:8080/"
        },
        "id": "0QqvVZI8grsW",
        "outputId": "eec707a4-290e-44ce-fc0c-5aa1409eb56f"
      },
      "execution_count": 13,
      "outputs": [
        {
          "output_type": "stream",
          "name": "stdout",
          "text": [
            "-6\n"
          ]
        }
      ]
    },
    {
      "cell_type": "code",
      "source": [
        "# Calculate the value of the function f(x) at x = 4\n",
        "x=4\n",
        "func_evaluated_at_4 =x**2+3*x-4\n",
        "print(func_evaluated_at_4)"
      ],
      "metadata": {
        "colab": {
          "base_uri": "https://localhost:8080/"
        },
        "id": "O1ADTeCRgx1m",
        "outputId": "d89803c1-1c8c-40c5-b8d9-f819b1938789"
      },
      "execution_count": 14,
      "outputs": [
        {
          "output_type": "stream",
          "name": "stdout",
          "text": [
            "24\n"
          ]
        }
      ]
    },
    {
      "cell_type": "code",
      "source": [
        "#Check if func_evaluated_at_3 >= func_evaluated_at_minus2\n",
        "if func_evaluated_at_3 >= func_evaluated_at_minus2:\n",
        "  print(\"Function value at x=3 and x=-2 is not equal\")\n",
        "else:\n",
        "  print(\"Function value at x=3 and x=-2 is not equal\")"
      ],
      "metadata": {
        "colab": {
          "base_uri": "https://localhost:8080/"
        },
        "id": "H4E-Hxnig2Jv",
        "outputId": "cc2db76e-d787-450e-a8ef-3015bd7d8ec8"
      },
      "execution_count": 15,
      "outputs": [
        {
          "output_type": "stream",
          "name": "stdout",
          "text": [
            "Function value at x=3 and x=-2 is not equal\n"
          ]
        }
      ]
    },
    {
      "cell_type": "code",
      "source": [
        "#Check if value of f(x) at 3,-2 or 4 is equal to 0 or not\n",
        "if func_evaluated_at_3==func_evaluated_at_minus2==func_evaluated_at_4==0:\n",
        "  print(\"value of f(x) at 3,-2 or 4 is equal to 0\")\n",
        "else:\n",
        "  print(\"value of f(x) at 3,-2 or 4 is not equal to 0\")"
      ],
      "metadata": {
        "colab": {
          "base_uri": "https://localhost:8080/"
        },
        "id": "8oBSacA_g6yY",
        "outputId": "5eaf4a3d-472d-4fbc-c72c-3d64f09112fc"
      },
      "execution_count": 16,
      "outputs": [
        {
          "output_type": "stream",
          "name": "stdout",
          "text": [
            "value of f(x) at 3,-2 or 4 is not equal to 0\n"
          ]
        }
      ]
    },
    {
      "cell_type": "markdown",
      "source": [
        "## Finding total E's in the Bookshelves\n",
        "\n",
        "In your pursuit of expanding your knowledge of Python, you come across a bookstore in search of books on the subject.\n",
        "\n",
        "There, you meet a salesperson who is also a Python enthusiast!!\n",
        "\n",
        "The salesperson presents you with a challenge - they have a list of five books related to Python and if you can write a program that finds the count of letter 'e', the store will give you a free book of your choice. 😀\n",
        "\n",
        "Are you ready to accept the challenge? 💪"
      ],
      "metadata": {
        "id": "ylaHSdr1g-pw"
      }
    },
    {
      "cell_type": "code",
      "source": [
        "# Here's the list of books\n",
        "books = \"Python for Everyone, Learn Python the Hard Way, Python Crash Course , Starting Out with Python, Automate the Boring Stuff with Python\""
      ],
      "metadata": {
        "id": "1ZxmL1H5hESG"
      },
      "execution_count": 17,
      "outputs": []
    },
    {
      "cell_type": "code",
      "source": [
        "# Store the count of books containing E/e in the title. Note this will be a case insensitive search\n",
        "e_counts =books.count('e')\n",
        "print(\"Count of books containing e in the title:\" ,e_counts)\n",
        "\n",
        "E_counts =books.count('E')\n",
        "print(\"Count of books containing E in the title:\" ,E_counts)\n",
        "total_e_counts =e_counts+E_counts\n",
        "print(\"Count of books containing E/e in the title:\" ,total_e_counts)"
      ],
      "metadata": {
        "colab": {
          "base_uri": "https://localhost:8080/"
        },
        "id": "Jv-qNkbWhItX",
        "outputId": "ec81df64-7b66-46ee-b098-6817a06eb303"
      },
      "execution_count": 18,
      "outputs": [
        {
          "output_type": "stream",
          "name": "stdout",
          "text": [
            "Count of books containing e in the title: 7\n",
            "Count of books containing E in the title: 1\n",
            "Count of books containing E/e in the title: 8\n"
          ]
        }
      ]
    },
    {
      "cell_type": "code",
      "source": [
        "# Print the value\n",
        "print(f\"The total number of 'e's in the list of books is {total_e_counts}\")"
      ],
      "metadata": {
        "colab": {
          "base_uri": "https://localhost:8080/"
        },
        "id": "TO3WYRNQhL2F",
        "outputId": "d4731f99-54ec-40cb-d9d5-9aab35065ce5"
      },
      "execution_count": 19,
      "outputs": [
        {
          "output_type": "stream",
          "name": "stdout",
          "text": [
            "The total number of 'e's in the list of books is 8\n"
          ]
        }
      ]
    },
    {
      "cell_type": "markdown",
      "source": [
        "# **Unleashing the Power of Mean in Exam Analysis**"
      ],
      "metadata": {
        "id": "iMOUYjOihQcU"
      }
    },
    {
      "cell_type": "markdown",
      "source": [
        "When analyzing exam scores, teachers have the power to unlock valuable insights into their students' performance. By using the mean and median, they can get a clear picture of how the class is doing as a whole and identify areas where improvement is needed.\n",
        "\n",
        "The mean score is like a report card for the entire class, showing the average of all exam scores. It gives a good general idea of how the class is doing but can be influenced by a few students with extremely high or low scores.\n",
        "\n",
        "By analysing the mean, teachers can get a complete picture of the class performance and make informed decisions to improve the learning experience for their students. So go ahead and use these powerful tools to take your students' exam scores to the next level! 💪"
      ],
      "metadata": {
        "id": "NOAAt15thWfj"
      }
    },
    {
      "cell_type": "code",
      "source": [
        "# List of student marks\n",
        "\n",
        "marks = [67,87,75,46,89,97,68,98,87,88]"
      ],
      "metadata": {
        "id": "t6Dd-TlwhZ_V"
      },
      "execution_count": 20,
      "outputs": []
    },
    {
      "cell_type": "code",
      "source": [
        "# Calculate the mean of the marks. Use sum() and len() functions\n",
        "mean_marks =sum(marks)/len(marks)"
      ],
      "metadata": {
        "id": "UlFtGFOdhd2z"
      },
      "execution_count": 21,
      "outputs": []
    },
    {
      "cell_type": "code",
      "source": [
        "print(mean_marks)"
      ],
      "metadata": {
        "colab": {
          "base_uri": "https://localhost:8080/"
        },
        "id": "_HzpS29ahiL2",
        "outputId": "802720da-ac5e-427c-dece-55067c7ed9d9"
      },
      "execution_count": 22,
      "outputs": [
        {
          "output_type": "stream",
          "name": "stdout",
          "text": [
            "80.2\n"
          ]
        }
      ]
    },
    {
      "cell_type": "markdown",
      "source": [
        "## John's Fruit Stand Sales Mix-up\n",
        "\n",
        "You must remember from the previous lessons that dictionaries can be used to store values corresponding to a particular key. But how is this helpful to us?\n",
        "\n",
        "Let's look at this scenario:\n",
        "\n",
        "Jim owns a quaint little fruit stand that sells mangoes, bananas, apples, and pineapples. One day, with Jim being tied up, he tasked his son John to manage the shop for a day. Being new to the game, John recorded the sales data in an unconventional way. He wrote down the name of each fruit as many times as it was sold, creating a list like this:\n",
        "\n",
        "**['Mango','Mango','Mango','Pineapple','Pineapple','Pineapple','Apple','Mango','Banana','Apple','Banana','Apple','Pineapple','Apple','Apple','Pineapple','Pineapple']**\n",
        "🤦\n",
        "\n",
        "But, this method is not very efficient or easy to read.\n",
        "\n",
        "Forunately you were there at the shop to grab some apples yourselves, and you saw what John was doing.\n",
        "\n",
        "You can help him out to structure the data by using dictionaries. How?"
      ],
      "metadata": {
        "id": "ZiOhF-mzhrxp"
      }
    },
    {
      "cell_type": "code",
      "source": [
        "#Here's John's list:\n",
        "fruit_list=['Mango','Mango','Mango','Pineapple','Pineapple','Pineapple','Apple','Mango','Banana','Apple','Banana','Apple','Pineapple','Apple','Apple','Pineapple','Pineapple']"
      ],
      "metadata": {
        "id": "1gEriLvOhwNd"
      },
      "execution_count": 23,
      "outputs": []
    },
    {
      "cell_type": "code",
      "source": [
        "# Step 2: Create an empty dictionary which will contain the unique fruit names\n",
        "fruit_dict={}\n",
        "\n",
        "# Set the values for each key separately\n",
        "\n",
        "# First Key\n",
        "fruit_dict['Mango']=fruit_list.count(\"Mango\")\n",
        "\n",
        "# Second Key\n",
        "fruit_dict['Pineapple']=fruit_list.count(\"Pineapple\")\n",
        "\n",
        "# Third Key\n",
        "fruit_dict['Apple']=fruit_list.count(\"Apple\")\n",
        "\n",
        "# Fourth Key\n",
        "fruit_dict['Banana']=fruit_list.count(\"Banana\")"
      ],
      "metadata": {
        "id": "m_j7dFVbh0bU"
      },
      "execution_count": 24,
      "outputs": []
    },
    {
      "cell_type": "code",
      "source": [
        "print(fruit_dict)"
      ],
      "metadata": {
        "colab": {
          "base_uri": "https://localhost:8080/"
        },
        "id": "krCh8Zoqh4Jh",
        "outputId": "7060b266-50a3-44c3-be7c-cfc25a36e856"
      },
      "execution_count": 25,
      "outputs": [
        {
          "output_type": "stream",
          "name": "stdout",
          "text": [
            "{'Mango': 4, 'Pineapple': 6, 'Apple': 5, 'Banana': 2}\n"
          ]
        }
      ]
    },
    {
      "cell_type": "markdown",
      "source": [
        "# **Indexing & Slicing**"
      ],
      "metadata": {
        "id": "u4lpXwkfh8ZC"
      }
    },
    {
      "cell_type": "markdown",
      "source": [
        "## Imagine that you are a superhero movie buff and you're trying to create a list of the most iconic Marvel characters. You have compiled a list of some of the most popular characters, but you want to narrow it down to the top 6.\n",
        "\n",
        "Here's your list of characters:\n",
        "\n",
        "marvel_words = ['Avengers', 'X-Men', 'Spider-Man', 'Iron Man', 'Hulk', 'Thor', 'Black Widow', 'Captain America', 'Wolverine', 'Doctor Strange', 'Namor']"
      ],
      "metadata": {
        "id": "IAe5HRpfh_0l"
      }
    },
    {
      "cell_type": "code",
      "source": [
        "# Here's your list of characters:\n",
        "\n",
        "marvel_words = ['Avengers', 'X-Men', 'Spider-Man', 'Iron Man', 'Hulk', 'Thor', 'Black Widow', 'Captain America', 'Wolverine', 'Doctor Strange', 'Namor']"
      ],
      "metadata": {
        "id": "YLYJACdeiDzY"
      },
      "execution_count": 26,
      "outputs": []
    },
    {
      "cell_type": "markdown",
      "source": [
        "You want to narrow down the list to the last 6 characters in the list. These characters are:\n",
        "\n",
        "* Namor\n",
        "* Doctor Strange\n",
        "* Wolverine\n",
        "* Captain America\n",
        "* Black Widow\n",
        "* Thor"
      ],
      "metadata": {
        "id": "Nh2SrbF_iIEs"
      }
    },
    {
      "cell_type": "markdown",
      "source": [
        "Write a code to slice these characters from the list"
      ],
      "metadata": {
        "id": "A35ZfvPNiLn-"
      }
    },
    {
      "cell_type": "code",
      "source": [
        "l=len(marvel_words)\n",
        "# Replace x with appropriate values\n",
        "new_marvel=marvel_words[l-6:]\n",
        "print(new_marvel)\n",
        "\n",
        "#OR\n",
        "# Replace x with appropriate values\n",
        "new_marvels=marvel_words[5:]\n",
        "print(new_marvels)"
      ],
      "metadata": {
        "colab": {
          "base_uri": "https://localhost:8080/"
        },
        "id": "w2ZHINRtiO6G",
        "outputId": "56e8423b-0ab3-4eeb-cd3e-ceb88fce2830"
      },
      "execution_count": 27,
      "outputs": [
        {
          "output_type": "stream",
          "name": "stdout",
          "text": [
            "['Thor', 'Black Widow', 'Captain America', 'Wolverine', 'Doctor Strange', 'Namor']\n",
            "['Thor', 'Black Widow', 'Captain America', 'Wolverine', 'Doctor Strange', 'Namor']\n"
          ]
        }
      ]
    },
    {
      "cell_type": "markdown",
      "source": [
        "## Create two teams of superheroes based on their index position: one team should consist of all the characters located at even index positions, while the other team should consist of all the characters located at odd index positions."
      ],
      "metadata": {
        "id": "x0XZcGwqiTU8"
      }
    },
    {
      "cell_type": "code",
      "source": [
        "team1=marvel_words[::2]    #characters located at even index positions\n",
        "print(\"Team1 :\",team1)\n",
        "team2=marvel_words[1::2]    #characters located at odd index positions\n",
        "print(\"Team2 :\",team2)"
      ],
      "metadata": {
        "colab": {
          "base_uri": "https://localhost:8080/"
        },
        "id": "Qj-2PGyqiWT-",
        "outputId": "8920b394-c7d3-4fc4-c891-084e7fbfb0b0"
      },
      "execution_count": 28,
      "outputs": [
        {
          "output_type": "stream",
          "name": "stdout",
          "text": [
            "Team1 : ['Avengers', 'Spider-Man', 'Hulk', 'Black Widow', 'Wolverine', 'Namor']\n",
            "Team2 : ['X-Men', 'Iron Man', 'Thor', 'Captain America', 'Doctor Strange']\n"
          ]
        }
      ]
    },
    {
      "cell_type": "markdown",
      "source": [
        "###3. Store the word 'Spider-Man' in a new variable, and slice the word 'Spider' from it."
      ],
      "metadata": {
        "id": "O47FFhHDibHL"
      }
    },
    {
      "cell_type": "code",
      "source": [
        "spider_man=marvel_words[2] # Add appropriate index number\n",
        "spidey_sliced=spider_man[0:6] # Add appropriate index number\n",
        "print(spidey_sliced)"
      ],
      "metadata": {
        "colab": {
          "base_uri": "https://localhost:8080/"
        },
        "id": "x242X4VWid8t",
        "outputId": "a3df8e28-159b-4900-8083-6ce197aca815"
      },
      "execution_count": 29,
      "outputs": [
        {
          "output_type": "stream",
          "name": "stdout",
          "text": [
            "Spider\n"
          ]
        }
      ]
    },
    {
      "cell_type": "markdown",
      "source": [
        "###4. Store the word 'Iron-Man' in a variable and use reverse indexing to reverse it."
      ],
      "metadata": {
        "id": "XWmvreDXiiRb"
      }
    },
    {
      "cell_type": "code",
      "source": [
        "iron_man=marvel_words[3]\n",
        "reversed_man=iron_man[::-1]\n",
        "print(reversed_man)"
      ],
      "metadata": {
        "colab": {
          "base_uri": "https://localhost:8080/"
        },
        "id": "zqIykKDyilCn",
        "outputId": "ea7deb2f-882b-413b-f0cd-34ab39360a62"
      },
      "execution_count": 30,
      "outputs": [
        {
          "output_type": "stream",
          "name": "stdout",
          "text": [
            "naM norI\n"
          ]
        }
      ]
    },
    {
      "cell_type": "markdown",
      "source": [
        "# **Operators in Data Types**"
      ],
      "metadata": {
        "id": "0b1LfRO5ip1W"
      }
    },
    {
      "cell_type": "markdown",
      "source": [
        "## 🎉 Let's do some math!\n",
        "\n",
        "* 📐 First up, let's calculate the area of a square with sides that measure 5 cm. 🤔 How much space does this shape occupy?\n",
        "\n",
        "* 🔍 Next, let's find the volume of a cube with sides that measure 12 cm. 📏 How much room does this shape take up?\n",
        "\n",
        "* 🔢 Lastly, we'll find the quotient and remainder when we divide 10 by 4. 🧐 How many times does 4 fit into 10? What's left over?"
      ],
      "metadata": {
        "id": "7C9g8oNvi3av"
      }
    },
    {
      "cell_type": "code",
      "source": [
        "ar_square=5*5\n",
        "vol_cube=12*12*12\n",
        "quotient=10//4\n",
        "remainder=10%4\n",
        "\n",
        "print(remainder)\n",
        "print(quotient)\n",
        "print(vol_cube)\n",
        "print(ar_square)"
      ],
      "metadata": {
        "colab": {
          "base_uri": "https://localhost:8080/"
        },
        "id": "g5j9XQNrjK9j",
        "outputId": "959ee633-e127-4c48-a356-fbb966190f42"
      },
      "execution_count": 31,
      "outputs": [
        {
          "output_type": "stream",
          "name": "stdout",
          "text": [
            "2\n",
            "2\n",
            "1728\n",
            "25\n"
          ]
        }
      ]
    },
    {
      "cell_type": "markdown",
      "source": [
        "## 📚 Let's practice some comparison operators! Here's a problem for you to solve:\n",
        "\n",
        "🍎 The first basket contains 12 apples, and the second basket contains 8 apples. Use comparison operators to answer the following questions:\n",
        "\n",
        "* Is the number of apples in the first basket greater than the number of apples in the second basket?\n",
        "\n",
        "* Is the number of apples in the second basket less than or equal to the number of apples in the first basket?\n",
        "* Is the number of apples in the first basket equal to the number of apples in the second basket?\n",
        "* Is the number of apples in the second basket not equal to the number of apples in the first basket?\n",
        "\n",
        "Use comparison operators (i.e. >, >=, <, <=, ==, !=) in your code to answer each question. Good luck! 🍎🍏"
      ],
      "metadata": {
        "id": "p3E2Z2zcjPzG"
      }
    },
    {
      "cell_type": "code",
      "source": [
        "basket1=12\n",
        "basket2=8\n",
        "if basket1>basket2:\n",
        "  print(\"Yes, the number of apples in the first basket is greater than the number of apples in the second basket\")\n",
        "if basket2<=basket1:\n",
        "  print(\"Yes, the number of apples in the second basket less than or equal to the number of apples in the first basket\")\n",
        "if basket2==basket1:\n",
        "  print(\"Yes, the number of apples in the second basket is equal to the number of apples in the first basket\")\n",
        "if basket2!=basket1:\n",
        "  print(\"Yes, the number of apples in the second basket is not equal to the number of apples in the first basket\")"
      ],
      "metadata": {
        "colab": {
          "base_uri": "https://localhost:8080/"
        },
        "id": "zDMesh-PjWuh",
        "outputId": "80ead9ad-5d72-4c3e-ef63-8d043baf0253"
      },
      "execution_count": 32,
      "outputs": [
        {
          "output_type": "stream",
          "name": "stdout",
          "text": [
            "Yes, the number of apples in the first basket is greater than the number of apples in the second basket\n",
            "Yes, the number of apples in the second basket less than or equal to the number of apples in the first basket\n",
            "Yes, the number of apples in the second basket is not equal to the number of apples in the first basket\n"
          ]
        }
      ]
    },
    {
      "cell_type": "markdown",
      "source": [
        "## 🌴 Are you ready for your trip to Goa? 🌊 You've got two bags with you, and you need to make sure they're light enough to board the flight. Let's use some logical operators to find out if you can make it on time!\n",
        "\n",
        "🧳 One of your bags weighs 15 kg, while the other one weighs only 5 kg. 💪 You know you can pack a lot more in the heavier bag, but you have to be careful not to go over the weight limit.\n",
        "\n",
        "👮‍♀️ The airline has a strict policy that both of your bags must weigh less than 13 kg each. Can you make it on the flight? Let's use logical operators to find out!"
      ],
      "metadata": {
        "id": "L6zjMc8xjb0X"
      }
    },
    {
      "cell_type": "code",
      "source": [
        "# Define the weight of your bags\n",
        "bag1_weight = 15\n",
        "bag2_weight = 5\n",
        "\n",
        "\n",
        "# Check if both bags weigh less than 13 kg\n",
        "if bag1_weight<13 & bag2_weight<13:\n",
        "  print(\"Enjoy your trip!\")\n",
        "else:\n",
        "  print(\"Sorry, You can not go through!\")"
      ],
      "metadata": {
        "colab": {
          "base_uri": "https://localhost:8080/"
        },
        "id": "XUJJB6a1jfzZ",
        "outputId": "c1943859-fc81-483b-9a81-302bc48edaf0"
      },
      "execution_count": 33,
      "outputs": [
        {
          "output_type": "stream",
          "name": "stdout",
          "text": [
            "Sorry, You can not go through!\n"
          ]
        }
      ]
    },
    {
      "cell_type": "markdown",
      "source": [
        "🧳 Uh oh, it looks like we have a problem with our bags! But don't worry, the crew has offered a solution. 😊\n",
        "\n",
        "👨‍✈️ They've said that if at least one of our bags weighs less than 6 kg, we can still board the flight this time. 🛫\n",
        "\n",
        "🤔 Are we ready for the trip or not? Let's use some logical operators to find out!"
      ],
      "metadata": {
        "id": "mu_XCpXdkEGE"
      }
    },
    {
      "cell_type": "code",
      "source": [
        "# Define the weight of your bags\n",
        "bag1_weight = 15\n",
        "bag2_weight = 5\n",
        "\n",
        "# Check if at least one bag weighs less than 6 kg\n",
        "# If the result is False, print(\"Sorry, You can not go through!\")\n",
        "# Else, if the result is True, print(\"Enjoy your trip!\")\n",
        "if bag1_weight<6 or bag2_weight<6:\n",
        "  print(\"Enjoy your trip!\")\n",
        "else:\n",
        "  print(\"Sorry, You can not go through!\")"
      ],
      "metadata": {
        "colab": {
          "base_uri": "https://localhost:8080/"
        },
        "id": "UU0CGiL0kqMS",
        "outputId": "dccd8104-54b9-4136-f389-5cd9c4209585"
      },
      "execution_count": 34,
      "outputs": [
        {
          "output_type": "stream",
          "name": "stdout",
          "text": [
            "Enjoy your trip!\n"
          ]
        }
      ]
    },
    {
      "cell_type": "markdown",
      "source": [
        "🤔 Did you notice how we made a decision on which print statement to use based on the result of our logical operators? 🤔\n",
        "\n",
        "🚀 Later on, we're going to learn how to do this in a single step, making it even easier for you. So stay curious 😎"
      ],
      "metadata": {
        "id": "p10hB4RNk4wI"
      }
    },
    {
      "cell_type": "markdown",
      "source": [
        "## 📚 Imagine that you're a book lover with a collection of lot of books. 🤓\n",
        "\n",
        "🔎 You need to find out how many of your books contain the word \"Python\" in them. 🐍"
      ],
      "metadata": {
        "id": "VtrTrsIsk9WZ"
      }
    },
    {
      "cell_type": "code",
      "source": [
        "books = [\n",
        "    \"Python for Data Science Handbook by Jake VanderPlas\",\n",
        "    \"The Pragmatic Programmer by Andrew Hunt and David Thomas\",\n",
        "    \"Python Machine Learning by Sebastian Raschka\",\n",
        "    \"The Alchemist by Paulo Coelho\",\n",
        "]"
      ],
      "metadata": {
        "id": "aOLGhp-8lA6b"
      },
      "execution_count": 35,
      "outputs": []
    },
    {
      "cell_type": "code",
      "source": [
        "count=0     # run this only once\n",
        "# Change x to 0,1,2 and 3.\n",
        "if \"Python\" in books[0]:\n",
        "    count=count+1\n",
        "if \"Python\" in books[1]:\n",
        "    count=count+1\n",
        "if \"Python\" in books[2]:\n",
        "    count=count+1\n",
        "if \"Python\" in books[3]:\n",
        "    count=count+1\n",
        "\n",
        "# If True, increase the count variable by 1."
      ],
      "metadata": {
        "id": "Ek1AQjvulElm"
      },
      "execution_count": 36,
      "outputs": []
    },
    {
      "cell_type": "code",
      "source": [
        "print(count)"
      ],
      "metadata": {
        "colab": {
          "base_uri": "https://localhost:8080/"
        },
        "id": "VV7qm2islQtf",
        "outputId": "6d64b7aa-cfc5-47d1-fcc3-675f59872062"
      },
      "execution_count": 37,
      "outputs": [
        {
          "output_type": "stream",
          "name": "stdout",
          "text": [
            "2\n"
          ]
        }
      ]
    },
    {
      "cell_type": "markdown",
      "source": [
        "# **In-Built Functions & Methods**"
      ],
      "metadata": {
        "id": "1_NRIPf_lVn9"
      }
    },
    {
      "cell_type": "markdown",
      "source": [
        "## Here is a string for you to work with:"
      ],
      "metadata": {
        "id": "M5Wpvak3lZih"
      }
    },
    {
      "cell_type": "code",
      "source": [
        "# Here is the statement.\n",
        "\n",
        "statement = \"anas eagerly recommended 'the shawshank redemption' to his friends. He described the movie as a captivating and emotional story of hope and friendship. His friends decided to watch it together the following weekend.\""
      ],
      "metadata": {
        "id": "wwBjdaxAletJ"
      },
      "execution_count": 38,
      "outputs": []
    },
    {
      "cell_type": "code",
      "source": [
        "print(statement)"
      ],
      "metadata": {
        "colab": {
          "base_uri": "https://localhost:8080/"
        },
        "id": "CVt4mkqBlj_h",
        "outputId": "da16ba6b-fc22-4090-96fd-42e1a59935d0"
      },
      "execution_count": 39,
      "outputs": [
        {
          "output_type": "stream",
          "name": "stdout",
          "text": [
            "anas eagerly recommended 'the shawshank redemption' to his friends. He described the movie as a captivating and emotional story of hope and friendship. His friends decided to watch it together the following weekend.\n"
          ]
        }
      ]
    },
    {
      "cell_type": "markdown",
      "source": [
        "1. Create a list containing the three sentences in the statement.\n",
        "Hint: Use split() method."
      ],
      "metadata": {
        "id": "IVRU3PQ6lyHg"
      }
    },
    {
      "cell_type": "code",
      "source": [
        "# Create a list containing the three sentences in the statement.\n",
        "\n",
        "sentence_list= statement.split('.')\n",
        "print(sentence_list)"
      ],
      "metadata": {
        "colab": {
          "base_uri": "https://localhost:8080/"
        },
        "id": "iLQA_f5fl11N",
        "outputId": "82f11f94-38ba-4146-c890-defb9d1fd310"
      },
      "execution_count": 40,
      "outputs": [
        {
          "output_type": "stream",
          "name": "stdout",
          "text": [
            "[\"anas eagerly recommended 'the shawshank redemption' to his friends\", ' He described the movie as a captivating and emotional story of hope and friendship', ' His friends decided to watch it together the following weekend', '']\n"
          ]
        }
      ]
    },
    {
      "cell_type": "markdown",
      "source": [
        "2. The name 'anas' is spelled wrong. Replace it with 'Anas'."
      ],
      "metadata": {
        "id": "8GuJCBEil6Y_"
      }
    },
    {
      "cell_type": "code",
      "source": [
        "# The name 'anas' is spelled wrong.\n",
        "# Replace it with 'Anas'.\n",
        "\n",
        "statement= statement.replace(\"anas\",\"Anas\")  #Redefine the statement, with the correction.\n",
        "print(statement)"
      ],
      "metadata": {
        "colab": {
          "base_uri": "https://localhost:8080/"
        },
        "id": "Jjl2ObdEmAKY",
        "outputId": "59f34bbb-b7bb-4d5e-c752-56f7b0fea259"
      },
      "execution_count": 41,
      "outputs": [
        {
          "output_type": "stream",
          "name": "stdout",
          "text": [
            "Anas eagerly recommended 'the shawshank redemption' to his friends. He described the movie as a captivating and emotional story of hope and friendship. His friends decided to watch it together the following weekend.\n"
          ]
        }
      ]
    },
    {
      "cell_type": "markdown",
      "source": [
        "3. The title of the book is not written in the correct cases as well. Make corrections there."
      ],
      "metadata": {
        "id": "4MTjjWADmE98"
      }
    },
    {
      "cell_type": "code",
      "source": [
        "# Make corrections here.\n",
        "statement=statement.replace(\"the shawshank redemption\",\"The Shawshank Redemption\")\n",
        "print(statement)"
      ],
      "metadata": {
        "colab": {
          "base_uri": "https://localhost:8080/"
        },
        "id": "Ll5N9DormJef",
        "outputId": "6137dfed-9e32-4485-b3ec-a6495870da40"
      },
      "execution_count": 42,
      "outputs": [
        {
          "output_type": "stream",
          "name": "stdout",
          "text": [
            "Anas eagerly recommended 'The Shawshank Redemption' to his friends. He described the movie as a captivating and emotional story of hope and friendship. His friends decided to watch it together the following weekend.\n"
          ]
        }
      ]
    },
    {
      "cell_type": "markdown",
      "source": [
        "4. You believe \"The Shawshank Redemption\" would be bit too gloomy for the lot. Take user input of which movie to recommend and replace \"The Shawshank Redemption\" from the statement with the new recommendation."
      ],
      "metadata": {
        "id": "qoJMh70nmdOs"
      }
    },
    {
      "cell_type": "code",
      "source": [
        "# Change the recommendation of movie to one, of your choice.\n",
        "# Take input of movie\n",
        "\n",
        "new_movie=input(\"Which movie wold you recommend? \")\n",
        "statement=statement.replace(\"The Shawshank Redemption\",new_movie)\n",
        "print(statement)"
      ],
      "metadata": {
        "colab": {
          "base_uri": "https://localhost:8080/"
        },
        "id": "epSkHZV6mhJr",
        "outputId": "d9296849-1228-4b03-8a94-4cbec52f8eee"
      },
      "execution_count": 43,
      "outputs": [
        {
          "output_type": "stream",
          "name": "stdout",
          "text": [
            "Which movie wold you recommend? 12th fail\n",
            "Anas eagerly recommended '12th fail' to his friends. He described the movie as a captivating and emotional story of hope and friendship. His friends decided to watch it together the following weekend.\n"
          ]
        }
      ]
    },
    {
      "cell_type": "markdown",
      "source": [
        "## 🎥 Suppose you have a collection of your favorite movies 🍿🎞️ and you want to keep track of them using a Python list 📜. You start with an empty list [] and keep adding new movies 🆕 to it. You also want to be able to remove movies ❌ that you have watched or no longer wish to keep in your collection. Finally, you want to be able to count 🔢 how many movies you have in your collection and reverse the order of the list 🔄."
      ],
      "metadata": {
        "id": "BVy1kpYVmqnC"
      }
    },
    {
      "cell_type": "code",
      "source": [
        "# Start with an empty list\n",
        "movie_collection = []\n",
        "\n",
        "# Add some movies to the collection using the append() method\n",
        "movie_collection.append(\"RRR\") # Use your favourite movie names\n",
        "movie_collection.append(\"12th fail\")\n",
        "movie_collection.append(\"Bahubali\")\n",
        "movie_collection.append(\"Murder\")\n",
        "movie_collection.append(\"Golmaal\")\n",
        "\n",
        "# Print the current collection of movies\n",
        "print(\"My Movie Collection:\", movie_collection)\n",
        "\n",
        "# Remove a movie from the collection using the pop() method\n",
        "# Code to remove index 3 here\n",
        "movie_collection.pop(3)\n",
        "print(\"After removing movie 4\", movie_collection)\n",
        "\n",
        "# Count how many movies are in the collection using the count() method\n",
        "num_movies=len(movie_collection)\n",
        "print(\"Number of movies:\", num_movies)\n",
        "\n",
        "\n",
        "# Reverse the order of the list using the reverse() method\n",
        "movie_collection.reverse()\n",
        "print(\"Reversed movie collection:\", movie_collection)"
      ],
      "metadata": {
        "colab": {
          "base_uri": "https://localhost:8080/"
        },
        "id": "IYolbnTZmvMj",
        "outputId": "74af42e9-02e3-48a5-b738-dff6a59b979f"
      },
      "execution_count": 44,
      "outputs": [
        {
          "output_type": "stream",
          "name": "stdout",
          "text": [
            "My Movie Collection: ['RRR', '12th fail', 'Bahubali', 'Murder', 'Golmaal']\n",
            "After removing movie 4 ['RRR', '12th fail', 'Bahubali', 'Golmaal']\n",
            "Number of movies: 4\n",
            "Reversed movie collection: ['Golmaal', 'Bahubali', '12th fail', 'RRR']\n"
          ]
        }
      ]
    },
    {
      "cell_type": "markdown",
      "source": [
        "## 👩‍🏫 A teacher has stored the names of his students in a tuple as follows:\n",
        "('Adam','Alice','Ben','Bilal','Bharath')\n",
        "\n",
        "👨‍🎓 Their role numbers are defined as their index number + 1.\n",
        "\n",
        "🖥️ Write a program which would take the name of the student as input and return their role number."
      ],
      "metadata": {
        "id": "mhyHkIICm2_5"
      }
    },
    {
      "cell_type": "code",
      "source": [
        "student_tupple=('Adam','Alice','Ben','Bilal','Bharath')"
      ],
      "metadata": {
        "id": "rlzyqgTvm9Rp"
      },
      "execution_count": 45,
      "outputs": []
    },
    {
      "cell_type": "code",
      "source": [
        "# Take input from user and display role number as index of the input + 1\n",
        "student=input(\"Input the student name to get roll number - \")\n",
        "print(student,\"'s roll number is: \", student_tupple.index(student)+1) # Replace x with appropriate value"
      ],
      "metadata": {
        "colab": {
          "base_uri": "https://localhost:8080/"
        },
        "id": "xpgfmbDCnFdI",
        "outputId": "9e120125-8218-4e8a-bab1-e7274f64ca95"
      },
      "execution_count": 47,
      "outputs": [
        {
          "output_type": "stream",
          "name": "stdout",
          "text": [
            "Input the student name to get roll number - Ben\n",
            "Ben 's roll number is:  3\n"
          ]
        }
      ]
    },
    {
      "cell_type": "markdown",
      "source": [
        "## A store 🏪 sells different types of fruits 🍎🍌🍇🍓 in baskets 🧺. The storekeeper 🧑 keeps track of the availability of each fruit type in separate sets. The storekeeper wants to know which fruits are available in both baskets, which fruits are unique to each basket, and the total number of fruits available. 🤔"
      ],
      "metadata": {
        "id": "VpKKNqI3nSeJ"
      }
    },
    {
      "cell_type": "code",
      "source": [
        "# Define sets for fruits in each basket\n",
        "basket1 = {'apple', 'banana', 'grape', 'orange'}\n",
        "basket2 = {'banana', 'mango', 'pineapple', 'orange'}\n",
        "\n",
        "# Find the total number of fruits available\n",
        "total_fruits = len(basket1)+len(basket2)\n",
        "print(\"Total number of fruits available:\", total_fruits)\n",
        "\n",
        "# Find fruits available in both baskets\n",
        "both_baskets = basket1 | basket2   # Replace x with appropriate method\n",
        "print(\"All the available fruits:\", both_baskets)\n",
        "\n",
        "# Find only the common fruits in both baskets\n",
        "common_fruits = basket1 & basket2   # Replace x with appropriate method\n",
        "print(\"Common fruits in both baskets:\", common_fruits)\n",
        "\n",
        "# Find fruits unique to each basket\n",
        "unique_basket1 = basket1 - basket2    # Replace x with appropriate method\n",
        "unique_basket2 = basket2 - basket1    # Replace x with appropriate method\n",
        "print(\"Fruits unique to basket 1:\", unique_basket1)\n",
        "print(\"Fruits unique to basket 2:\", unique_basket2)"
      ],
      "metadata": {
        "colab": {
          "base_uri": "https://localhost:8080/"
        },
        "id": "nqn5-h01nWeR",
        "outputId": "35486bb5-5000-48ce-f351-45520337092e"
      },
      "execution_count": 48,
      "outputs": [
        {
          "output_type": "stream",
          "name": "stdout",
          "text": [
            "Total number of fruits available: 8\n",
            "All the available fruits: {'grape', 'mango', 'banana', 'pineapple', 'orange', 'apple'}\n",
            "Common fruits in both baskets: {'orange', 'banana'}\n",
            "Fruits unique to basket 1: {'grape', 'apple'}\n",
            "Fruits unique to basket 2: {'mango', 'pineapple'}\n"
          ]
        }
      ]
    },
    {
      "cell_type": "markdown",
      "source": [
        "# **Statements, Indentation & Conditionals**"
      ],
      "metadata": {
        "id": "MvLAZlg5nb7Y"
      }
    },
    {
      "cell_type": "markdown",
      "source": [
        "## 👉 Imagine that you are a food inspector who is responsible for inspecting the lead content of a packaged food material at a factory. If the content exceeds 5%, you should print the message \"This batch cannot be approved\"."
      ],
      "metadata": {
        "id": "LOOH-zhSnf-0"
      }
    },
    {
      "cell_type": "code",
      "source": [
        "# Get the lead content of the packaged food material\n",
        "lead_content = float(input(\"Please enter the lead content of the packaged food material in percentage: \"))\n",
        "\n",
        "# Check if the lead content exceeds 5%\n",
        "if lead_content>5:\n",
        "  print(\"This batch cannot be approved\")\n",
        "else:\n",
        "  print(\"This batch can be approved\")"
      ],
      "metadata": {
        "colab": {
          "base_uri": "https://localhost:8080/"
        },
        "id": "F2IM_y7dnjZV",
        "outputId": "6563376c-a28b-4cdc-bc35-dddb3475bac7"
      },
      "execution_count": 49,
      "outputs": [
        {
          "output_type": "stream",
          "name": "stdout",
          "text": [
            "Please enter the lead content of the packaged food material in percentage: 10\n",
            "This batch cannot be approved\n"
          ]
        }
      ]
    },
    {
      "cell_type": "markdown",
      "source": [
        "## 👉 Imagine: You're a bouncer at a nightclub and need to check if someone is old enough to enter. The legal age for entry is 18 years. If the person is less than 18 years print \"Sorry You can not enter!\"."
      ],
      "metadata": {
        "id": "mZ1PJAtOnq6Z"
      }
    },
    {
      "cell_type": "code",
      "source": [
        "age = int(input(\"enter the age\"))\n",
        "\n",
        "#Check the age of the guest\n",
        "if age<18:\n",
        "  print(\"Sorry You can not enter!\")\n",
        "else:\n",
        "  print(\"Welcome!\")"
      ],
      "metadata": {
        "colab": {
          "base_uri": "https://localhost:8080/"
        },
        "id": "8GZ3O0UVnvNl",
        "outputId": "d5cc48d7-7f09-432f-bdf6-c4ffdb2daf0b"
      },
      "execution_count": 50,
      "outputs": [
        {
          "output_type": "stream",
          "name": "stdout",
          "text": [
            "enter the age45\n",
            "Welcome!\n"
          ]
        }
      ]
    },
    {
      "cell_type": "markdown",
      "source": [
        "## 👉 Imagine you are a fitness instructor who needs to evaluate if a client has reached their weight loss goal. The target weight loss goal is 10 pounds. If the client has lost at least 10 pounds, you should print the message \"Congratulations, you have reached your weight loss goal!\" However, if the client has lost less than 10 pounds, you should print \"Sorry, you have not reached your weight loss goal yet. Keep up the good work!\""
      ],
      "metadata": {
        "id": "YCDqJdXMn-AF"
      }
    },
    {
      "cell_type": "code",
      "source": [
        "# Get the client's weight loss\n",
        "client_weight_loss = float(input(\"Please enter the client's weight loss (in pounds): \"))\n",
        "\n",
        "# Check if the client reached their weight loss goal\n",
        "if client_weight_loss>=10:\n",
        "  print(\"Congratulations, you have reached your weight loss goal!\")\n",
        "else:\n",
        "        print(\"Sorry, you have not reached your weight loss goal yet. Keep up the good work!\")"
      ],
      "metadata": {
        "colab": {
          "base_uri": "https://localhost:8080/"
        },
        "id": "G1TaWI9PoCFV",
        "outputId": "fabb9669-8e9d-411a-ad4b-8c2151f4010c"
      },
      "execution_count": 51,
      "outputs": [
        {
          "output_type": "stream",
          "name": "stdout",
          "text": [
            "Please enter the client's weight loss (in pounds): 10\n",
            "Congratulations, you have reached your weight loss goal!\n"
          ]
        }
      ]
    },
    {
      "cell_type": "markdown",
      "source": [
        "##👉 Imagine: You're a gardener and need to check if a plant needs watering. If the soil moisture level is below 40%, print \"Water the plant!\", otherwise, print \"The plant doesn't need watering.\""
      ],
      "metadata": {
        "id": "TXZzySWhoMz9"
      }
    },
    {
      "cell_type": "code",
      "source": [
        "# Take input of moisture level\n",
        "moisture_level = int(input(\"Enter moisture level \"))\n",
        "\n",
        "#Check if moisture level is satisfactory or not\n",
        "if moisture_level<40:\n",
        "  print(\"Water the plant!\")\n",
        "else:\n",
        "  print(\"The plant doesn't need watering.\")"
      ],
      "metadata": {
        "colab": {
          "base_uri": "https://localhost:8080/"
        },
        "id": "vGaGLvIEoP2p",
        "outputId": "a3c1c733-1fde-4fc1-b09f-82013e0e9e0d"
      },
      "execution_count": 52,
      "outputs": [
        {
          "output_type": "stream",
          "name": "stdout",
          "text": [
            "Enter moisture level 76\n",
            "The plant doesn't need watering.\n"
          ]
        }
      ]
    },
    {
      "cell_type": "markdown",
      "source": [
        "##📦📬🚚 Creating a shipping cost calculator! ⚙️\n",
        "\n",
        "You need to create a program that calculates the cost of shipping a package based on its weight and destination 📦💰\n",
        "\n",
        "🌍 Domestic shipping within the country :\n",
        "\n",
        "* Packages weighing up to 1 kg cost Rs.50 to ship 🤑\n",
        "Each additional kg costs Rs.10 extra 💰\n",
        "\n",
        "🌎 International shipping to other countries 🌏:\n",
        "\n",
        "* Packages weighing up to 1 kg cost Rs.500 to ship 🤑\n",
        "\n",
        "Each additional kg costs Rs.100 extra 💰\n",
        "Ready to ship? 🚛🚀"
      ],
      "metadata": {
        "id": "2ThIe2pkoZ9z"
      }
    },
    {
      "cell_type": "code",
      "source": [
        "weight=float(input(\"Enter the weight of the package\"))\n",
        "destination=input(\"Enter the destination\")\n",
        "if destination.lower()==\"domestic\":\n",
        "  shipping_charge= 50+(weight-1)*10\n",
        "elif destination.lower()==\"international\":\n",
        "  shipping_charge= 500+(weight-1)*100\n",
        "else:\n",
        "  print(\"Invalid destination\")\n",
        "  shipping_charge=0\n",
        "\n",
        "print(f\"The shipping cost for a {weight}kg package to {destination} destination is Rs.{shipping_charge}\")"
      ],
      "metadata": {
        "colab": {
          "base_uri": "https://localhost:8080/"
        },
        "id": "u7USfXyW5iIW",
        "outputId": "33597848-ee8b-44c6-ece3-58651b027a65"
      },
      "execution_count": 10,
      "outputs": [
        {
          "output_type": "stream",
          "name": "stdout",
          "text": [
            "Enter the weight of the package5\n",
            "Enter the destinationinternational\n",
            "The shipping cost for a 5.0kg package to international destination is Rs.900.0\n"
          ]
        }
      ]
    },
    {
      "cell_type": "markdown",
      "source": [
        "## 🚗 As a car dealership manager, you need to create a discount system for your customers based on the price of the car they want to buy. Here are the rules! 📝\n",
        "\n",
        "🚘 If the car price is less than Rs. 10,00,000, there is no discount.\n",
        "\n",
        "🎁 If the car price is between Rs. 10,00,000 and Rs. 20,00,000, there is a discount of 5%.\n",
        "\n",
        "🎉 If the car price is between Rs. 20,00,000 and Rs. 30,00,000, there is a discount of 7.5%.\n",
        "\n",
        "🥳 If the car price is greater than Rs. 30,00,000, there is a discount of 10%.\n",
        "\n",
        "Are you ready to make your customers happy with these discounts? 🚗💰"
      ],
      "metadata": {
        "id": "JYnCSIm9oeFE"
      }
    },
    {
      "cell_type": "code",
      "source": [
        "car_price=int(input(\"Enter price of the car\"))\n",
        "if car_price<1000000:\n",
        "  print(\"Sorry ! There is no discount at this price\")\n",
        "if car_price>=1000000 and car_price<2000000:\n",
        "  dis=car_price*5/100\n",
        "  print(\"Price of the car after discount :\",car_price-dis)\n",
        "if car_price>=2000000 and car_price<3000000:\n",
        "  dis=car_price*7.5/100\n",
        "  print(\"Price of the car after discount :\",car_price-dis)\n",
        "if car_price>=3000000:\n",
        "  dis=car_price*10/100\n",
        "  print(\"Price of the car after discount :\",car_price-dis)"
      ],
      "metadata": {
        "colab": {
          "base_uri": "https://localhost:8080/"
        },
        "id": "JSwGIm0so73j",
        "outputId": "5362f80d-3e1b-42aa-c9d8-4669a118d8ce"
      },
      "execution_count": 4,
      "outputs": [
        {
          "output_type": "stream",
          "name": "stdout",
          "text": [
            "Enter price of the car1500000\n",
            "Price of the car after discount : 1425000.0\n"
          ]
        }
      ]
    },
    {
      "cell_type": "markdown",
      "source": [
        "# **Loops & Iterations**"
      ],
      "metadata": {
        "id": "Ke7UrlQNowm6"
      }
    },
    {
      "cell_type": "markdown",
      "source": [
        "## You and your friends are playing a board game where you roll a dice and move your game piece accordingly. However, you want to know the average number rolled by each player to see who's really the luckiest. Write a program that takes a list of rolls as input for each player and uses a for loop to calculate the average roll for each player. The winner gets bragging rights for being the luckiest!"
      ],
      "metadata": {
        "id": "SaVm7xU69lTw"
      }
    },
    {
      "cell_type": "code",
      "source": [
        "player_rolls = [\n",
        "    [3, 5, 6, 2, 1],  # player 1's rolls\n",
        "    [4, 4, 6, 3, 2],  # player 2's rolls\n",
        "    [1, 5, 6, 6, 4]   # player 3's rolls\n",
        "] # list of a list"
      ],
      "metadata": {
        "id": "uJebnNmW9o5S"
      },
      "execution_count": 11,
      "outputs": []
    },
    {
      "cell_type": "code",
      "source": [
        "max_avg = 0\n",
        "max_index = 0\n",
        "for index in range(len(player_rolls)):\n",
        "  print(player_rolls[index])\n",
        "  average_index = sum(player_rolls[index])/len(player_rolls[index])\n",
        "  print(\"Average roll of player at index \",index, f\" is {average_index}\")\n",
        "  if average_index>max_avg:\n",
        "    max_avg = average_index\n",
        "    max_index = index\n",
        "print(\"Maximum average :\" ,max_avg)"
      ],
      "metadata": {
        "colab": {
          "base_uri": "https://localhost:8080/"
        },
        "id": "gdtGMyJL9vO3",
        "outputId": "fe05b704-34dc-40f8-ff23-ec8098eea1d5"
      },
      "execution_count": 12,
      "outputs": [
        {
          "output_type": "stream",
          "name": "stdout",
          "text": [
            "[3, 5, 6, 2, 1]\n",
            "Average roll of player at index  0  is 3.4\n",
            "[4, 4, 6, 3, 2]\n",
            "Average roll of player at index  1  is 3.8\n",
            "[1, 5, 6, 6, 4]\n",
            "Average roll of player at index  2  is 4.4\n",
            "Maximum average : 4.4\n"
          ]
        }
      ]
    },
    {
      "cell_type": "markdown",
      "source": [
        "**Instructions:**\n",
        "\n",
        "1. Define a list of rolls for each player, where each list contains the numbers rolled by the player.\n",
        "2. Use a for loop to iterate over each player's rolls in the list of player rolls.\n",
        "3. For each player, calculate the average roll by summing up all the rolls and dividing by the number of rolls. You can use the formula sum(rolls) / len(rolls) to do this.\n",
        "4. Print out each player's average roll using f-strings to display the player number and their average roll to two decimal places."
      ],
      "metadata": {
        "id": "Fvtuq6G690e4"
      }
    },
    {
      "cell_type": "markdown",
      "source": [
        "## Write a Python program that analyzes a list of names and sorts them into two categories: those that start with a vowel and those that start with a consonant. To achieve this, you'll use a nested loop and some basic conditional statements."
      ],
      "metadata": {
        "id": "7Cy7oveK94R2"
      }
    },
    {
      "cell_type": "code",
      "source": [
        "names = [\"Alice\", \"Bob\", \"Eve\", \"Charlie\", \"Ivy\", \"David\", \"Olivia\", \"Peter\"]\n",
        "list_vowel=[]\n",
        "list_consonant=[]\n",
        "for i in names:\n",
        "    if i[0] in 'aeiouAEIOU':\n",
        "      list_vowel.append(i)\n",
        "    else:\n",
        "      list_consonant.append(i)\n",
        "print(\"Names starting with the vowels :\",list_vowel)\n",
        "print(\"Names starting with consonants :\",list_consonant)"
      ],
      "metadata": {
        "colab": {
          "base_uri": "https://localhost:8080/"
        },
        "id": "Vj1DGw6L98Sl",
        "outputId": "aa31d7a5-7aa3-41a9-f363-c5dcec8dc4e2"
      },
      "execution_count": 13,
      "outputs": [
        {
          "output_type": "stream",
          "name": "stdout",
          "text": [
            "Names starting with the vowels : ['Alice', 'Eve', 'Ivy', 'Olivia']\n",
            "Names starting with consonants : ['Bob', 'Charlie', 'David', 'Peter']\n"
          ]
        }
      ]
    },
    {
      "cell_type": "markdown",
      "source": [
        "**Instructions**\n",
        "\n",
        "1. Start by defining a list of names. You can call this list names and initialize it with a few names.\n",
        "\n",
        "2. Define two empty lists to store the names that start with vowels and consonants, respectively. You can call these lists vowel_names and consonant_names.\n",
        "\n",
        "3. Use a nested loop to iterate through each name in the names list. The outer loop should iterate through each name, while the inner loop should iterate through each character in the name.\n",
        "\n",
        "4. Inside the inner loop, use an if statement to check if the first letter of the name is a vowel or a consonant. You can do this by checking if the first character of the name is in a list of vowels.\n",
        "\n",
        "5. If the first letter is a vowel, append the name to the vowel_names list using the append() method.\n",
        "\n",
        "6. If the first letter is a consonant, append the name to the consonant_names list using the append() method.\n",
        "\n",
        "7. Once the loop has finished iterating through all the names, use the print() function to print the two lists of names. You can include a message indicating which list contains the names that start with vowels and which list contains the names that start with consonants"
      ],
      "metadata": {
        "id": "JHr3__TY-Ars"
      }
    },
    {
      "cell_type": "markdown",
      "source": [
        "## You are a teacher and you have a dictionary containing the grades of your students in a particular subject. The keys of the dictionary are the names of the students, and the values are their respective grades. You need to find the students who scored above 90% and print out their names."
      ],
      "metadata": {
        "id": "bffTBtcz-FxN"
      }
    },
    {
      "cell_type": "code",
      "source": [
        "# Define the grades dictionary\n",
        "grades = {\n",
        "    'Alice': 85,\n",
        "    'Bob': 92,\n",
        "    'Charlie': 88,\n",
        "    'David': 95,\n",
        "    'Emily': 78,\n",
        "    'Frank': 91\n",
        "}\n",
        "for name,grade in grades.items():\n",
        "  if grade>90:\n",
        "    print(f\"Student who scores above 90% is {name}\")"
      ],
      "metadata": {
        "colab": {
          "base_uri": "https://localhost:8080/"
        },
        "id": "6L-dKgEA-NMl",
        "outputId": "6c5f7953-0d14-4dfe-e8b6-a89a8bae1507"
      },
      "execution_count": 14,
      "outputs": [
        {
          "output_type": "stream",
          "name": "stdout",
          "text": [
            "Student who scores above 90% is Bob\n",
            "Student who scores above 90% is David\n",
            "Student who scores above 90% is Frank\n"
          ]
        }
      ]
    },
    {
      "cell_type": "markdown",
      "source": [
        "**Instruction**\n",
        "\n",
        "1. Define a dictionary to store the grades of the students. The keys of the dictionary should be the names of the students, and the values should be their respective grades.\n",
        "\n",
        "2. Loop through the dictionary using a for loop and retrieve the grade of each student.\n",
        "\n",
        "3. Check if the grade is greater than 90%. If it is, print out the name of the student.\n",
        "\n",
        "4. Repeat steps 2-3 for all the students in the dictionary.\n",
        "\n",
        "5. Once the loop is complete, the names of the students who scored above 90% will have been printed to the console."
      ],
      "metadata": {
        "id": "V2DtC2fR-RYO"
      }
    },
    {
      "cell_type": "markdown",
      "source": [
        "## You're given a nested list of numbers, and your task is to count the number of odd and even numbers in the list. To achieve this, you'll use a nested loop and some basic conditional statements.\n",
        "\n",
        "List - numbers = [\n",
        "    [2, 5, 11, 20, 8],\n",
        "    [9, 4, 15, 28, 17],\n",
        "    [1, 6, 21, 18, 3],\n",
        "    [10, 13, 25, 33, 30],\n",
        "    [14, 7, 16, 19, 22]\n",
        "]"
      ],
      "metadata": {
        "id": "WV_B459w-V5t"
      }
    },
    {
      "cell_type": "markdown",
      "source": [
        "**Instructions**\n",
        "\n",
        "1. Inititate the odd and even count variables.\n",
        "2. Iterate through the outer list first. ie, [2,5,11,20,8] would be the item in the first iteration.\n",
        "3. Iterate through this resulting list using an inner for loop.\n",
        "4. Check if the number is odd or even, and add the count to the counter variables initialised before.\n",
        "5. Print the odd and even counts."
      ],
      "metadata": {
        "id": "8TrNcYYx-ZxD"
      }
    },
    {
      "cell_type": "code",
      "source": [
        "# List of numbers\n",
        "numbers = [\n",
        "    [2, 5, 11, 20, 8],\n",
        "    [9, 4, 15, 28, 17],\n",
        "    [1, 6, 21, 18, 3],\n",
        "    [10, 13, 25, 33, 30],\n",
        "    [14, 7, 16, 19, 22]\n",
        "]\n",
        "count_even=0\n",
        "count_odd=0\n",
        "for number_matrix in numbers:\n",
        "  for number in number_matrix:\n",
        "    if number%2==0:\n",
        "      count_even+=1\n",
        "    else:\n",
        "      count_odd+=1\n",
        "print(\"Even Numbers count in the list :\",count_even)\n",
        "print(\"Odd Numbers count in the list :\",count_odd)"
      ],
      "metadata": {
        "colab": {
          "base_uri": "https://localhost:8080/"
        },
        "id": "6zvBGjO0-eWT",
        "outputId": "65714ef3-86a8-40e3-f1f1-e075766d3c91"
      },
      "execution_count": 15,
      "outputs": [
        {
          "output_type": "stream",
          "name": "stdout",
          "text": [
            "Even Numbers count in the list : 12\n",
            "Odd Numbers count in the list : 13\n"
          ]
        }
      ]
    },
    {
      "cell_type": "markdown",
      "source": [
        "## Imagine you're organizing a chess tournament 🏆, where each player has to play against every other player. To achieve this, you can use nested loops in Python! Nested loops are simply loops within loops, and they come in handy when you need to perform tasks involving multiple levels of iteration.\n",
        "\n",
        "In Python, you can nest 'for' loops, 'while' loops, or even a combination of both. Let's take a closer look at how nested loops work using our chess tournament scenario:"
      ],
      "metadata": {
        "id": "R6g9zLKT-i6K"
      }
    },
    {
      "cell_type": "code",
      "source": [
        "# Write Your Code Here\n",
        "players = ['Alice', 'Bob', 'Charlie', 'Diana']\n",
        "for player in players:\n",
        "  for sec_player in players:\n",
        "    if player!=sec_player:\n",
        "      print(f\"Player {player} plays against Player\", f\"{sec_player}\")"
      ],
      "metadata": {
        "colab": {
          "base_uri": "https://localhost:8080/"
        },
        "id": "4ZHH8hYd-pYT",
        "outputId": "f1cadbe0-6adb-4032-eea6-4a4e76f6b4c4"
      },
      "execution_count": 16,
      "outputs": [
        {
          "output_type": "stream",
          "name": "stdout",
          "text": [
            "Player Alice plays against Player Bob\n",
            "Player Alice plays against Player Charlie\n",
            "Player Alice plays against Player Diana\n",
            "Player Bob plays against Player Alice\n",
            "Player Bob plays against Player Charlie\n",
            "Player Bob plays against Player Diana\n",
            "Player Charlie plays against Player Alice\n",
            "Player Charlie plays against Player Bob\n",
            "Player Charlie plays against Player Diana\n",
            "Player Diana plays against Player Alice\n",
            "Player Diana plays against Player Bob\n",
            "Player Diana plays against Player Charlie\n"
          ]
        }
      ]
    },
    {
      "cell_type": "markdown",
      "source": [
        "**Instructions**\n",
        "\n",
        "1. Inititiate the list.\n",
        "2. Iterate through the list in first loop.\n",
        "3. Iterate throught the same list in inner loop.\n",
        "4. Compare the element in the outer and inner loops. If they are not the same players, print \"Player x plays against Player y\"."
      ],
      "metadata": {
        "id": "0vV1EI3E-wu6"
      }
    },
    {
      "cell_type": "markdown",
      "source": [
        "# **Conditional & Infinite Looping**"
      ],
      "metadata": {
        "id": "dc32iMru-0QY"
      }
    },
    {
      "cell_type": "markdown",
      "source": [
        "## **Building a Simple Calculator**\n",
        "\n",
        "In this activity, you will build a simple calculator using conditional looping in Python. The calculator will ask the user for two numbers and an operation (addition, subtraction, multiplication, or division), and then perform the operation on the two numbers."
      ],
      "metadata": {
        "id": "wMYr3xfJ-3Ln"
      }
    },
    {
      "cell_type": "markdown",
      "source": [
        "**Instructions**:\n",
        "\n",
        "1. First, enter your first choice number.\n",
        "2. Second, enter your second choice number.\n",
        "3. Choose or enter the operation you want to perform.User Input will be \"(addition, subtraction, multiplication, or division)\".\n",
        "4. Use a conditional loop to perform the appropriate operation you want to perform.\n",
        "5. Finally, print the result of the operation."
      ],
      "metadata": {
        "id": "82Mxlw-_--B8"
      }
    },
    {
      "cell_type": "code",
      "source": [
        "# Write code here\n",
        "first=int(input(\"Enter first choice number\"))\n",
        "second=int(input(\"Enter second choice number\"))\n",
        "operation_tobe=input(\"Enter the operation you want to perform\")\n",
        "if operation_tobe=='addition':\n",
        "  print(\"Addition of \", first, \" and \",second ,\" is\",(first+second))\n",
        "if operation_tobe=='subtraction':\n",
        "  print(\"Subtraction of \", first, \" and \",second ,\" is\",(first-second))\n",
        "if operation_tobe=='multiplication':\n",
        "  print(\"Multiplication of \", first, \" and \",second ,\" is\",(first*second))\n",
        "if operation_tobe=='division':\n",
        "  print(\"Division of \", first, \" and \",second ,\" is\",(first/second))"
      ],
      "metadata": {
        "colab": {
          "base_uri": "https://localhost:8080/"
        },
        "id": "sBTKagI-_BiH",
        "outputId": "eecac5bc-10a9-4268-f1e6-be2e8a3479c0"
      },
      "execution_count": 17,
      "outputs": [
        {
          "output_type": "stream",
          "name": "stdout",
          "text": [
            "Enter first choice number5\n",
            "Enter second choice number12\n",
            "Enter the operation you want to performaddition\n",
            "Addition of  5  and  12  is 17\n"
          ]
        }
      ]
    },
    {
      "cell_type": "markdown",
      "source": [
        "## **Building a Guessing Game**\n",
        "\n",
        "In this activity, you will build a simple guessing game using conditional looping in Python. The game will generate a random number between 1 and 100, and the user will have to guess the number within a certain number of tries. The program will provide hints to the user after each guess, telling them whether their guess is too high or too low."
      ],
      "metadata": {
        "id": "2TaoQQn0_Juy"
      }
    },
    {
      "cell_type": "markdown",
      "source": [
        "**What is the random module?**\n",
        "\n",
        "The random module is a built-in Python module that provides a suite of functions for generating random numbers and sequences. This module is often used in applications where randomization is important, such as games, simulations, and cryptography.\n",
        "\n",
        "You do not need to worry much about this as you will be learning about these modules and functions in the upcoming classes."
      ],
      "metadata": {
        "id": "C9AY5H6b_NVb"
      }
    },
    {
      "cell_type": "markdown",
      "source": [
        "**Instructions:**\n",
        "\n",
        "1. First, import the \"random\" module to generate a random number for the game.\n",
        "2. Next, enter the number of tries you want to have and set a counter to keep track of how many tries you are left with.\n",
        "3. Now, use a while loop to allow yourself to keep guessing until you either guess the correct number or run out of tries.\n",
        "4. Finally, if you run out of tries without guessing the correct number, print a message telling what the secret number was."
      ],
      "metadata": {
        "id": "cs5qt84r_QhC"
      }
    },
    {
      "cell_type": "code",
      "source": [
        "import random\n",
        "\n",
        "# Generate a random number between 1 and 100\n",
        "secret_number = random.randint(1, 100)\n",
        "\n",
        "# Write code here\n",
        "num_tries=int(input(\"Enter the number of tries\"))\n",
        "while num_tries>0:\n",
        "  number=input(\"Enter a number\")\n",
        "  if secret_number==number:\n",
        "    print(\"You have guessed the correct secret number\")\n",
        "  else:\n",
        "    num_tries-=1\n",
        "print(\"Secret number was :\",secret_number)"
      ],
      "metadata": {
        "colab": {
          "base_uri": "https://localhost:8080/"
        },
        "id": "CuUFDXdg_ULe",
        "outputId": "2710bb83-b2bf-4d62-bc84-f9d0e17ebe49"
      },
      "execution_count": 18,
      "outputs": [
        {
          "output_type": "stream",
          "name": "stdout",
          "text": [
            "Enter the number of tries5\n",
            "Enter a number67\n",
            "Enter a number68\n",
            "Enter a number5\n",
            "Enter a number55\n",
            "Enter a number78\n",
            "Secret number was : 28\n"
          ]
        }
      ]
    },
    {
      "cell_type": "markdown",
      "source": [
        "## **Building a Fibonacci Sequence Generator**\n",
        "\n",
        "In this activity, you will build a program that generates a Fibonacci sequence using conditional looping in Python. The Fibonacci sequence is a series of numbers in which each number is the sum of the two preceding numbers. The sequence starts with 0 and 1, and the next number in the sequence is the sum of the previous two numbers."
      ],
      "metadata": {
        "id": "2g998SD7_jnZ"
      }
    },
    {
      "cell_type": "code",
      "source": [
        "# Write code here\n",
        "no_of_terms=int(input(\"Enter how many terms you want in the sequence\"))\n",
        "a=0\n",
        "b=1\n",
        "print(\"The Fibonacci Sequence\")\n",
        "print(a)\n",
        "print(b)\n",
        "while(no_of_terms-2)>0:\n",
        "  next=a+b\n",
        "  print(next)\n",
        "  a=b\n",
        "  b=next\n",
        "  no_of_terms-=1"
      ],
      "metadata": {
        "colab": {
          "base_uri": "https://localhost:8080/"
        },
        "id": "FXDoa5gW_vCN",
        "outputId": "8cad7a64-2f31-4370-8060-125f40be590f"
      },
      "execution_count": 19,
      "outputs": [
        {
          "output_type": "stream",
          "name": "stdout",
          "text": [
            "Enter how many terms you want in the sequence6\n",
            "The Fibonacci Sequence\n",
            "0\n",
            "1\n",
            "1\n",
            "2\n",
            "3\n",
            "5\n"
          ]
        }
      ]
    },
    {
      "cell_type": "markdown",
      "source": [
        "**Instructions:**\n",
        "\n",
        "1. First, enter how many terms you want in the sequence.\n",
        "2. Then, initialize the first two terms of the sequence.\n",
        "3. Use a while loop to generate the remaining terms of the sequence.\n",
        "4. Finally, print the sequence."
      ],
      "metadata": {
        "id": "-aDWuJmg_z9l"
      }
    },
    {
      "cell_type": "markdown",
      "source": [
        "## **Counting the Digit**\n",
        "\n",
        "You have been given a task to write a Python program that counts the number of times a specific digit appears in a range of numbers. You need to use a for loop to iterate over the range of numbers, and a while loop to check each digit in the number."
      ],
      "metadata": {
        "id": "6dCKyPPK_4Ig"
      }
    },
    {
      "cell_type": "markdown",
      "source": [
        "Example:\n",
        "\n",
        "* Enter start number: 100\n",
        "* Enter end number: 150\n",
        "* Enter digit to count: 5\n",
        "* The digit 5 appears 6 times between 100 and 150."
      ],
      "metadata": {
        "id": "08vodiw8_8Rv"
      }
    },
    {
      "cell_type": "code",
      "source": [
        "# Write code here\n",
        "start_num=int(input(\"Enter start number\"))\n",
        "end_num=int(input(\"Enter end number\"))\n",
        "digit_to_count=int(input(\"Enter digit to count\"))\n",
        "counter=0\n",
        "for i in range(start_num,end_num+1):\n",
        "  while i>0:\n",
        "    a=i%10\n",
        "    if a==digit_to_count:\n",
        "      counter+=1\n",
        "    i=i/10\n",
        "print(digit_to_count,\" appears \",counter,\" times between \",start_num,\" and \",end_num)"
      ],
      "metadata": {
        "colab": {
          "base_uri": "https://localhost:8080/"
        },
        "id": "017I5_zH__9g",
        "outputId": "29a5d98b-eae0-44fa-ac41-0bb2b51b178f"
      },
      "execution_count": 20,
      "outputs": [
        {
          "output_type": "stream",
          "name": "stdout",
          "text": [
            "Enter start number24\n",
            "Enter end number35\n",
            "Enter digit to count5\n",
            "5  appears  2  times between  24  and  35\n"
          ]
        }
      ]
    },
    {
      "cell_type": "markdown",
      "source": [
        "**Instructions:**\n",
        "\n",
        "1. First, input two numbers as the range (start and end) between which the program should count the occurrence of a digit.\n",
        "2. Then, input the digit that needs to be counted.\n",
        "3. Initialize a counter variable to keep track of the number of occurrences of the digit.\n",
        "4. Use a for loop to iterate over the range of numbers between the start and end values (inclusive).\n",
        "5. Within the for loop, use a while loop to check each digit in the current number. If the digit matches the digit to be counted, increment the counter variable.\n",
        "6. After the for loop completes, print the total count of the digit that was entered by the user."
      ],
      "metadata": {
        "id": "wgPJEGSkAL6-"
      }
    },
    {
      "cell_type": "markdown",
      "source": [
        "# **Custom Functions in Python**"
      ],
      "metadata": {
        "id": "hodTVuS6APyk"
      }
    },
    {
      "cell_type": "markdown",
      "source": [
        "## **Building a Calculator**\n",
        "\n",
        "\n",
        "In this activity, we will create a custom function in Python to build a calculator that can perform basic arithmetic operations such as addition, subtraction, multiplication, and division."
      ],
      "metadata": {
        "id": "zDaC0Lh9ATUr"
      }
    },
    {
      "cell_type": "markdown",
      "source": [
        "**💻 Code:**"
      ],
      "metadata": {
        "id": "l-0xGm4tAXLq"
      }
    },
    {
      "cell_type": "code",
      "source": [
        "# Define a function called calculator that takes three arguments: num1, num2, and operation\n",
        "def calculator(num1,num2,operation):\n",
        "  if operation=='+':\n",
        "    result=num1+num2\n",
        "  elif operation=='-':\n",
        "    result=num1-num2\n",
        "  elif operation=='*':\n",
        "    result=num1*num2\n",
        "  elif operation=='/':\n",
        "    result=num1/num2\n",
        "  else:\n",
        "    result=\"Invalid operation\"\n",
        "  return result"
      ],
      "metadata": {
        "id": "kjYJ1CzQAcv6"
      },
      "execution_count": 21,
      "outputs": []
    },
    {
      "cell_type": "markdown",
      "source": [
        "**🧪 Test Code:**"
      ],
      "metadata": {
        "id": "VzHXV9TxAmp3"
      }
    },
    {
      "cell_type": "code",
      "source": [
        "# Test the calculator function\n",
        "calculator(2,9,'*')"
      ],
      "metadata": {
        "colab": {
          "base_uri": "https://localhost:8080/"
        },
        "id": "1JimY1xkApm1",
        "outputId": "ea4bcb95-f7cf-44fb-9bba-3caf2fe712f3"
      },
      "execution_count": 22,
      "outputs": [
        {
          "output_type": "execute_result",
          "data": {
            "text/plain": [
              "18"
            ]
          },
          "metadata": {},
          "execution_count": 22
        }
      ]
    },
    {
      "cell_type": "markdown",
      "source": [
        "**Instructions:**\n",
        "\n",
        "1. Define a function called calculator that takes three arguments: num1, num2, and operation.\n",
        "2. In the function, use an if-else statement to determine the arithmetic operation to perform based on the value of operation.\n",
        "3. If operation is '+', return the sum of num1 and num2.\n",
        "4. If operation is '-', return the difference between num1 and num2.\n",
        "5. If operation is '*', return the product of num1 and num2.\n",
        "6. If operation is '/', return the quotient of num1 and num2.\n",
        "7. If operation is not one of the four valid arithmetic operations, return the string \"Invalid operation\".\n",
        "7. Test your function by calling it with different values for num1, num2, and operation."
      ],
      "metadata": {
        "id": "vyy2exE1Atg5"
      }
    },
    {
      "cell_type": "markdown",
      "source": [
        "## **Dice Rolling** 🎲\n",
        "\n",
        "Roll a dice and display the result. 🎲"
      ],
      "metadata": {
        "id": "6nd-7HDKAw_z"
      }
    },
    {
      "cell_type": "markdown",
      "source": [
        "**What is the random module?**\n",
        "\n",
        "The random module is a built-in Python module that provides a suite of functions for generating random numbers and sequences. This module is often used in applications where randomization is important, such as games, simulations, and cryptography."
      ],
      "metadata": {
        "id": "L8twHYKmA0fV"
      }
    },
    {
      "cell_type": "code",
      "source": [
        "import random\n",
        "def roll_dice():\n",
        "  return random.randint(1,6)\n",
        "result= roll_dice()\n",
        "print(f\"The result of the dice roll is {result}\")"
      ],
      "metadata": {
        "colab": {
          "base_uri": "https://localhost:8080/"
        },
        "id": "l0xHVvlEBO6f",
        "outputId": "f10f1ea0-b8a7-49e8-a4f5-3a3872f49a0c"
      },
      "execution_count": 25,
      "outputs": [
        {
          "output_type": "stream",
          "name": "stdout",
          "text": [
            "The result of the dice roll is 1\n"
          ]
        }
      ]
    },
    {
      "cell_type": "markdown",
      "source": [
        "**Instructions:**\n",
        "\n",
        "1. The random module shoud be imported to generate a random number for the dice roll.\n",
        "2. roll_dice() is defined as a custom function that generates a random number between 1 and 6.\n",
        "3. The function returns the result of the dice roll.\n",
        "4. The result variable is assigned to the return value of the roll_dice() function.\n",
        "5. The result is printed using a formatted string."
      ],
      "metadata": {
        "id": "iWDIt-3AA4ju"
      }
    },
    {
      "cell_type": "markdown",
      "source": [
        "## **Celsius to Fahrenheit Converter**\n",
        "\n",
        "Create a custom function that takes in a temperature in Celsius and returns the temperature in Fahrenheit.\n",
        "\n",
        "**For example**: If the input temperature is 20 degrees Celsius, the output temperature should be 68 degrees Fahrenheit."
      ],
      "metadata": {
        "id": "wxh9KstdB_DS"
      }
    },
    {
      "cell_type": "markdown",
      "source": [
        "💻 Code:"
      ],
      "metadata": {
        "id": "k4PeUf6KCCt0"
      }
    },
    {
      "cell_type": "code",
      "source": [
        "# Define a function to convert celsius to fahrenheit\n",
        "def converter(temp_in_celsius):\n",
        "  return (temp_in_celsius*9/5)+32"
      ],
      "metadata": {
        "id": "WDctIBVFCFYb"
      },
      "execution_count": 26,
      "outputs": []
    },
    {
      "cell_type": "markdown",
      "source": [
        "**🧪 Test Code:**"
      ],
      "metadata": {
        "id": "MfyWFceNCJGs"
      }
    },
    {
      "cell_type": "code",
      "source": [
        "# Example usage\n",
        "converter(20)"
      ],
      "metadata": {
        "colab": {
          "base_uri": "https://localhost:8080/"
        },
        "id": "kQ7BTfjRCL4h",
        "outputId": "c7c06c56-8e1e-4c91-e8a7-5ea7d902cbdd"
      },
      "execution_count": 27,
      "outputs": [
        {
          "output_type": "execute_result",
          "data": {
            "text/plain": [
              "68.0"
            ]
          },
          "metadata": {},
          "execution_count": 27
        }
      ]
    },
    {
      "cell_type": "markdown",
      "source": [
        "Output:\n",
        "\n",
        "If the input temperature is 20 degrees Celsius, the output temperature should be 68 degrees Fahrenheit."
      ],
      "metadata": {
        "id": "r3wn17IqCQW-"
      }
    },
    {
      "cell_type": "markdown",
      "source": [
        "**Instructions:**\n",
        "\n",
        "To create this function, you can use the formula to convert the temperature in Celsius to Fahrenheit. The formula for converting Celsius to Fahrenheit is F = (C * 9/5) + 32, where F is the temperature in Fahrenheit and C is the temperature in Celsius."
      ],
      "metadata": {
        "id": "x8Vdo4pQCTT6"
      }
    },
    {
      "cell_type": "markdown",
      "source": [
        "## **Sum odd Numbers** ➖\n",
        "\n",
        "In this activity, you will create a custom function in Python that takes a list of integers as an argument and returns the sum of all odd numbers in the list."
      ],
      "metadata": {
        "id": "6pvSxylQCW5Z"
      }
    },
    {
      "cell_type": "markdown",
      "source": [
        "💻 Code:"
      ],
      "metadata": {
        "id": "iVLP9Y1wCipW"
      }
    },
    {
      "cell_type": "code",
      "source": [
        "# define sum_odd custom function\n",
        "def sum_odd(lst):\n",
        "  sum=0\n",
        "  for num in lst:\n",
        "    if num%2!=0:\n",
        "      sum+=num\n",
        "  return sum"
      ],
      "metadata": {
        "id": "uDPOsSRKCldz"
      },
      "execution_count": 28,
      "outputs": []
    },
    {
      "cell_type": "markdown",
      "source": [
        "**🧪 Test Code:**"
      ],
      "metadata": {
        "id": "YyOQdepqCtok"
      }
    },
    {
      "cell_type": "code",
      "source": [
        "# test here\n",
        "sum_odd([1,2,3,4,5,6])"
      ],
      "metadata": {
        "colab": {
          "base_uri": "https://localhost:8080/"
        },
        "id": "4rIUqhxECwbj",
        "outputId": "bbc70f3f-2063-4591-acd5-4f67e63b4a29"
      },
      "execution_count": 29,
      "outputs": [
        {
          "output_type": "execute_result",
          "data": {
            "text/plain": [
              "9"
            ]
          },
          "metadata": {},
          "execution_count": 29
        }
      ]
    },
    {
      "cell_type": "markdown",
      "source": [
        "🤖 Output should be in format:\n",
        "\n",
        "If the input is [1, 2, 3, 4, 5, 6], then the output should be 9"
      ],
      "metadata": {
        "id": "3iQ-k9vnC1Si"
      }
    },
    {
      "cell_type": "markdown",
      "source": [
        "**Instructions:**\n",
        "\n",
        "To create the sum_odd function, follow these steps:\n",
        "\n",
        "1. Define a function named sum_odd that takes one argument, lst.\n",
        "2. Inside the function, create a variable named result and set its value to 0.\n",
        "3. Use a for loop to iterate through each element in lst.\n",
        "4. For each element, check if it is odd by using the modulus operator (%). If the result not is 0, add the element to result.\n",
        "5. After the loop, return result."
      ],
      "metadata": {
        "id": "pLnXq_n6C5lg"
      }
    },
    {
      "cell_type": "markdown",
      "source": [
        "# **Advanced Looping Concepts**"
      ],
      "metadata": {
        "id": "17BqPMdAC96t"
      }
    },
    {
      "cell_type": "markdown",
      "source": [
        "## **Lambda Functions**\n",
        "\n",
        "🧑‍💻 You are working as a Python developer for a startup company that has just received a project from a client. The client wants a program that can perform certain operations on lists using lambda functions. Your manager has assigned you the task of finding the sum of squared odd numbers from the list.\n",
        "\n",
        "👉 Hint: You have to use filter, map and reduce functions to get the task done."
      ],
      "metadata": {
        "id": "xy1cODjqDBxP"
      }
    },
    {
      "cell_type": "code",
      "source": [
        "# Import reduce from functools module\n",
        "from functools import reduce\n",
        "\n",
        "# Create a list of numbers from 1 to 10\n",
        "numbers = list(range(1, 11))\n",
        "\n",
        "# Write your code here\n",
        "filtered_odd=filter(lambda x:x%2!=0,numbers)\n",
        "Squared_odd=map(lambda x:x**2,filtered_odd)\n",
        "sum_squared_odd=reduce(lambda x,y:x+y,Squared_odd)\n",
        "print(\"Sum of squared odd numbers from the list: \",sum_squared_odd)"
      ],
      "metadata": {
        "colab": {
          "base_uri": "https://localhost:8080/"
        },
        "id": "n0IsBHMDDEbF",
        "outputId": "91177432-588a-49d1-808d-40f261c5494c"
      },
      "execution_count": 30,
      "outputs": [
        {
          "output_type": "stream",
          "name": "stdout",
          "text": [
            "Sum of squared odd numbers from the list:  165\n"
          ]
        }
      ]
    },
    {
      "cell_type": "markdown",
      "source": [
        "**Instructions:**\n",
        "\n",
        "1. Begin by creating a list of numbers from 1 to 10.\n",
        "2. Use a lambda function to filter out all even numbers from the list.\n",
        "3. Use a lambda function to square all the remaining odd numbers in the filtered list.\n",
        "4. Use a lambda function to find the sum of all the squared odd numbers in the list.\n",
        "5. Print the final result."
      ],
      "metadata": {
        "id": "8YkzA7mYDUim"
      }
    },
    {
      "cell_type": "markdown",
      "source": [
        "## **Pizza Toppings**\n",
        "\n",
        "🍕🍔 You have two lists, one containing pizza toppings and the other containing burger toppings. You need to create a new list that contains all the toppings from both the pizza and burger toppings lists, but only if they have more than 5 characters in their name.\n",
        "\n",
        "Can you write the code to create a new list that contains all the toppings from both the pizza and burger toppings lists, but only if they have more than 5 characters in their name using list comprehension only?\n",
        "\n",
        "👉 Hint: You can use a conditional statement to check the length of each topping's name."
      ],
      "metadata": {
        "id": "L-sV6ZgVDXwH"
      }
    },
    {
      "cell_type": "code",
      "source": [
        "# Here are the example lists of toppings\n",
        "pizza_toppings = ['mushroom', 'olive', 'tomato', 'pepperoni', 'onion', 'garlic']\n",
        "burger_toppings = ['lettuce', 'cheese', 'mayonnaise', 'bacon', 'pickle', 'avocado']\n",
        "\n",
        "# Write your code here\n",
        "combined_toppings=[toppings for toppings in pizza_toppings+burger_toppings if len(toppings)>5]\n",
        "print(\"All the toppings from pizza and burger toppings lists :\",combined_toppings)"
      ],
      "metadata": {
        "colab": {
          "base_uri": "https://localhost:8080/"
        },
        "id": "oUQzNENtDakX",
        "outputId": "52d8f28e-7ac7-4f32-c247-ad700d7fc934"
      },
      "execution_count": 31,
      "outputs": [
        {
          "output_type": "stream",
          "name": "stdout",
          "text": [
            "All the toppings from pizza and burger toppings lists : ['mushroom', 'tomato', 'pepperoni', 'garlic', 'lettuce', 'cheese', 'mayonnaise', 'pickle', 'avocado']\n"
          ]
        }
      ]
    },
    {
      "cell_type": "markdown",
      "source": [
        "**Instructions:**\n",
        "\n",
        "1. Create two lists of toppings, one for pizza and one for burgers.\n",
        "\n",
        "2. Use list comprehension to iterate over both the pizza and burger toppings lists, and combine them into a new list.\n",
        "\n",
        "3. Use a conditional statement to check the length of each topping's name, and only include it in the new list if it has more than 5 characters."
      ],
      "metadata": {
        "id": "V5OPXo9hDh9a"
      }
    },
    {
      "cell_type": "markdown",
      "source": [
        "## **Sales Data**\n",
        "\n",
        "🌎🛍️ Suppose you work for a company that sells products in different countries. You have been given two lists: one containing the names of the countries where the company sells its products, and the other containing the sales data for each country. Your task is to create a dictionary where the keys are the country names, and the values are the corresponding sales data. However, the sales data should only include values that are greater than 1000. You are not allowed to use any loops, and must use list comprehension to solve the problem.\n",
        "\n",
        "Can you write the code to create the desired dictionary using list comprehension?\n",
        "\n",
        "👉 Hint: You can use zip function to create pairs of country and sales data from the two lists."
      ],
      "metadata": {
        "id": "_dilJ9Y7Dmb3"
      }
    },
    {
      "cell_type": "code",
      "source": [
        "# Here are the two lists\n",
        "countries = [\"USA\", \"Canada\", \"Mexico\", \"Brazil\", \"UK\", \"France\", \"Germany\", \"China\", \"India\"]\n",
        "sales = [2500, 300, 1200, 800, 500, 2000, 4000, 1000, 1500]\n",
        "\n",
        "# Write your code here\n",
        "sales_dictionary={country:sale for country,sale in zip(countries,sales) if sale>1000}\n",
        "print(\"Sales dictionary :\",sales_dictionary)"
      ],
      "metadata": {
        "colab": {
          "base_uri": "https://localhost:8080/"
        },
        "id": "c0BRbNxjDo_e",
        "outputId": "4a745513-f8c9-4d16-d6a6-87a0e0cea4e6"
      },
      "execution_count": 32,
      "outputs": [
        {
          "output_type": "stream",
          "name": "stdout",
          "text": [
            "Sales dictionary : {'USA': 2500, 'Mexico': 1200, 'France': 2000, 'Germany': 4000, 'India': 1500}\n"
          ]
        }
      ]
    },
    {
      "cell_type": "markdown",
      "source": [
        "**Instructions:**\n",
        "\n",
        "1. Use zip function to create a list of pairs, where each pair contains a country name and its corresponding sales data.\n",
        "\n",
        "2. Use list comprehension to create a dictionary where the keys are the country names and the values are the sales data. However, only include sales data that are greater than 1000."
      ],
      "metadata": {
        "id": "UbOBTAo2Dw1H"
      }
    },
    {
      "cell_type": "markdown",
      "source": [
        "## **Stock Filtering**\n",
        "\n",
        "📊📈 Suppose you are working for a company that deals with financial data. You have been given a list of dictionaries, where each dictionary contains the following information about a stock: name, ticker symbol, price, and percentage change in price. Your task is to create a new list of dictionaries, where each dictionary contains only the name and price of the stock, but only for those stocks where the price is greater than 100 and the percentage change is positive. You must use list comprehension to solve the problem.\n",
        "\n",
        "Can you write the code to create the desired list of dictionaries using list comprehension?\n",
        "\n",
        "👉 Hint: You can use conditional statements to check if the price is greater than 100 and the percentage change is positive in the list comprehension."
      ],
      "metadata": {
        "id": "IaxxQSecD08O"
      }
    },
    {
      "cell_type": "code",
      "source": [
        "# Here is an example of the list of dictionaries\n",
        "stocks = [\n",
        "    {'name': 'Apple Inc.', 'ticker': 'AAPL', 'price': 120.0, 'change': 0.05},\n",
        "    {'name': 'Microsoft Corporation', 'ticker': 'MSFT', 'price': 95.0, 'change': -0.02},\n",
        "    {'name': 'Amazon.com, Inc.', 'ticker': 'AMZN', 'price': 250.0, 'change': 0.1},\n",
        "    {'name': 'Alphabet Inc.', 'ticker': 'GOOGL', 'price': 110.0, 'change': 0.02},\n",
        "    {'name': 'Facebook, Inc.', 'ticker': 'FB', 'price': 80.0, 'change': 0.03}\n",
        "]\n",
        "\n",
        "#Create a list of dictionaries where there is only the name and price.\n",
        "new_stocks= [{'name':stock['name'], 'price':stock['price']} for stock in stocks if stock['price']>100 if stock['change']>0]\n",
        "new_stocks"
      ],
      "metadata": {
        "colab": {
          "base_uri": "https://localhost:8080/"
        },
        "id": "iKnsm6mYD8N2",
        "outputId": "e521dfa4-206f-4ceb-e6bd-7665ee60e3ae"
      },
      "execution_count": 33,
      "outputs": [
        {
          "output_type": "execute_result",
          "data": {
            "text/plain": [
              "[{'name': 'Apple Inc.', 'price': 120.0},\n",
              " {'name': 'Amazon.com, Inc.', 'price': 250.0},\n",
              " {'name': 'Alphabet Inc.', 'price': 110.0}]"
            ]
          },
          "metadata": {},
          "execution_count": 33
        }
      ]
    },
    {
      "cell_type": "code",
      "source": [
        "new_stocks"
      ],
      "metadata": {
        "colab": {
          "base_uri": "https://localhost:8080/"
        },
        "id": "C_L4x1ZwD_0N",
        "outputId": "6d02ea27-d196-4014-ad95-2d24e63799ba"
      },
      "execution_count": 34,
      "outputs": [
        {
          "output_type": "execute_result",
          "data": {
            "text/plain": [
              "[{'name': 'Apple Inc.', 'price': 120.0},\n",
              " {'name': 'Amazon.com, Inc.', 'price': 250.0},\n",
              " {'name': 'Alphabet Inc.', 'price': 110.0}]"
            ]
          },
          "metadata": {},
          "execution_count": 34
        }
      ]
    },
    {
      "cell_type": "markdown",
      "source": [
        "**Instructions:**\n",
        "\n",
        "1. Use list comprehension to filter the stocks where the price is greater than 100 and the percentage change is positive.\n",
        "\n",
        "2. Use list comprehension to create a new list of dictionaries where each dictionary contains only the name and price of the stock."
      ],
      "metadata": {
        "id": "Slep_bKGEF2M"
      }
    },
    {
      "cell_type": "markdown",
      "source": [
        "## **Duplicate Songs**\n",
        "\n",
        "🎵🎶 You have a list of songs that you like to listen to, but you notice that some of the songs have duplicate names. You want to create a new set that contains the unique names of all the songs and keep the songs whose name doesn't start with \"S\" and doesn't end with \"n\" in your list using set comprehension.\n",
        "\n",
        "Can you write the code to create a new set that contains the unique names of all the songs in your list using set comprehension only?\n",
        "\n",
        "👉 Hint: Set comprehension is similar to list comprehension, but with curly braces {} instead of square brackets []."
      ],
      "metadata": {
        "id": "rEQ3cYn9EJNi"
      }
    },
    {
      "cell_type": "code",
      "source": [
        "# Here's an example list of songs\n",
        "songs = ['Bohemian Rhapsody', 'Stairway to Heaven', 'Bohemian Rhapsody', 'Hotel California', 'November Rain', 'Stairway to Heaven', 'Sweet Child O\\' Mine']\n",
        "\n",
        "# Write your code here\n",
        "unique_songlist={song for song in songs if song[0]!='S' if song[-1]!='n' }\n",
        "print(unique_songlist)\n",
        "#OR\n",
        "unique_Songslist={song for song in songs if not (song.startswith('S')) if not (song.endswith('n'))}\n",
        "print(unique_Songslist)"
      ],
      "metadata": {
        "colab": {
          "base_uri": "https://localhost:8080/"
        },
        "id": "D5l1xaS1EMTL",
        "outputId": "854594af-f4d0-4a14-869f-061478dff4d2"
      },
      "execution_count": 35,
      "outputs": [
        {
          "output_type": "stream",
          "name": "stdout",
          "text": [
            "{'Bohemian Rhapsody', 'Hotel California'}\n",
            "{'Bohemian Rhapsody', 'Hotel California'}\n"
          ]
        }
      ]
    },
    {
      "cell_type": "markdown",
      "source": [
        "**Instructions:**\n",
        "\n",
        "1. Create a list of songs that contains duplicate names.\n",
        "\n",
        "2. Use set comprehension to iterate over the list of songs and create a new set that contains only the unique names of the songs.\n",
        "\n",
        "3. Include a condition in the set comprehension to filter out songs whose name starts with \"S\" and ends with \"n\"."
      ],
      "metadata": {
        "id": "P59hXJiaEPzV"
      }
    },
    {
      "cell_type": "markdown",
      "source": [
        "# **OOPs in Python**"
      ],
      "metadata": {
        "id": "oCPfgb16ETSw"
      }
    },
    {
      "cell_type": "markdown",
      "source": [
        "## **Building a Simple Calculator** 🧮🔢\n",
        "\n",
        "\n",
        "In this activity, you will build a simple calculator program in Python using Object-Oriented Programming (OOP) concepts."
      ],
      "metadata": {
        "id": "rBCiIEYTEXOD"
      }
    },
    {
      "cell_type": "code",
      "source": [
        "# Define a simple calculator class\n",
        "class Calculator:\n",
        "  def add(self,num1,num2):\n",
        "    result=num1+num2\n",
        "  def subtract(self,num1,num2):\n",
        "    result=num-num2\n",
        "  def multiply(self,num1,num2):\n",
        "    result=num1*num2\n",
        "  def divide(self,num1,num2):\n",
        "   if num2==0:\n",
        "    raise ValueError(\"Cannot divide by Zero\")\n",
        "   result=num1/num2\n",
        "   return result"
      ],
      "metadata": {
        "id": "uriyPGcqEa6T"
      },
      "execution_count": 36,
      "outputs": []
    },
    {
      "cell_type": "code",
      "source": [
        "# Test Case\n",
        "calculator=Calculator()\n",
        "result=calculator.divide(8,9)\n",
        "print(result)"
      ],
      "metadata": {
        "colab": {
          "base_uri": "https://localhost:8080/"
        },
        "id": "EsjjwtH4EeMG",
        "outputId": "90d3f16f-78bf-4cb2-b77c-6beb13bb688b"
      },
      "execution_count": 37,
      "outputs": [
        {
          "output_type": "stream",
          "name": "stdout",
          "text": [
            "0.8888888888888888\n"
          ]
        }
      ]
    },
    {
      "cell_type": "markdown",
      "source": [
        "👉 **Instructions:**\n",
        "\n",
        "1. Start by defining a class called Calculator.\n",
        "2. Define four methods within the class: add, subtract, multiply, and divide.\n",
        "3. Each method should take two arguments: num1 and num2.\n",
        "4. The add method should return the sum of num1 and num2.\n",
        "5. The subtract method should return the difference between num1 and num2.\n",
        "6. The multiply method should return the product of num1 and num2.\n",
        "7. The divide method should return the result of dividing num1 by num2. However, if num2 is zero, the method should raise a ValueError with the message \"Cannot divide by zero\"."
      ],
      "metadata": {
        "id": "drPJexWiEhh9"
      }
    },
    {
      "cell_type": "markdown",
      "source": [
        "## 🏀**Basketball Game Score Tracker**📈\n",
        "\n",
        "Create a class that will keep track of the score of a basketball game. The class should have methods for updating the score and printing the current score."
      ],
      "metadata": {
        "id": "ArOdUUnAElX2"
      }
    },
    {
      "cell_type": "code",
      "source": [
        "# Create BasketballGame class\n",
        "class BasketballGame:\n",
        "  def __init__(self):\n",
        "   self.score_A=0\n",
        "   self.score_B=0\n",
        "  def updating_score_A(self,no_ofpoints):\n",
        "    self.score_A+=no_ofpoints\n",
        "  def updating_score_B(self,no_ofpoints):\n",
        "    self.score_B+=no_ofpoints\n",
        "  def currentscore(self):\n",
        "    print(\"Current updated score of A :\",self.score_A)\n",
        "    print(\"Current updated score of B :\",self.score_B)"
      ],
      "metadata": {
        "id": "X0iU4mtyEoJn"
      },
      "execution_count": 38,
      "outputs": []
    },
    {
      "cell_type": "code",
      "source": [
        "# Example Usage:\n",
        "game=BasketballGame()\n",
        "game.updating_score_A(7)\n",
        "game.updating_score_B(9)\n",
        "game.currentscore()"
      ],
      "metadata": {
        "colab": {
          "base_uri": "https://localhost:8080/"
        },
        "id": "avMpqf2FEq0P",
        "outputId": "32b8e379-2e74-439f-db67-482effd37c98"
      },
      "execution_count": 39,
      "outputs": [
        {
          "output_type": "stream",
          "name": "stdout",
          "text": [
            "Current updated score of A : 7\n",
            "Current updated score of B : 9\n"
          ]
        }
      ]
    },
    {
      "cell_type": "markdown",
      "source": [
        "👉 **Instructions:**\n",
        "\n",
        "1. Start by creating a class called \"BasketballGame\".\n",
        "2. In the class constructor, initialize the score for both teams to 0.\n",
        "3. Add methods to the class for updating the score for each team. These methods should take in a number of points and add that to the appropriate team's score.\n",
        "4. Add a method to the class for printing the current score. This method should print out the score for both teams.\n",
        "5. Test your code by creating an instance of the \"BasketballGame\" class, updating the score for each team, and printing the current score."
      ],
      "metadata": {
        "id": "XpmmdC2oEu46"
      }
    },
    {
      "cell_type": "markdown",
      "source": [
        "## 🎨 **Paint Brush Class** 🖌️\n",
        "\n",
        "Create a Python class for a paint brush that has the following properties:\n",
        "\n",
        "* Size (small, medium, or large)\n",
        "* Color (red, blue, green, or yellow)\n",
        "* Brand (Winsor & Newton, Liquitex, or Grumbacher)\n",
        "* Type (round or flat)"
      ],
      "metadata": {
        "id": "P4V6Fq8yEyUL"
      }
    },
    {
      "cell_type": "code",
      "source": [
        "# Define PaintBrush Class\n",
        "class PaintBrush:\n",
        "  def __init__(self,size,color,brand,brush_type):\n",
        "    self.size=size\n",
        "    self.color=color\n",
        "    self.brand=brand\n",
        "    self.brush_type=brush_type\n",
        "  def paint(self):\n",
        "    print(\"Size of brush :\",self.size)\n",
        "    print(\"Color of brush :\",self.color)\n",
        "    print(\"Brand of brush :\",self.brand)\n",
        "    print(\"Type of brush :\",self.brush_type)"
      ],
      "metadata": {
        "id": "3Zny7wFaE1cQ"
      },
      "execution_count": 40,
      "outputs": []
    },
    {
      "cell_type": "markdown",
      "source": [
        "Now, create an instance of the PaintBrush class with the following properties:\n",
        "\n",
        "* Size: medium\n",
        "* Color: red\n",
        "* Brand: Winsor & Newton\n",
        "* Type: round\n",
        "* Call the paint() method on the instance to simulate painting with the brush."
      ],
      "metadata": {
        "id": "lxdONVNzE5af"
      }
    },
    {
      "cell_type": "code",
      "source": [
        "# Test Case\n",
        "properties=PaintBrush(\"medium\",\"red\",\"Winsor & newton\",\"round\")\n",
        "properties.paint()"
      ],
      "metadata": {
        "colab": {
          "base_uri": "https://localhost:8080/"
        },
        "id": "TweoP5AbE731",
        "outputId": "7800b4ec-2c18-45b6-ae54-4f1f95edbb2a"
      },
      "execution_count": 41,
      "outputs": [
        {
          "output_type": "stream",
          "name": "stdout",
          "text": [
            "Size of brush : medium\n",
            "Color of brush : red\n",
            "Brand of brush : Winsor & newton\n",
            "Type of brush : round\n"
          ]
        }
      ]
    },
    {
      "cell_type": "markdown",
      "source": [
        "👉 **Instructions:**\n",
        "\n",
        "1. Start by defining the class using the keyword class, followed by the name of the class (in this case, \"PaintBrush\").\n",
        "\n",
        "2. Within the class, define the __init__ method to initialize the properties of the paint brush. The method should take four parameters: size, color, brand, and brush_type. Use the self keyword to refer to the instance of the class.\n",
        "\n",
        "3. Inside the __init__ method, assign the values of the parameters to instance variables using the self keyword.\n",
        "\n",
        "4. Define a method named paint that prints out a message indicating the brush size, color, brand, and type.\n",
        "\n",
        "5. Create an instance of the PaintBrush class by calling the class with the required parameters.\n",
        "\n",
        "6. Call the paint() method on the instance to simulate painting with the brush."
      ],
      "metadata": {
        "id": "SdVC1tgLFAQO"
      }
    },
    {
      "cell_type": "markdown",
      "source": [
        "## **Bank Account Management System** 💻🏦\n",
        "\n",
        "Create a Bank Account Management System using Object-Oriented Programming (OOPs) in Python. The system should allow users to create and manage bank accounts, deposit and withdraw funds, and view account details."
      ],
      "metadata": {
        "id": "iV01dmdwFDw2"
      }
    },
    {
      "cell_type": "code",
      "source": [
        "# Define a BankAccount class\n",
        "class BankAccount:\n",
        "  def __init__(self,name,account_number,balance):\n",
        "    self.name=name\n",
        "    self.account_number=account_number\n",
        "    self.balance=balance\n",
        "  def deposit(self,amount_tobe_deposited):\n",
        "    self.balance+=amount_tobe_deposited\n",
        "  def withdraw(self,amount_tobe_withdrawn):\n",
        "    if self.balance>=amount_tobe_withdrawn:\n",
        "      self.balance-=amount_tobe_withdrawn\n",
        "      print(\"New Balance :\",self.balance)\n",
        "    else:\n",
        "      print(\"Current balance :\",self.balance)\n",
        "  def account_details(self):\n",
        "    print(\"Name of the person :\",self.name)\n",
        "    print(\"Account number :\",self.account_number)\n",
        "    print(\"Balance :\",self.balance)"
      ],
      "metadata": {
        "id": "fd9Na4qdFGWz"
      },
      "execution_count": 42,
      "outputs": []
    },
    {
      "cell_type": "code",
      "source": [
        "# Test Case\n",
        "account=BankAccount(\"Pranjali kathait\",\"IOB908765346786776\",323456)\n",
        "account.deposit(12345)\n",
        "account.withdraw(50000)\n",
        "account.account_details()"
      ],
      "metadata": {
        "colab": {
          "base_uri": "https://localhost:8080/"
        },
        "id": "TgdA7gHDFJxD",
        "outputId": "98c91bdc-8244-42e3-cbdf-bf2a8f51d91e"
      },
      "execution_count": 43,
      "outputs": [
        {
          "output_type": "stream",
          "name": "stdout",
          "text": [
            "New Balance : 285801\n",
            "Name of the person : Pranjali kathait\n",
            "Account number : IOB908765346786776\n",
            "Balance : 285801\n"
          ]
        }
      ]
    },
    {
      "cell_type": "markdown",
      "source": [
        "👉 **Instructions:**\n",
        "\n",
        "1. Define a BankAccount class with an init() method that takes the name, account_number, and balance as parameters and initializes the instance variables.\n",
        "\n",
        "2. Define the deposit() method that takes the amount to be deposited as a parameter and adds it to the balance. Also, print a message with the new balance.\n",
        "\n",
        "3. Define the withdraw() method that takes the amount to be withdrawn as a parameter and checks if the account has sufficient balance. If yes, deduct the amount from the balance and print a message with the new balance. If not, print a message with the current balance.\n",
        "\n",
        "4. Define the account_details() method that prints the name, account number, and balance of the account.\n",
        "\n",
        "5. Create a new instance of the BankAccount class with some initial balance.\n",
        "\n",
        "6. Test the deposit(), withdraw(), and account_details() methods of the BankAccount class by calling them on the instance created in step 5 with some test values."
      ],
      "metadata": {
        "id": "x8Vg3gyTFOXv"
      }
    }
  ]
}