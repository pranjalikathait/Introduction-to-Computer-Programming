{
  "nbformat": 4,
  "nbformat_minor": 0,
  "metadata": {
    "colab": {
      "provenance": [],
      "authorship_tag": "ABX9TyPAIqtnejliS4UuJ49GU9YK",
      "include_colab_link": true
    },
    "kernelspec": {
      "name": "python3",
      "display_name": "Python 3"
    },
    "language_info": {
      "name": "python"
    }
  },
  "cells": [
    {
      "cell_type": "markdown",
      "metadata": {
        "id": "view-in-github",
        "colab_type": "text"
      },
      "source": [
        "<a href=\"https://colab.research.google.com/github/pranjalikathait/Introduction-to-Computer-Programming/blob/main/introduction_to_python_programming.ipynb\" target=\"_parent\"><img src=\"https://colab.research.google.com/assets/colab-badge.svg\" alt=\"Open In Colab\"/></a>"
      ]
    },
    {
      "cell_type": "markdown",
      "source": [
        "**1. About the Project:**\n",
        "\n",
        "The Introduction to Computer Programming project is designed to evaluate your understanding and practical application of fundamental programming concepts using Python. This assessment encompasses various topics, including data types, indexing, slicing, operators, in-built functions, statements, conditionals, loops, object-oriented programming, and exception handling. In addition, you will showcase your ability to create custom functions and tackle advanced looping concepts.\n",
        "\n",
        "**2. Skills Required:**\n",
        "\n",
        "  To successfully complete this project assessment, you should possess the following skills and knowledge:\n",
        "- Proficiency in Python programming language\n",
        "- Understanding of data types, indexing, and slicing in Python\n",
        "- Familiarity with operators, in-built functions, and methods\n",
        "- Ability to work with statements, indentation, and conditionals\n",
        "- Competence in implementing loops and iterations, including conditional and infinite looping\n",
        "- Mastery of creating and utilizing custom functions in Python\n",
        "- Knowledge of advanced looping concepts\n",
        "- Understanding of object-oriented programming (OOPs) principles in Python\n",
        "- Ability to handle exceptions in your code\n"
      ],
      "metadata": {
        "id": "YdIuFUKMdbuH"
      }
    },
    {
      "cell_type": "markdown",
      "source": [
        "# **CodeStorm Challenge: Solving and Explaining Complex Coding Problems**"
      ],
      "metadata": {
        "id": "zshdKA7OduQY"
      }
    },
    {
      "cell_type": "markdown",
      "source": [
        "**Problem Statement:**\n",
        "\n",
        "The CodeStorm Challenge is an intense coding competition designed to test participants' programming skills, problem-solving abilities, and communication prowess. In this challenge, participants will be required to solve a total of 30 intricate coding questions that cover a wide range of algorithms, data structures, and programming paradigms. Additionally, participants are tasked with creating an explanatory video that delves into the solutions of any five chosen questions.\n",
        "\n",
        "The challenge aims to evaluate participants on their coding efficiency, algorithmic thinking, and presentation skills."
      ],
      "metadata": {
        "id": "D2n14P-ueBGy"
      }
    },
    {
      "cell_type": "markdown",
      "source": [
        "# **Introduction to Python Programming**"
      ],
      "metadata": {
        "id": "QY0psSgkfTDr"
      }
    },
    {
      "cell_type": "markdown",
      "source": [
        "## Score Board Operator\n",
        "An operator working behind the scoreboard of a inter cohort AlmaBetter cricket tournament, is responsible for updating the scores and points of each team. However, the operator is currently facing a challenge. He has been tasked with updating the total number of points gained by Team London, but he does not possess the necessary programming skills to complete this task.\n",
        "According to the tournament's rules, teams are awarded the following points based on the outcome of a match:\n",
        "\n",
        "* wins: 3 points\n",
        "* draws: 1 point\n",
        "* losses: 0 points\n",
        "\n",
        "\n",
        "\n",
        "\n",
        "Team London has played **8 matches** in this tournament. They won **4 matches**, lost **3 matches** and **drew 1**.\n",
        "The operator is in need of assistance to calculate the total number of points earned by Team London. As a python expert adept with knowledge of integer, floats and boolean, you can help the operator by writing a solution for the following problem.\n",
        "\n",
        "What would your approach be?"
      ],
      "metadata": {
        "id": "8MUgfkASfXII"
      }
    },
    {
      "cell_type": "code",
      "source": [
        "#1. Define your fixed values:\n",
        "wins=3\n",
        "draws=1\n",
        "losses=0"
      ],
      "metadata": {
        "id": "9u8CqXiqfhza"
      },
      "execution_count": 1,
      "outputs": []
    },
    {
      "cell_type": "code",
      "source": [
        "#2. Calculate the total points gained by Team London\n",
        "london_points=4*wins+1*draws+3*losses"
      ],
      "metadata": {
        "id": "EOBcFV2hfnzl"
      },
      "execution_count": 2,
      "outputs": []
    },
    {
      "cell_type": "code",
      "source": [
        "# 3. Print the variable london_points\n",
        "print(london_points)"
      ],
      "metadata": {
        "colab": {
          "base_uri": "https://localhost:8080/"
        },
        "id": "Mjd1kGBQfqY7",
        "outputId": "fc52f748-e47d-4177-eb7c-fd4e30a12c72"
      },
      "execution_count": 3,
      "outputs": [
        {
          "output_type": "stream",
          "name": "stdout",
          "text": [
            "13\n"
          ]
        }
      ]
    },
    {
      "cell_type": "markdown",
      "source": [
        "## Nutrition bar ingredient chart\n",
        "\n",
        "Imagine you are a data analyst at a nutrition bar manufacturing company. Your department head approaches you with a question. The company produces a nutrition bar that contains **45g of raisins, 65g of almonds, and 30g of apricots**. The head of the manufacturing department wants you to create an ingredient percentage list for the nutrition bar using python.\n",
        "\n",
        "Equipped with the knowledge of int, float and booleans in python, how would you approach this situation?"
      ],
      "metadata": {
        "id": "opVdyMlhfvWa"
      }
    },
    {
      "cell_type": "code",
      "source": [
        "# Calculate the percentage of raisins and print the variable\n",
        "raisins= 45\n",
        "almonds= 65\n",
        "apricots=30"
      ],
      "metadata": {
        "id": "lWwwLuYJfyeE"
      },
      "execution_count": 4,
      "outputs": []
    },
    {
      "cell_type": "code",
      "source": [
        "# Calculate the percentage of almonds and print the variable\n",
        "almonds_percentage=almonds*100/(raisins+almonds+apricots)\n",
        "print(almonds_percentage)"
      ],
      "metadata": {
        "colab": {
          "base_uri": "https://localhost:8080/"
        },
        "id": "RtD4E7aGf1Li",
        "outputId": "6dc5dd2e-7dfa-461a-e0c1-b5eba0101df2"
      },
      "execution_count": 5,
      "outputs": [
        {
          "output_type": "stream",
          "name": "stdout",
          "text": [
            "46.42857142857143\n"
          ]
        }
      ]
    },
    {
      "cell_type": "code",
      "source": [
        "# Calculate the percentage of apricots and print the variable\n",
        "apricots_percentage=apricots*100/(raisins+almonds+apricots)\n",
        "print(apricots_percentage)\n"
      ],
      "metadata": {
        "colab": {
          "base_uri": "https://localhost:8080/"
        },
        "id": "EwxPObO5f3Uz",
        "outputId": "d66d24bc-6348-4a9b-c500-3158e7094919"
      },
      "execution_count": 6,
      "outputs": [
        {
          "output_type": "stream",
          "name": "stdout",
          "text": [
            "21.428571428571427\n"
          ]
        }
      ]
    },
    {
      "cell_type": "markdown",
      "source": [
        "## Measuring the Accuracy of a Disease Detection Model- Optional\n",
        "\n",
        "If you're not impressed with these usecases yet, understand that you're just getting started with python. Going forward as a data scientist, you'll be using what you've learned to design machine learning models that just might even save lives!!\n",
        "\n",
        "Let's say you have created a machine learning model to detect diseases in patients based on their symptoms and medical history. The model has been tested on a dataset of **100 patients**, including **30 with diabetes**, **45 with heart disease**, and **25 with cancer**.\n",
        "The model's performance was evaluated in three rounds.\n",
        "In the first round, the model correctly **detected diabetes in 25 out of the 30 patients** with the disease.\n",
        "In the second round, the model correctly detected **heart disease in 35 out of the 45 patients** with the disease.\n",
        "In the final round, the model correctly **detected cancer in 20 out of the 25 patients** with the disease.\n",
        "\n",
        "The model's accuracy is defined as the percentage of correctly detected cases out of the total number of patient\n",
        "\n",
        "Assess how accurate your model is across these 3 diseases."
      ],
      "metadata": {
        "id": "amQJu9ksf66b"
      }
    },
    {
      "cell_type": "code",
      "source": [
        "# Store the number of heart disease patients\n",
        "heartdisease_patients=45\n",
        "\n",
        "# Store the number of diabetes patients\n",
        "diabetes_patients=30\n",
        "\n",
        "# Store the number of cancer patients\n",
        "cancer_patients=25\n",
        "\n",
        "# Store the number of your correct guesses of heart disease patients\n",
        "correct_heartdisease_patients=35\n",
        "\n",
        "# Store the number of your correct guesses of diabetes patients\n",
        "correct_diabetes_patients=25\n",
        "\n",
        "# Store the number of your correct guesses of cancer patients\n",
        "correct_cancer_patients=20"
      ],
      "metadata": {
        "id": "VtdjxSAfgBSJ"
      },
      "execution_count": 7,
      "outputs": []
    },
    {
      "cell_type": "markdown",
      "source": [
        "#### Calculate your accuracy in each of the three cases"
      ],
      "metadata": {
        "id": "oIhUGJBigHZs"
      }
    },
    {
      "cell_type": "code",
      "source": [
        "# Print the heart disease detection accuracy\n",
        "heartdisease_accuracy=correct_heartdisease_patients*100/heartdisease_patients\n",
        "print(heartdisease_accuracy)"
      ],
      "metadata": {
        "colab": {
          "base_uri": "https://localhost:8080/"
        },
        "id": "IY5uu9ecgJ-T",
        "outputId": "8cb61d49-ab15-4a7b-cd2e-aeaed293c629"
      },
      "execution_count": 8,
      "outputs": [
        {
          "output_type": "stream",
          "name": "stdout",
          "text": [
            "77.77777777777777\n"
          ]
        }
      ]
    },
    {
      "cell_type": "code",
      "source": [
        "# Print the diabetes detection accuracy\n",
        "diabetes_accuracy=correct_diabetes_patients*100/diabetes_patients\n",
        "print(diabetes_accuracy)"
      ],
      "metadata": {
        "colab": {
          "base_uri": "https://localhost:8080/"
        },
        "id": "_UbYUiTfgM_c",
        "outputId": "0c0e2828-d9bb-41fa-a3e4-c06e59a91500"
      },
      "execution_count": 9,
      "outputs": [
        {
          "output_type": "stream",
          "name": "stdout",
          "text": [
            "83.33333333333333\n"
          ]
        }
      ]
    },
    {
      "cell_type": "code",
      "source": [
        "# Print the cancer detection accuracy\n",
        "cancer_accuracy=correct_cancer_patients*100/cancer_patients\n",
        "print(cancer_accuracy)\n"
      ],
      "metadata": {
        "colab": {
          "base_uri": "https://localhost:8080/"
        },
        "id": "idyCVWG-gPT1",
        "outputId": "1217aec0-1b2d-442b-b713-0215cf992f39"
      },
      "execution_count": 10,
      "outputs": [
        {
          "output_type": "stream",
          "name": "stdout",
          "text": [
            "80.0\n"
          ]
        }
      ]
    },
    {
      "cell_type": "code",
      "source": [
        "# Print the overall accuracy of your model\n",
        "overall_accuracy=(heartdisease_accuracy+diabetes_accuracy+cancer_accuracy)/3\n",
        "print(overall_accuracy)\n",
        "#OR\n",
        "overallaccuracy=(correct_heartdisease_patients+correct_diabetes_patients+correct_cancer_patients)*100/(heartdisease_patients+diabetes_patients+cancer_patients)\n",
        "print(overallaccuracy)"
      ],
      "metadata": {
        "colab": {
          "base_uri": "https://localhost:8080/"
        },
        "id": "1yE5raUHgT_u",
        "outputId": "8bf54ee4-e01f-43ab-8dec-1f4a51e659e6"
      },
      "execution_count": 11,
      "outputs": [
        {
          "output_type": "stream",
          "name": "stdout",
          "text": [
            "80.37037037037037\n",
            "80.0\n"
          ]
        }
      ]
    },
    {
      "cell_type": "markdown",
      "source": [
        "# **Data Types in Python**"
      ],
      "metadata": {
        "id": "BLr5tHcMgalq"
      }
    },
    {
      "cell_type": "markdown",
      "source": [
        "## Solving Algebra the Cool Way 😎"
      ],
      "metadata": {
        "id": "jNzumdSvgewg"
      }
    },
    {
      "cell_type": "markdown",
      "source": [
        "You must remember the algebraic equations and functions you came across during your school days. If you do, you also must remember how tedious it was to do solve them manually. 😫\n",
        "Consider a quadratic function:\n",
        "\n",
        "***f(x)=x^2+3x-4***\n",
        "\n",
        "Find the value of f(x) at x =3 , x=-2, and x=4\n",
        "\n",
        "Doing this manually like the old days would be a tedious job 😞. But now you have python at your disposal 🙂 !\n",
        "How would you approach this problem using what you have learned?\n"
      ],
      "metadata": {
        "id": "qU9Ea9KYgi7v"
      }
    },
    {
      "cell_type": "code",
      "source": [
        "# Calculate the value of the function f(x) at x = 3\n",
        "x=3\n",
        "func_evaluated_at_3 =x**2+3*x-4\n",
        "print(func_evaluated_at_3)"
      ],
      "metadata": {
        "colab": {
          "base_uri": "https://localhost:8080/"
        },
        "id": "Efi2uq6XgnaW",
        "outputId": "c8d790e5-0ce1-467f-993a-ffccd13fe961"
      },
      "execution_count": 12,
      "outputs": [
        {
          "output_type": "stream",
          "name": "stdout",
          "text": [
            "14\n"
          ]
        }
      ]
    },
    {
      "cell_type": "code",
      "source": [
        "# Calculate the value of the function f(x) at x = -2\n",
        "x=-2\n",
        "func_evaluated_at_minus2 =x**2+3*x-4\n",
        "print(func_evaluated_at_minus2)"
      ],
      "metadata": {
        "colab": {
          "base_uri": "https://localhost:8080/"
        },
        "id": "0QqvVZI8grsW",
        "outputId": "eec707a4-290e-44ce-fc0c-5aa1409eb56f"
      },
      "execution_count": 13,
      "outputs": [
        {
          "output_type": "stream",
          "name": "stdout",
          "text": [
            "-6\n"
          ]
        }
      ]
    },
    {
      "cell_type": "code",
      "source": [
        "# Calculate the value of the function f(x) at x = 4\n",
        "x=4\n",
        "func_evaluated_at_4 =x**2+3*x-4\n",
        "print(func_evaluated_at_4)"
      ],
      "metadata": {
        "colab": {
          "base_uri": "https://localhost:8080/"
        },
        "id": "O1ADTeCRgx1m",
        "outputId": "d89803c1-1c8c-40c5-b8d9-f819b1938789"
      },
      "execution_count": 14,
      "outputs": [
        {
          "output_type": "stream",
          "name": "stdout",
          "text": [
            "24\n"
          ]
        }
      ]
    },
    {
      "cell_type": "code",
      "source": [
        "#Check if func_evaluated_at_3 >= func_evaluated_at_minus2\n",
        "if func_evaluated_at_3 >= func_evaluated_at_minus2:\n",
        "  print(\"Function value at x=3 and x=-2 is not equal\")\n",
        "else:\n",
        "  print(\"Function value at x=3 and x=-2 is not equal\")"
      ],
      "metadata": {
        "colab": {
          "base_uri": "https://localhost:8080/"
        },
        "id": "H4E-Hxnig2Jv",
        "outputId": "cc2db76e-d787-450e-a8ef-3015bd7d8ec8"
      },
      "execution_count": 15,
      "outputs": [
        {
          "output_type": "stream",
          "name": "stdout",
          "text": [
            "Function value at x=3 and x=-2 is not equal\n"
          ]
        }
      ]
    },
    {
      "cell_type": "code",
      "source": [
        "#Check if value of f(x) at 3,-2 or 4 is equal to 0 or not\n",
        "if func_evaluated_at_3==func_evaluated_at_minus2==func_evaluated_at_4==0:\n",
        "  print(\"value of f(x) at 3,-2 or 4 is equal to 0\")\n",
        "else:\n",
        "  print(\"value of f(x) at 3,-2 or 4 is not equal to 0\")"
      ],
      "metadata": {
        "colab": {
          "base_uri": "https://localhost:8080/"
        },
        "id": "8oBSacA_g6yY",
        "outputId": "5eaf4a3d-472d-4fbc-c72c-3d64f09112fc"
      },
      "execution_count": 16,
      "outputs": [
        {
          "output_type": "stream",
          "name": "stdout",
          "text": [
            "value of f(x) at 3,-2 or 4 is not equal to 0\n"
          ]
        }
      ]
    },
    {
      "cell_type": "markdown",
      "source": [
        "## Finding total E's in the Bookshelves\n",
        "\n",
        "In your pursuit of expanding your knowledge of Python, you come across a bookstore in search of books on the subject.\n",
        "\n",
        "There, you meet a salesperson who is also a Python enthusiast!!\n",
        "\n",
        "The salesperson presents you with a challenge - they have a list of five books related to Python and if you can write a program that finds the count of letter 'e', the store will give you a free book of your choice. 😀\n",
        "\n",
        "Are you ready to accept the challenge? 💪"
      ],
      "metadata": {
        "id": "ylaHSdr1g-pw"
      }
    },
    {
      "cell_type": "code",
      "source": [
        "# Here's the list of books\n",
        "books = \"Python for Everyone, Learn Python the Hard Way, Python Crash Course , Starting Out with Python, Automate the Boring Stuff with Python\""
      ],
      "metadata": {
        "id": "1ZxmL1H5hESG"
      },
      "execution_count": 17,
      "outputs": []
    },
    {
      "cell_type": "code",
      "source": [
        "# Store the count of books containing E/e in the title. Note this will be a case insensitive search\n",
        "e_counts =books.count('e')\n",
        "print(\"Count of books containing e in the title:\" ,e_counts)\n",
        "\n",
        "E_counts =books.count('E')\n",
        "print(\"Count of books containing E in the title:\" ,E_counts)\n",
        "total_e_counts =e_counts+E_counts\n",
        "print(\"Count of books containing E/e in the title:\" ,total_e_counts)"
      ],
      "metadata": {
        "colab": {
          "base_uri": "https://localhost:8080/"
        },
        "id": "Jv-qNkbWhItX",
        "outputId": "ec81df64-7b66-46ee-b098-6817a06eb303"
      },
      "execution_count": 18,
      "outputs": [
        {
          "output_type": "stream",
          "name": "stdout",
          "text": [
            "Count of books containing e in the title: 7\n",
            "Count of books containing E in the title: 1\n",
            "Count of books containing E/e in the title: 8\n"
          ]
        }
      ]
    },
    {
      "cell_type": "code",
      "source": [
        "# Print the value\n",
        "print(f\"The total number of 'e's in the list of books is {total_e_counts}\")"
      ],
      "metadata": {
        "colab": {
          "base_uri": "https://localhost:8080/"
        },
        "id": "TO3WYRNQhL2F",
        "outputId": "d4731f99-54ec-40cb-d9d5-9aab35065ce5"
      },
      "execution_count": 19,
      "outputs": [
        {
          "output_type": "stream",
          "name": "stdout",
          "text": [
            "The total number of 'e's in the list of books is 8\n"
          ]
        }
      ]
    },
    {
      "cell_type": "markdown",
      "source": [
        "# **Unleashing the Power of Mean in Exam Analysis**"
      ],
      "metadata": {
        "id": "iMOUYjOihQcU"
      }
    },
    {
      "cell_type": "markdown",
      "source": [
        "When analyzing exam scores, teachers have the power to unlock valuable insights into their students' performance. By using the mean and median, they can get a clear picture of how the class is doing as a whole and identify areas where improvement is needed.\n",
        "\n",
        "The mean score is like a report card for the entire class, showing the average of all exam scores. It gives a good general idea of how the class is doing but can be influenced by a few students with extremely high or low scores.\n",
        "\n",
        "By analysing the mean, teachers can get a complete picture of the class performance and make informed decisions to improve the learning experience for their students. So go ahead and use these powerful tools to take your students' exam scores to the next level! 💪"
      ],
      "metadata": {
        "id": "NOAAt15thWfj"
      }
    },
    {
      "cell_type": "code",
      "source": [
        "# List of student marks\n",
        "\n",
        "marks = [67,87,75,46,89,97,68,98,87,88]"
      ],
      "metadata": {
        "id": "t6Dd-TlwhZ_V"
      },
      "execution_count": 20,
      "outputs": []
    },
    {
      "cell_type": "code",
      "source": [
        "# Calculate the mean of the marks. Use sum() and len() functions\n",
        "mean_marks =sum(marks)/len(marks)"
      ],
      "metadata": {
        "id": "UlFtGFOdhd2z"
      },
      "execution_count": 21,
      "outputs": []
    },
    {
      "cell_type": "code",
      "source": [
        "print(mean_marks)"
      ],
      "metadata": {
        "colab": {
          "base_uri": "https://localhost:8080/"
        },
        "id": "_HzpS29ahiL2",
        "outputId": "802720da-ac5e-427c-dece-55067c7ed9d9"
      },
      "execution_count": 22,
      "outputs": [
        {
          "output_type": "stream",
          "name": "stdout",
          "text": [
            "80.2\n"
          ]
        }
      ]
    },
    {
      "cell_type": "markdown",
      "source": [
        "## John's Fruit Stand Sales Mix-up\n",
        "\n",
        "You must remember from the previous lessons that dictionaries can be used to store values corresponding to a particular key. But how is this helpful to us?\n",
        "\n",
        "Let's look at this scenario:\n",
        "\n",
        "Jim owns a quaint little fruit stand that sells mangoes, bananas, apples, and pineapples. One day, with Jim being tied up, he tasked his son John to manage the shop for a day. Being new to the game, John recorded the sales data in an unconventional way. He wrote down the name of each fruit as many times as it was sold, creating a list like this:\n",
        "\n",
        "**['Mango','Mango','Mango','Pineapple','Pineapple','Pineapple','Apple','Mango','Banana','Apple','Banana','Apple','Pineapple','Apple','Apple','Pineapple','Pineapple']**\n",
        "🤦\n",
        "\n",
        "But, this method is not very efficient or easy to read.\n",
        "\n",
        "Forunately you were there at the shop to grab some apples yourselves, and you saw what John was doing.\n",
        "\n",
        "You can help him out to structure the data by using dictionaries. How?"
      ],
      "metadata": {
        "id": "ZiOhF-mzhrxp"
      }
    },
    {
      "cell_type": "code",
      "source": [
        "#Here's John's list:\n",
        "fruit_list=['Mango','Mango','Mango','Pineapple','Pineapple','Pineapple','Apple','Mango','Banana','Apple','Banana','Apple','Pineapple','Apple','Apple','Pineapple','Pineapple']"
      ],
      "metadata": {
        "id": "1gEriLvOhwNd"
      },
      "execution_count": 23,
      "outputs": []
    },
    {
      "cell_type": "code",
      "source": [
        "# Step 2: Create an empty dictionary which will contain the unique fruit names\n",
        "fruit_dict={}\n",
        "\n",
        "# Set the values for each key separately\n",
        "\n",
        "# First Key\n",
        "fruit_dict['Mango']=fruit_list.count(\"Mango\")\n",
        "\n",
        "# Second Key\n",
        "fruit_dict['Pineapple']=fruit_list.count(\"Pineapple\")\n",
        "\n",
        "# Third Key\n",
        "fruit_dict['Apple']=fruit_list.count(\"Apple\")\n",
        "\n",
        "# Fourth Key\n",
        "fruit_dict['Banana']=fruit_list.count(\"Banana\")"
      ],
      "metadata": {
        "id": "m_j7dFVbh0bU"
      },
      "execution_count": 24,
      "outputs": []
    },
    {
      "cell_type": "code",
      "source": [
        "print(fruit_dict)"
      ],
      "metadata": {
        "colab": {
          "base_uri": "https://localhost:8080/"
        },
        "id": "krCh8Zoqh4Jh",
        "outputId": "7060b266-50a3-44c3-be7c-cfc25a36e856"
      },
      "execution_count": 25,
      "outputs": [
        {
          "output_type": "stream",
          "name": "stdout",
          "text": [
            "{'Mango': 4, 'Pineapple': 6, 'Apple': 5, 'Banana': 2}\n"
          ]
        }
      ]
    },
    {
      "cell_type": "markdown",
      "source": [
        "# **Indexing & Slicing**"
      ],
      "metadata": {
        "id": "u4lpXwkfh8ZC"
      }
    },
    {
      "cell_type": "markdown",
      "source": [
        "## Imagine that you are a superhero movie buff and you're trying to create a list of the most iconic Marvel characters. You have compiled a list of some of the most popular characters, but you want to narrow it down to the top 6.\n",
        "\n",
        "Here's your list of characters:\n",
        "\n",
        "marvel_words = ['Avengers', 'X-Men', 'Spider-Man', 'Iron Man', 'Hulk', 'Thor', 'Black Widow', 'Captain America', 'Wolverine', 'Doctor Strange', 'Namor']"
      ],
      "metadata": {
        "id": "IAe5HRpfh_0l"
      }
    },
    {
      "cell_type": "code",
      "source": [
        "# Here's your list of characters:\n",
        "\n",
        "marvel_words = ['Avengers', 'X-Men', 'Spider-Man', 'Iron Man', 'Hulk', 'Thor', 'Black Widow', 'Captain America', 'Wolverine', 'Doctor Strange', 'Namor']"
      ],
      "metadata": {
        "id": "YLYJACdeiDzY"
      },
      "execution_count": 26,
      "outputs": []
    },
    {
      "cell_type": "markdown",
      "source": [
        "You want to narrow down the list to the last 6 characters in the list. These characters are:\n",
        "\n",
        "* Namor\n",
        "* Doctor Strange\n",
        "* Wolverine\n",
        "* Captain America\n",
        "* Black Widow\n",
        "* Thor"
      ],
      "metadata": {
        "id": "Nh2SrbF_iIEs"
      }
    },
    {
      "cell_type": "markdown",
      "source": [
        "Write a code to slice these characters from the list"
      ],
      "metadata": {
        "id": "A35ZfvPNiLn-"
      }
    },
    {
      "cell_type": "code",
      "source": [
        "l=len(marvel_words)\n",
        "# Replace x with appropriate values\n",
        "new_marvel=marvel_words[l-6:]\n",
        "print(new_marvel)\n",
        "\n",
        "#OR\n",
        "# Replace x with appropriate values\n",
        "new_marvels=marvel_words[5:]\n",
        "print(new_marvels)"
      ],
      "metadata": {
        "colab": {
          "base_uri": "https://localhost:8080/"
        },
        "id": "w2ZHINRtiO6G",
        "outputId": "56e8423b-0ab3-4eeb-cd3e-ceb88fce2830"
      },
      "execution_count": 27,
      "outputs": [
        {
          "output_type": "stream",
          "name": "stdout",
          "text": [
            "['Thor', 'Black Widow', 'Captain America', 'Wolverine', 'Doctor Strange', 'Namor']\n",
            "['Thor', 'Black Widow', 'Captain America', 'Wolverine', 'Doctor Strange', 'Namor']\n"
          ]
        }
      ]
    },
    {
      "cell_type": "markdown",
      "source": [
        "## Create two teams of superheroes based on their index position: one team should consist of all the characters located at even index positions, while the other team should consist of all the characters located at odd index positions."
      ],
      "metadata": {
        "id": "x0XZcGwqiTU8"
      }
    },
    {
      "cell_type": "code",
      "source": [
        "team1=marvel_words[::2]    #characters located at even index positions\n",
        "print(\"Team1 :\",team1)\n",
        "team2=marvel_words[1::2]    #characters located at odd index positions\n",
        "print(\"Team2 :\",team2)"
      ],
      "metadata": {
        "colab": {
          "base_uri": "https://localhost:8080/"
        },
        "id": "Qj-2PGyqiWT-",
        "outputId": "8920b394-c7d3-4fc4-c891-084e7fbfb0b0"
      },
      "execution_count": 28,
      "outputs": [
        {
          "output_type": "stream",
          "name": "stdout",
          "text": [
            "Team1 : ['Avengers', 'Spider-Man', 'Hulk', 'Black Widow', 'Wolverine', 'Namor']\n",
            "Team2 : ['X-Men', 'Iron Man', 'Thor', 'Captain America', 'Doctor Strange']\n"
          ]
        }
      ]
    },
    {
      "cell_type": "markdown",
      "source": [
        "###3. Store the word 'Spider-Man' in a new variable, and slice the word 'Spider' from it."
      ],
      "metadata": {
        "id": "O47FFhHDibHL"
      }
    },
    {
      "cell_type": "code",
      "source": [
        "spider_man=marvel_words[2] # Add appropriate index number\n",
        "spidey_sliced=spider_man[0:6] # Add appropriate index number\n",
        "print(spidey_sliced)"
      ],
      "metadata": {
        "colab": {
          "base_uri": "https://localhost:8080/"
        },
        "id": "x242X4VWid8t",
        "outputId": "a3df8e28-159b-4900-8083-6ce197aca815"
      },
      "execution_count": 29,
      "outputs": [
        {
          "output_type": "stream",
          "name": "stdout",
          "text": [
            "Spider\n"
          ]
        }
      ]
    },
    {
      "cell_type": "markdown",
      "source": [
        "###4. Store the word 'Iron-Man' in a variable and use reverse indexing to reverse it."
      ],
      "metadata": {
        "id": "XWmvreDXiiRb"
      }
    },
    {
      "cell_type": "code",
      "source": [
        "iron_man=marvel_words[3]\n",
        "reversed_man=iron_man[::-1]\n",
        "print(reversed_man)"
      ],
      "metadata": {
        "colab": {
          "base_uri": "https://localhost:8080/"
        },
        "id": "zqIykKDyilCn",
        "outputId": "ea7deb2f-882b-413b-f0cd-34ab39360a62"
      },
      "execution_count": 30,
      "outputs": [
        {
          "output_type": "stream",
          "name": "stdout",
          "text": [
            "naM norI\n"
          ]
        }
      ]
    },
    {
      "cell_type": "markdown",
      "source": [
        "# **Operators in Data Types**"
      ],
      "metadata": {
        "id": "0b1LfRO5ip1W"
      }
    },
    {
      "cell_type": "markdown",
      "source": [
        "## 🎉 Let's do some math!\n",
        "\n",
        "* 📐 First up, let's calculate the area of a square with sides that measure 5 cm. 🤔 How much space does this shape occupy?\n",
        "\n",
        "* 🔍 Next, let's find the volume of a cube with sides that measure 12 cm. 📏 How much room does this shape take up?\n",
        "\n",
        "* 🔢 Lastly, we'll find the quotient and remainder when we divide 10 by 4. 🧐 How many times does 4 fit into 10? What's left over?"
      ],
      "metadata": {
        "id": "7C9g8oNvi3av"
      }
    },
    {
      "cell_type": "code",
      "source": [
        "ar_square=5*5\n",
        "vol_cube=12*12*12\n",
        "quotient=10//4\n",
        "remainder=10%4\n",
        "\n",
        "print(remainder)\n",
        "print(quotient)\n",
        "print(vol_cube)\n",
        "print(ar_square)"
      ],
      "metadata": {
        "colab": {
          "base_uri": "https://localhost:8080/"
        },
        "id": "g5j9XQNrjK9j",
        "outputId": "959ee633-e127-4c48-a356-fbb966190f42"
      },
      "execution_count": 31,
      "outputs": [
        {
          "output_type": "stream",
          "name": "stdout",
          "text": [
            "2\n",
            "2\n",
            "1728\n",
            "25\n"
          ]
        }
      ]
    },
    {
      "cell_type": "markdown",
      "source": [
        "## 📚 Let's practice some comparison operators! Here's a problem for you to solve:\n",
        "\n",
        "🍎 The first basket contains 12 apples, and the second basket contains 8 apples. Use comparison operators to answer the following questions:\n",
        "\n",
        "* Is the number of apples in the first basket greater than the number of apples in the second basket?\n",
        "\n",
        "* Is the number of apples in the second basket less than or equal to the number of apples in the first basket?\n",
        "* Is the number of apples in the first basket equal to the number of apples in the second basket?\n",
        "* Is the number of apples in the second basket not equal to the number of apples in the first basket?\n",
        "\n",
        "Use comparison operators (i.e. >, >=, <, <=, ==, !=) in your code to answer each question. Good luck! 🍎🍏"
      ],
      "metadata": {
        "id": "p3E2Z2zcjPzG"
      }
    },
    {
      "cell_type": "code",
      "source": [
        "basket1=12\n",
        "basket2=8\n",
        "if basket1>basket2:\n",
        "  print(\"Yes, the number of apples in the first basket is greater than the number of apples in the second basket\")\n",
        "if basket2<=basket1:\n",
        "  print(\"Yes, the number of apples in the second basket less than or equal to the number of apples in the first basket\")\n",
        "if basket2==basket1:\n",
        "  print(\"Yes, the number of apples in the second basket is equal to the number of apples in the first basket\")\n",
        "if basket2!=basket1:\n",
        "  print(\"Yes, the number of apples in the second basket is not equal to the number of apples in the first basket\")"
      ],
      "metadata": {
        "colab": {
          "base_uri": "https://localhost:8080/"
        },
        "id": "zDMesh-PjWuh",
        "outputId": "80ead9ad-5d72-4c3e-ef63-8d043baf0253"
      },
      "execution_count": 32,
      "outputs": [
        {
          "output_type": "stream",
          "name": "stdout",
          "text": [
            "Yes, the number of apples in the first basket is greater than the number of apples in the second basket\n",
            "Yes, the number of apples in the second basket less than or equal to the number of apples in the first basket\n",
            "Yes, the number of apples in the second basket is not equal to the number of apples in the first basket\n"
          ]
        }
      ]
    },
    {
      "cell_type": "markdown",
      "source": [
        "## 🌴 Are you ready for your trip to Goa? 🌊 You've got two bags with you, and you need to make sure they're light enough to board the flight. Let's use some logical operators to find out if you can make it on time!\n",
        "\n",
        "🧳 One of your bags weighs 15 kg, while the other one weighs only 5 kg. 💪 You know you can pack a lot more in the heavier bag, but you have to be careful not to go over the weight limit.\n",
        "\n",
        "👮‍♀️ The airline has a strict policy that both of your bags must weigh less than 13 kg each. Can you make it on the flight? Let's use logical operators to find out!"
      ],
      "metadata": {
        "id": "L6zjMc8xjb0X"
      }
    },
    {
      "cell_type": "code",
      "source": [
        "# Define the weight of your bags\n",
        "bag1_weight = 15\n",
        "bag2_weight = 5\n",
        "\n",
        "\n",
        "# Check if both bags weigh less than 13 kg\n",
        "if bag1_weight<13 & bag2_weight<13:\n",
        "  print(\"Enjoy your trip!\")\n",
        "else:\n",
        "  print(\"Sorry, You can not go through!\")"
      ],
      "metadata": {
        "colab": {
          "base_uri": "https://localhost:8080/"
        },
        "id": "XUJJB6a1jfzZ",
        "outputId": "c1943859-fc81-483b-9a81-302bc48edaf0"
      },
      "execution_count": 33,
      "outputs": [
        {
          "output_type": "stream",
          "name": "stdout",
          "text": [
            "Sorry, You can not go through!\n"
          ]
        }
      ]
    },
    {
      "cell_type": "markdown",
      "source": [
        "🧳 Uh oh, it looks like we have a problem with our bags! But don't worry, the crew has offered a solution. 😊\n",
        "\n",
        "👨‍✈️ They've said that if at least one of our bags weighs less than 6 kg, we can still board the flight this time. 🛫\n",
        "\n",
        "🤔 Are we ready for the trip or not? Let's use some logical operators to find out!"
      ],
      "metadata": {
        "id": "mu_XCpXdkEGE"
      }
    },
    {
      "cell_type": "code",
      "source": [
        "# Define the weight of your bags\n",
        "bag1_weight = 15\n",
        "bag2_weight = 5\n",
        "\n",
        "# Check if at least one bag weighs less than 6 kg\n",
        "# If the result is False, print(\"Sorry, You can not go through!\")\n",
        "# Else, if the result is True, print(\"Enjoy your trip!\")\n",
        "if bag1_weight<6 or bag2_weight<6:\n",
        "  print(\"Enjoy your trip!\")\n",
        "else:\n",
        "  print(\"Sorry, You can not go through!\")"
      ],
      "metadata": {
        "colab": {
          "base_uri": "https://localhost:8080/"
        },
        "id": "UU0CGiL0kqMS",
        "outputId": "dccd8104-54b9-4136-f389-5cd9c4209585"
      },
      "execution_count": 34,
      "outputs": [
        {
          "output_type": "stream",
          "name": "stdout",
          "text": [
            "Enjoy your trip!\n"
          ]
        }
      ]
    },
    {
      "cell_type": "markdown",
      "source": [
        "🤔 Did you notice how we made a decision on which print statement to use based on the result of our logical operators? 🤔\n",
        "\n",
        "🚀 Later on, we're going to learn how to do this in a single step, making it even easier for you. So stay curious 😎"
      ],
      "metadata": {
        "id": "p10hB4RNk4wI"
      }
    },
    {
      "cell_type": "markdown",
      "source": [
        "## 📚 Imagine that you're a book lover with a collection of lot of books. 🤓\n",
        "\n",
        "🔎 You need to find out how many of your books contain the word \"Python\" in them. 🐍"
      ],
      "metadata": {
        "id": "VtrTrsIsk9WZ"
      }
    },
    {
      "cell_type": "code",
      "source": [
        "books = [\n",
        "    \"Python for Data Science Handbook by Jake VanderPlas\",\n",
        "    \"The Pragmatic Programmer by Andrew Hunt and David Thomas\",\n",
        "    \"Python Machine Learning by Sebastian Raschka\",\n",
        "    \"The Alchemist by Paulo Coelho\",\n",
        "]"
      ],
      "metadata": {
        "id": "aOLGhp-8lA6b"
      },
      "execution_count": 35,
      "outputs": []
    },
    {
      "cell_type": "code",
      "source": [
        "count=0     # run this only once\n",
        "# Change x to 0,1,2 and 3.\n",
        "if \"Python\" in books[0]:\n",
        "    count=count+1\n",
        "if \"Python\" in books[1]:\n",
        "    count=count+1\n",
        "if \"Python\" in books[2]:\n",
        "    count=count+1\n",
        "if \"Python\" in books[3]:\n",
        "    count=count+1\n",
        "\n",
        "# If True, increase the count variable by 1."
      ],
      "metadata": {
        "id": "Ek1AQjvulElm"
      },
      "execution_count": 36,
      "outputs": []
    },
    {
      "cell_type": "code",
      "source": [
        "print(count)"
      ],
      "metadata": {
        "colab": {
          "base_uri": "https://localhost:8080/"
        },
        "id": "VV7qm2islQtf",
        "outputId": "6d64b7aa-cfc5-47d1-fcc3-675f59872062"
      },
      "execution_count": 37,
      "outputs": [
        {
          "output_type": "stream",
          "name": "stdout",
          "text": [
            "2\n"
          ]
        }
      ]
    },
    {
      "cell_type": "markdown",
      "source": [
        "# **In-Built Functions & Methods**"
      ],
      "metadata": {
        "id": "1_NRIPf_lVn9"
      }
    },
    {
      "cell_type": "markdown",
      "source": [
        "## Here is a string for you to work with:"
      ],
      "metadata": {
        "id": "M5Wpvak3lZih"
      }
    },
    {
      "cell_type": "code",
      "source": [
        "# Here is the statement.\n",
        "\n",
        "statement = \"anas eagerly recommended 'the shawshank redemption' to his friends. He described the movie as a captivating and emotional story of hope and friendship. His friends decided to watch it together the following weekend.\""
      ],
      "metadata": {
        "id": "wwBjdaxAletJ"
      },
      "execution_count": 38,
      "outputs": []
    },
    {
      "cell_type": "code",
      "source": [
        "print(statement)"
      ],
      "metadata": {
        "colab": {
          "base_uri": "https://localhost:8080/"
        },
        "id": "CVt4mkqBlj_h",
        "outputId": "da16ba6b-fc22-4090-96fd-42e1a59935d0"
      },
      "execution_count": 39,
      "outputs": [
        {
          "output_type": "stream",
          "name": "stdout",
          "text": [
            "anas eagerly recommended 'the shawshank redemption' to his friends. He described the movie as a captivating and emotional story of hope and friendship. His friends decided to watch it together the following weekend.\n"
          ]
        }
      ]
    },
    {
      "cell_type": "markdown",
      "source": [
        "1. Create a list containing the three sentences in the statement.\n",
        "Hint: Use split() method."
      ],
      "metadata": {
        "id": "IVRU3PQ6lyHg"
      }
    },
    {
      "cell_type": "code",
      "source": [
        "# Create a list containing the three sentences in the statement.\n",
        "\n",
        "sentence_list= statement.split('.')\n",
        "print(sentence_list)"
      ],
      "metadata": {
        "colab": {
          "base_uri": "https://localhost:8080/"
        },
        "id": "iLQA_f5fl11N",
        "outputId": "82f11f94-38ba-4146-c890-defb9d1fd310"
      },
      "execution_count": 40,
      "outputs": [
        {
          "output_type": "stream",
          "name": "stdout",
          "text": [
            "[\"anas eagerly recommended 'the shawshank redemption' to his friends\", ' He described the movie as a captivating and emotional story of hope and friendship', ' His friends decided to watch it together the following weekend', '']\n"
          ]
        }
      ]
    },
    {
      "cell_type": "markdown",
      "source": [
        "2. The name 'anas' is spelled wrong. Replace it with 'Anas'."
      ],
      "metadata": {
        "id": "8GuJCBEil6Y_"
      }
    },
    {
      "cell_type": "code",
      "source": [
        "# The name 'anas' is spelled wrong.\n",
        "# Replace it with 'Anas'.\n",
        "\n",
        "statement= statement.replace(\"anas\",\"Anas\")  #Redefine the statement, with the correction.\n",
        "print(statement)"
      ],
      "metadata": {
        "colab": {
          "base_uri": "https://localhost:8080/"
        },
        "id": "Jjl2ObdEmAKY",
        "outputId": "59f34bbb-b7bb-4d5e-c752-56f7b0fea259"
      },
      "execution_count": 41,
      "outputs": [
        {
          "output_type": "stream",
          "name": "stdout",
          "text": [
            "Anas eagerly recommended 'the shawshank redemption' to his friends. He described the movie as a captivating and emotional story of hope and friendship. His friends decided to watch it together the following weekend.\n"
          ]
        }
      ]
    },
    {
      "cell_type": "markdown",
      "source": [
        "3. The title of the book is not written in the correct cases as well. Make corrections there."
      ],
      "metadata": {
        "id": "4MTjjWADmE98"
      }
    },
    {
      "cell_type": "code",
      "source": [
        "# Make corrections here.\n",
        "statement=statement.replace(\"the shawshank redemption\",\"The Shawshank Redemption\")\n",
        "print(statement)"
      ],
      "metadata": {
        "colab": {
          "base_uri": "https://localhost:8080/"
        },
        "id": "Ll5N9DormJef",
        "outputId": "6137dfed-9e32-4485-b3ec-a6495870da40"
      },
      "execution_count": 42,
      "outputs": [
        {
          "output_type": "stream",
          "name": "stdout",
          "text": [
            "Anas eagerly recommended 'The Shawshank Redemption' to his friends. He described the movie as a captivating and emotional story of hope and friendship. His friends decided to watch it together the following weekend.\n"
          ]
        }
      ]
    },
    {
      "cell_type": "markdown",
      "source": [
        "4. You believe \"The Shawshank Redemption\" would be bit too gloomy for the lot. Take user input of which movie to recommend and replace \"The Shawshank Redemption\" from the statement with the new recommendation."
      ],
      "metadata": {
        "id": "qoJMh70nmdOs"
      }
    },
    {
      "cell_type": "code",
      "source": [
        "# Change the recommendation of movie to one, of your choice.\n",
        "# Take input of movie\n",
        "\n",
        "new_movie=input(\"Which movie wold you recommend? \")\n",
        "statement=statement.replace(\"The Shawshank Redemption\",new_movie)\n",
        "print(statement)"
      ],
      "metadata": {
        "colab": {
          "base_uri": "https://localhost:8080/"
        },
        "id": "epSkHZV6mhJr",
        "outputId": "d9296849-1228-4b03-8a94-4cbec52f8eee"
      },
      "execution_count": 43,
      "outputs": [
        {
          "output_type": "stream",
          "name": "stdout",
          "text": [
            "Which movie wold you recommend? 12th fail\n",
            "Anas eagerly recommended '12th fail' to his friends. He described the movie as a captivating and emotional story of hope and friendship. His friends decided to watch it together the following weekend.\n"
          ]
        }
      ]
    },
    {
      "cell_type": "markdown",
      "source": [
        "## 🎥 Suppose you have a collection of your favorite movies 🍿🎞️ and you want to keep track of them using a Python list 📜. You start with an empty list [] and keep adding new movies 🆕 to it. You also want to be able to remove movies ❌ that you have watched or no longer wish to keep in your collection. Finally, you want to be able to count 🔢 how many movies you have in your collection and reverse the order of the list 🔄."
      ],
      "metadata": {
        "id": "BVy1kpYVmqnC"
      }
    },
    {
      "cell_type": "code",
      "source": [
        "# Start with an empty list\n",
        "movie_collection = []\n",
        "\n",
        "# Add some movies to the collection using the append() method\n",
        "movie_collection.append(\"RRR\") # Use your favourite movie names\n",
        "movie_collection.append(\"12th fail\")\n",
        "movie_collection.append(\"Bahubali\")\n",
        "movie_collection.append(\"Murder\")\n",
        "movie_collection.append(\"Golmaal\")\n",
        "\n",
        "# Print the current collection of movies\n",
        "print(\"My Movie Collection:\", movie_collection)\n",
        "\n",
        "# Remove a movie from the collection using the pop() method\n",
        "# Code to remove index 3 here\n",
        "movie_collection.pop(3)\n",
        "print(\"After removing movie 4\", movie_collection)\n",
        "\n",
        "# Count how many movies are in the collection using the count() method\n",
        "num_movies=len(movie_collection)\n",
        "print(\"Number of movies:\", num_movies)\n",
        "\n",
        "\n",
        "# Reverse the order of the list using the reverse() method\n",
        "movie_collection.reverse()\n",
        "print(\"Reversed movie collection:\", movie_collection)"
      ],
      "metadata": {
        "colab": {
          "base_uri": "https://localhost:8080/"
        },
        "id": "IYolbnTZmvMj",
        "outputId": "74af42e9-02e3-48a5-b738-dff6a59b979f"
      },
      "execution_count": 44,
      "outputs": [
        {
          "output_type": "stream",
          "name": "stdout",
          "text": [
            "My Movie Collection: ['RRR', '12th fail', 'Bahubali', 'Murder', 'Golmaal']\n",
            "After removing movie 4 ['RRR', '12th fail', 'Bahubali', 'Golmaal']\n",
            "Number of movies: 4\n",
            "Reversed movie collection: ['Golmaal', 'Bahubali', '12th fail', 'RRR']\n"
          ]
        }
      ]
    },
    {
      "cell_type": "markdown",
      "source": [
        "## 👩‍🏫 A teacher has stored the names of his students in a tuple as follows:\n",
        "('Adam','Alice','Ben','Bilal','Bharath')\n",
        "\n",
        "👨‍🎓 Their role numbers are defined as their index number + 1.\n",
        "\n",
        "🖥️ Write a program which would take the name of the student as input and return their role number."
      ],
      "metadata": {
        "id": "mhyHkIICm2_5"
      }
    },
    {
      "cell_type": "code",
      "source": [
        "student_tupple=('Adam','Alice','Ben','Bilal','Bharath')"
      ],
      "metadata": {
        "id": "rlzyqgTvm9Rp"
      },
      "execution_count": 45,
      "outputs": []
    },
    {
      "cell_type": "code",
      "source": [
        "# Take input from user and display role number as index of the input + 1\n",
        "student=input(\"Input the student name to get roll number - \")\n",
        "print(student,\"'s roll number is: \", student_tupple.index(student)+1) # Replace x with appropriate value"
      ],
      "metadata": {
        "colab": {
          "base_uri": "https://localhost:8080/"
        },
        "id": "xpgfmbDCnFdI",
        "outputId": "9e120125-8218-4e8a-bab1-e7274f64ca95"
      },
      "execution_count": 47,
      "outputs": [
        {
          "output_type": "stream",
          "name": "stdout",
          "text": [
            "Input the student name to get roll number - Ben\n",
            "Ben 's roll number is:  3\n"
          ]
        }
      ]
    },
    {
      "cell_type": "markdown",
      "source": [
        "## A store 🏪 sells different types of fruits 🍎🍌🍇🍓 in baskets 🧺. The storekeeper 🧑 keeps track of the availability of each fruit type in separate sets. The storekeeper wants to know which fruits are available in both baskets, which fruits are unique to each basket, and the total number of fruits available. 🤔"
      ],
      "metadata": {
        "id": "VpKKNqI3nSeJ"
      }
    },
    {
      "cell_type": "code",
      "source": [
        "# Define sets for fruits in each basket\n",
        "basket1 = {'apple', 'banana', 'grape', 'orange'}\n",
        "basket2 = {'banana', 'mango', 'pineapple', 'orange'}\n",
        "\n",
        "# Find the total number of fruits available\n",
        "total_fruits = len(basket1)+len(basket2)\n",
        "print(\"Total number of fruits available:\", total_fruits)\n",
        "\n",
        "# Find fruits available in both baskets\n",
        "both_baskets = basket1 | basket2   # Replace x with appropriate method\n",
        "print(\"All the available fruits:\", both_baskets)\n",
        "\n",
        "# Find only the common fruits in both baskets\n",
        "common_fruits = basket1 & basket2   # Replace x with appropriate method\n",
        "print(\"Common fruits in both baskets:\", common_fruits)\n",
        "\n",
        "# Find fruits unique to each basket\n",
        "unique_basket1 = basket1 - basket2    # Replace x with appropriate method\n",
        "unique_basket2 = basket2 - basket1    # Replace x with appropriate method\n",
        "print(\"Fruits unique to basket 1:\", unique_basket1)\n",
        "print(\"Fruits unique to basket 2:\", unique_basket2)"
      ],
      "metadata": {
        "colab": {
          "base_uri": "https://localhost:8080/"
        },
        "id": "nqn5-h01nWeR",
        "outputId": "35486bb5-5000-48ce-f351-45520337092e"
      },
      "execution_count": 48,
      "outputs": [
        {
          "output_type": "stream",
          "name": "stdout",
          "text": [
            "Total number of fruits available: 8\n",
            "All the available fruits: {'grape', 'mango', 'banana', 'pineapple', 'orange', 'apple'}\n",
            "Common fruits in both baskets: {'orange', 'banana'}\n",
            "Fruits unique to basket 1: {'grape', 'apple'}\n",
            "Fruits unique to basket 2: {'mango', 'pineapple'}\n"
          ]
        }
      ]
    },
    {
      "cell_type": "markdown",
      "source": [
        "# **Statements, Indentation & Conditionals**"
      ],
      "metadata": {
        "id": "MvLAZlg5nb7Y"
      }
    },
    {
      "cell_type": "markdown",
      "source": [
        "## 👉 Imagine that you are a food inspector who is responsible for inspecting the lead content of a packaged food material at a factory. If the content exceeds 5%, you should print the message \"This batch cannot be approved\"."
      ],
      "metadata": {
        "id": "LOOH-zhSnf-0"
      }
    },
    {
      "cell_type": "code",
      "source": [
        "# Get the lead content of the packaged food material\n",
        "lead_content = float(input(\"Please enter the lead content of the packaged food material in percentage: \"))\n",
        "\n",
        "# Check if the lead content exceeds 5%\n",
        "if lead_content>5:\n",
        "  print(\"This batch cannot be approved\")\n",
        "else:\n",
        "  print(\"This batch can be approved\")"
      ],
      "metadata": {
        "colab": {
          "base_uri": "https://localhost:8080/"
        },
        "id": "F2IM_y7dnjZV",
        "outputId": "6563376c-a28b-4cdc-bc35-dddb3475bac7"
      },
      "execution_count": 49,
      "outputs": [
        {
          "output_type": "stream",
          "name": "stdout",
          "text": [
            "Please enter the lead content of the packaged food material in percentage: 10\n",
            "This batch cannot be approved\n"
          ]
        }
      ]
    },
    {
      "cell_type": "markdown",
      "source": [
        "## 👉 Imagine: You're a bouncer at a nightclub and need to check if someone is old enough to enter. The legal age for entry is 18 years. If the person is less than 18 years print \"Sorry You can not enter!\"."
      ],
      "metadata": {
        "id": "mZ1PJAtOnq6Z"
      }
    },
    {
      "cell_type": "code",
      "source": [
        "age = int(input(\"enter the age\"))\n",
        "\n",
        "#Check the age of the guest\n",
        "if age<18:\n",
        "  print(\"Sorry You can not enter!\")\n",
        "else:\n",
        "  print(\"Welcome!\")"
      ],
      "metadata": {
        "colab": {
          "base_uri": "https://localhost:8080/"
        },
        "id": "8GZ3O0UVnvNl",
        "outputId": "d5cc48d7-7f09-432f-bdf6-c4ffdb2daf0b"
      },
      "execution_count": 50,
      "outputs": [
        {
          "output_type": "stream",
          "name": "stdout",
          "text": [
            "enter the age45\n",
            "Welcome!\n"
          ]
        }
      ]
    },
    {
      "cell_type": "markdown",
      "source": [
        "## 👉 Imagine you are a fitness instructor who needs to evaluate if a client has reached their weight loss goal. The target weight loss goal is 10 pounds. If the client has lost at least 10 pounds, you should print the message \"Congratulations, you have reached your weight loss goal!\" However, if the client has lost less than 10 pounds, you should print \"Sorry, you have not reached your weight loss goal yet. Keep up the good work!\""
      ],
      "metadata": {
        "id": "YCDqJdXMn-AF"
      }
    },
    {
      "cell_type": "code",
      "source": [
        "# Get the client's weight loss\n",
        "client_weight_loss = float(input(\"Please enter the client's weight loss (in pounds): \"))\n",
        "\n",
        "# Check if the client reached their weight loss goal\n",
        "if client_weight_loss>=10:\n",
        "  print(\"Congratulations, you have reached your weight loss goal!\")\n",
        "else:\n",
        "        print(\"Sorry, you have not reached your weight loss goal yet. Keep up the good work!\")"
      ],
      "metadata": {
        "colab": {
          "base_uri": "https://localhost:8080/"
        },
        "id": "G1TaWI9PoCFV",
        "outputId": "fabb9669-8e9d-411a-ad4b-8c2151f4010c"
      },
      "execution_count": 51,
      "outputs": [
        {
          "output_type": "stream",
          "name": "stdout",
          "text": [
            "Please enter the client's weight loss (in pounds): 10\n",
            "Congratulations, you have reached your weight loss goal!\n"
          ]
        }
      ]
    },
    {
      "cell_type": "markdown",
      "source": [
        "##👉 Imagine: You're a gardener and need to check if a plant needs watering. If the soil moisture level is below 40%, print \"Water the plant!\", otherwise, print \"The plant doesn't need watering.\""
      ],
      "metadata": {
        "id": "TXZzySWhoMz9"
      }
    },
    {
      "cell_type": "code",
      "source": [
        "# Take input of moisture level\n",
        "moisture_level = int(input(\"Enter moisture level \"))\n",
        "\n",
        "#Check if moisture level is satisfactory or not\n",
        "if moisture_level<40:\n",
        "  print(\"Water the plant!\")\n",
        "else:\n",
        "  print(\"The plant doesn't need watering.\")"
      ],
      "metadata": {
        "colab": {
          "base_uri": "https://localhost:8080/"
        },
        "id": "vGaGLvIEoP2p",
        "outputId": "a3c1c733-1fde-4fc1-b09f-82013e0e9e0d"
      },
      "execution_count": 52,
      "outputs": [
        {
          "output_type": "stream",
          "name": "stdout",
          "text": [
            "Enter moisture level 76\n",
            "The plant doesn't need watering.\n"
          ]
        }
      ]
    },
    {
      "cell_type": "markdown",
      "source": [
        "##📦📬🚚 Creating a shipping cost calculator! ⚙️\n",
        "\n",
        "You need to create a program that calculates the cost of shipping a package based on its weight and destination 📦💰\n",
        "\n",
        "🌍 Domestic shipping within the country :\n",
        "\n",
        "* Packages weighing up to 1 kg cost Rs.50 to ship 🤑\n",
        "Each additional kg costs Rs.10 extra 💰\n",
        "\n",
        "🌎 International shipping to other countries 🌏:\n",
        "\n",
        "* Packages weighing up to 1 kg cost Rs.500 to ship 🤑\n",
        "\n",
        "Each additional kg costs Rs.100 extra 💰\n",
        "Ready to ship? 🚛🚀"
      ],
      "metadata": {
        "id": "2ThIe2pkoZ9z"
      }
    },
    {
      "cell_type": "markdown",
      "source": [
        "## 🚗 As a car dealership manager, you need to create a discount system for your customers based on the price of the car they want to buy. Here are the rules! 📝\n",
        "\n",
        "🚘 If the car price is less than Rs. 10,00,000, there is no discount.\n",
        "\n",
        "🎁 If the car price is between Rs. 10,00,000 and Rs. 20,00,000, there is a discount of 5%.\n",
        "\n",
        "🎉 If the car price is between Rs. 20,00,000 and Rs. 30,00,000, there is a discount of 7.5%.\n",
        "\n",
        "🥳 If the car price is greater than Rs. 30,00,000, there is a discount of 10%.\n",
        "\n",
        "Are you ready to make your customers happy with these discounts? 🚗💰"
      ],
      "metadata": {
        "id": "JYnCSIm9oeFE"
      }
    },
    {
      "cell_type": "code",
      "source": [
        "car_price=int(input(\"Enter price of the car\"))\n",
        "if car_price<1000000:\n",
        "  print(\"Sorry ! There is no discount at this price\")\n",
        "if car_price>=1000000 & car_price<2000000"
      ],
      "metadata": {
        "id": "JSwGIm0so73j"
      },
      "execution_count": null,
      "outputs": []
    },
    {
      "cell_type": "markdown",
      "source": [
        "# **Loops & Iterations**"
      ],
      "metadata": {
        "id": "Ke7UrlQNowm6"
      }
    }
  ]
}